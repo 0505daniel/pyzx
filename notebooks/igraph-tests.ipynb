{
 "cells": [
  {
   "cell_type": "code",
   "execution_count": 1,
   "metadata": {},
   "outputs": [],
   "source": [
    "import sys\n",
    "sys.path.append('..')\n",
    "import igraph as ig\n",
    "import multiprocessing as mp\n",
    "from pyzx.drawing import *"
   ]
  },
  {
   "cell_type": "code",
   "execution_count": 38,
   "metadata": {},
   "outputs": [],
   "source": [
    "class ZXGraph():\n",
    "    def __init__(self):\n",
    "        self.ig = ig.Graph()\n",
    "    def set_type(self, g, v, t):\n",
    "        if isinstance(v, int):\n",
    "            g.vs[v]['t'] = t\n",
    "        else:\n",
    "            v['t'] = t\n",
    "    def get_type(self, g, v):\n",
    "        if isinstance(v, int):\n",
    "            return g.vs[v]['t']\n",
    "        else:\n",
    "            return v['t']\n",
    "\n",
    "def match_bialg(g, interior=False):\n",
    "    for e in g.es:\n",
    "        v0 = e.source\n",
    "        v1 = e.target\n",
    "        v0t = g.vs[v0]['t']\n",
    "        v1t = g.vs[v1]['t']\n",
    "        if ((v0t == 1 and v1t == 2) or (v0t == 2 and v1t == 1)):\n",
    "            if (\n",
    "                not interior or (\n",
    "                all([n['t'] == v1t for n in g.vs[v0].neighbors()]) and\n",
    "                all([n['t'] == v0t for n in g.vs[v1].neighbors()]))\n",
    "            ):\n",
    "                return [v0,v1]\n",
    "    return None\n",
    "\n",
    "def match_bialg_parallel(g, num=100):\n",
    "    candidates = set(range(len(g.es)))\n",
    "    #return candidates\n",
    "    i = 0\n",
    "    m = []\n",
    "    while (num == -1 or i < num) and len(candidates) > 0:\n",
    "        e = g.es[candidates.pop()]\n",
    "        #if i >= num: break\n",
    "        v0 = e.source\n",
    "        v1 = e.target\n",
    "        #if v0 in inv or v1 in inv: continue\n",
    "        v0t = g.vs[v0]['t']\n",
    "        v1t = g.vs[v1]['t']\n",
    "        if ((v0t == 1 and v1t == 2) or (v0t == 2 and v1t == 1)):\n",
    "            v0n = [n for n in g.vs[v0].neighbors() if n.index != v1]\n",
    "            v1n = [n for n in g.vs[v1].neighbors() if n.index != v0]\n",
    "            if (\n",
    "                all([n['t'] == v1t for n in v0n]) and\n",
    "                all([n['t'] == v0t for n in v1n])):\n",
    "                i += 1\n",
    "                for v in v0n:\n",
    "                    for c in g.incident(v, mode=ig.ALL): candidates.discard(c)\n",
    "                for v in v1n:\n",
    "                    for c in g.incident(v, mode=ig.ALL): candidates.discard(c)\n",
    "                v0n = [v.index for v in v0n]\n",
    "                v1n = [v.index for v in v1n]\n",
    "                m.append([v0,v1,v0n,v1n])\n",
    "    return m\n",
    "    \n",
    "def bialg_parallel(g, matches):\n",
    "    dv = []\n",
    "    ae = []\n",
    "    de = []\n",
    "    for m in matches:\n",
    "        dv.append(m[0])\n",
    "        dv.append(m[1])\n",
    "        es = [(i,j) for i in m[2] for j in m[3]]\n",
    "        for e in es:\n",
    "            if g.are_connected(e[0], e[1]): de.append(e)\n",
    "            else: ae.append(e)\n",
    "    \n",
    "    g.delete_edges(de)\n",
    "    g.add_edges(ae)\n",
    "    g.delete_vertices(dv)\n",
    "    g.vs.select(_degree=0).delete()\n",
    "    \n",
    "def bialg(g, match, check=False):\n",
    "    v0 = match[0]\n",
    "    v1 = match[1]\n",
    "    v0t = g.vs[v0]['t']\n",
    "    v1t = g.vs[v1]['t']\n",
    "\n",
    "    if check:\n",
    "        if not (\n",
    "            g.are_connected(v0,v1) and\n",
    "            ((v0t == 1 and v1t == 2) or\n",
    "            (v0t == 2 and v1t == 1))\n",
    "        ): return False\n",
    "    \n",
    "    n0 = [n for n in g.vs[v0].neighbors() if n.index != v1]\n",
    "    n1 = [n for n in g.vs[v1].neighbors() if n.index != v0]\n",
    "    \n",
    "    # add dummy nodes around v0, v1 as necessary.\n",
    "    for i in range(len(n0)):\n",
    "        if (n0[i]['t'] != v1t):\n",
    "            g.add_vertex()\n",
    "            newv = g.vs[len(g.vs)-1]\n",
    "            newv['t'] = v1t\n",
    "            g.delete_edges([(v0,n0[i].index)])\n",
    "            g.add_edges([(n0[i].index, newv.index), (newv.index, v0)])\n",
    "            n0[i] = newv\n",
    "    \n",
    "    for i in range(len(n1)):\n",
    "        if (n1[i]['t'] != v0t):\n",
    "            g.add_vertex()\n",
    "            newv = g.vs[len(g.vs)-1]\n",
    "            newv['t'] = v0t\n",
    "            g.delete_edges([(v1,n1[i].index)])\n",
    "            g.add_edges([(v1,newv.index),(newv.index,n1[i].index)])\n",
    "            n1[i] = newv\n",
    "    \n",
    "    for s in n0:\n",
    "        for t in n1:\n",
    "            if g.are_connected(s,t): g.delete_edges([(s,t)])\n",
    "            else: g.add_edge(s,t)\n",
    "    \n",
    "    \n",
    "    # delete vertices at the end so we don't mess up indices\n",
    "    g.delete_vertices([v0,v1] + [v for v in n0 + n1 if v.degree() < 2])\n",
    "    return True"
   ]
  },
  {
   "cell_type": "code",
   "execution_count": 34,
   "metadata": {},
   "outputs": [],
   "source": [
    "def zigzag(sz):\n",
    "    g = ig.Graph()\n",
    "    g.add_vertex(t=None,d=None)\n",
    "    g.add_vertices(2*sz+3)\n",
    "    for i in range(1,sz+1):\n",
    "        g.vs[2*i]['t'] = (i%2)+1\n",
    "        g.vs[2*i+1]['t'] = (i%2)+1\n",
    "    g.add_edges([(0,2),(1,3)])\n",
    "    g.add_edges([(2*i,2*i+2) for i in range(1,sz)])\n",
    "    g.add_edges([(2*i,2*i+3) for i in range(1,sz)])\n",
    "    g.add_edges([(2*i+1,2*i+2) for i in range(1,sz)])\n",
    "    g.add_edges([(2*i+1,2*i+3) for i in range(1,sz)])\n",
    "    g.add_edges([(2*sz,2*sz+2),(2*sz+1,2*sz+3)])\n",
    "    return g"
   ]
  },
  {
   "cell_type": "code",
   "execution_count": 10,
   "metadata": {},
   "outputs": [
    {
     "name": "stdout",
     "output_type": "stream",
     "text": [
      "Wall time: 289 ms\n",
      "Wall time: 0 ns\n",
      "Wall time: 169 ms\n"
     ]
    },
    {
     "data": {
      "text/plain": [
       "True"
      ]
     },
     "execution_count": 10,
     "metadata": {},
     "output_type": "execute_result"
    }
   ],
   "source": [
    "%time g = zigzag(100000)\n",
    "%time m = match_bialg(g, interior=True)\n",
    "%time bialg(g, m)"
   ]
  },
  {
   "cell_type": "code",
   "execution_count": 12,
   "metadata": {},
   "outputs": [
    {
     "name": "stdout",
     "output_type": "stream",
     "text": [
      "CPU times: user 2.06 s, sys: 0 ns, total: 2.06 s\n",
      "Wall time: 2.06 s\n"
     ]
    }
   ],
   "source": [
    "g1 = zigzag(2000)\n",
    "def f():\n",
    "    while True:\n",
    "        m = match_bialg(g1, interior=True)\n",
    "        if m: bialg(g1, m)\n",
    "        else: break\n",
    "\n",
    "%time f()"
   ]
  },
  {
   "cell_type": "code",
   "execution_count": 126,
   "metadata": {},
   "outputs": [
    {
     "name": "stdout",
     "output_type": "stream",
     "text": [
      "Wall time: 620 ms\n",
      "Wall time: 715 ms\n",
      "Wall time: 470 ms\n"
     ]
    }
   ],
   "source": [
    "%time g = zigzag(100000)\n",
    "%time m = match_bialg_parallel(g, num=10000)\n",
    "%time bialg_parallel(g, m)"
   ]
  },
  {
   "cell_type": "code",
   "execution_count": 39,
   "metadata": {},
   "outputs": [
    {
     "data": {
      "text/plain": [
       "[[4, 6, [2, 3, 7], [5, 8, 9]],\n",
       " [10, 12, [8, 9, 13], [11, 14, 15]],\n",
       " [16, 18, [14, 15, 19], [17, 20, 21]],\n",
       " [22, 24, [20, 21, 25], [23, 26, 27]],\n",
       " [28, 30, [26, 27, 31], [29, 32, 33]],\n",
       " [34, 36, [32, 33, 37], [35, 38, 39]]]"
      ]
     },
     "execution_count": 39,
     "metadata": {},
     "output_type": "execute_result"
    }
   ],
   "source": [
    "g = zigzag(20)\n",
    "match_bialg_parallel(g)"
   ]
  },
  {
   "cell_type": "code",
   "execution_count": 42,
   "metadata": {},
   "outputs": [
    {
     "name": "stdout",
     "output_type": "stream",
     "text": [
      "Wall time: 1.37 s\n",
      "normalising ZX diagram with 1000004 vertices and 2000000 edges\n",
      "got 166666 matches of bialgebra\n",
      "got 55555 matches of bialgebra\n",
      "got 18519 matches of bialgebra\n",
      "got 6173 matches of bialgebra\n",
      "got 2057 matches of bialgebra\n",
      "got 686 matches of bialgebra\n",
      "got 229 matches of bialgebra\n",
      "got 76 matches of bialgebra\n",
      "got 25 matches of bialgebra\n",
      "got 9 matches of bialgebra\n",
      "got 3 matches of bialgebra\n",
      "got 1 matches of bialgebra\n",
      "got 0 matches of bialgebra\n",
      "completed in 13 iterations\n",
      "Wall time: 6.67 s\n"
     ]
    }
   ],
   "source": [
    "%time g = zigzag(500000)\n",
    "def f():\n",
    "    print(\"normalising ZX diagram with \" + str(len(g.vs)) +\n",
    "          \" vertices and \" + str(len(g.es)) + \" edges\")\n",
    "    it = 0\n",
    "    while True:\n",
    "        it += 1\n",
    "        m = match_bialg_parallel(g, num=-1)\n",
    "        print(\"got \" + str(len(m)) + \" matches of bialgebra\")\n",
    "        if len(m) != 0: bialg_parallel(g, m)\n",
    "        else: break\n",
    "    print(\"completed in \" + str(it) + \" iterations\")\n",
    "\n",
    "%time f()"
   ]
  },
  {
   "cell_type": "code",
   "execution_count": 33,
   "metadata": {},
   "outputs": [],
   "source": [
    "g.vs[4]['t']"
   ]
  },
  {
   "cell_type": "code",
   "execution_count": 9,
   "metadata": {},
   "outputs": [
    {
     "name": "stdout",
     "output_type": "stream",
     "text": [
      "Wall time: 61.4 ms\n",
      "Wall time: 251 ms\n"
     ]
    }
   ],
   "source": [
    "g = ig.Graph()\n",
    "%time g.add_vertices(10000000)\n",
    "%time g.delete_vertices([9999])"
   ]
  },
  {
   "cell_type": "code",
   "execution_count": 14,
   "metadata": {},
   "outputs": [
    {
     "name": "stdout",
     "output_type": "stream",
     "text": [
      "Wall time: 29.9 s\n"
     ]
    }
   ],
   "source": [
    "%time g = zigzag(10000000)"
   ]
  },
  {
   "cell_type": "code",
   "execution_count": null,
   "metadata": {},
   "outputs": [],
   "source": []
  }
 ],
 "metadata": {
  "kernelspec": {
   "display_name": "Python 3",
   "language": "python",
   "name": "python3"
  },
  "language_info": {
   "codemirror_mode": {
    "name": "ipython",
    "version": 3
   },
   "file_extension": ".py",
   "mimetype": "text/x-python",
   "name": "python",
   "nbconvert_exporter": "python",
   "pygments_lexer": "ipython3",
   "version": "3.6.4"
  }
 },
 "nbformat": 4,
 "nbformat_minor": 2
}
