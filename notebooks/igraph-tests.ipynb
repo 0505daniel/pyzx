{
 "cells": [
  {
   "cell_type": "code",
   "execution_count": 2,
   "metadata": {},
   "outputs": [],
   "source": [
    "import sys\n",
    "sys.path.append('..')\n",
    "import igraph as ig\n",
    "import multiprocessing as mp\n",
    "from pyzx.drawing import *"
   ]
  },
  {
   "cell_type": "code",
   "execution_count": 27,
   "metadata": {},
   "outputs": [],
   "source": [
    "class ZXGraph():\n",
    "    def __init__(self):\n",
    "        self.ig = ig.Graph()\n",
    "    def set_vtype(self, v, t):\n",
    "        if isinstance(v, ig.Vertex):\n",
    "            v['t'] = t\n",
    "        else:\n",
    "            self.ig.vs[v]['t'] = t\n",
    "    def vtype(self, v):\n",
    "        if isinstance(v, ig.Vertex):\n",
    "            return v['t']\n",
    "        else:\n",
    "            return self.ig.vs[v]['t']\n",
    "    def add_vertices(self, n):\n",
    "        self.ig.add_vertices(n)\n",
    "\n",
    "def match_bialg(g, interior=False):\n",
    "    for e in g.es:\n",
    "        v0 = e.source\n",
    "        v1 = e.target\n",
    "        v0t = g.vs[v0]['t']\n",
    "        v1t = g.vs[v1]['t']\n",
    "        if ((v0t == 1 and v1t == 2) or (v0t == 2 and v1t == 1)):\n",
    "            if (\n",
    "                not interior or (\n",
    "                all([n['t'] == v1t for n in g.vs[v0].neighbors()]) and\n",
    "                all([n['t'] == v0t for n in g.vs[v1].neighbors()]))\n",
    "            ):\n",
    "                return [v0,v1]\n",
    "    return None\n",
    "\n",
    "def match_bialg_parallel(g, num=100):\n",
    "    candidates = set(range(len(g.es)))\n",
    "    #return candidates\n",
    "    i = 0\n",
    "    m = []\n",
    "    while (num == -1 or i < num) and len(candidates) > 0:\n",
    "        e = g.es[candidates.pop()]\n",
    "        #if i >= num: break\n",
    "        v0 = e.source\n",
    "        v1 = e.target\n",
    "        #if v0 in inv or v1 in inv: continue\n",
    "        v0t = g.vs[v0]['t']\n",
    "        v1t = g.vs[v1]['t']\n",
    "        if ((v0t == 1 and v1t == 2) or (v0t == 2 and v1t == 1)):\n",
    "            v0n = [n for n in g.vs[v0].neighbors() if n.index != v1]\n",
    "            v1n = [n for n in g.vs[v1].neighbors() if n.index != v0]\n",
    "            if (\n",
    "                all([n['t'] == v1t for n in v0n]) and\n",
    "                all([n['t'] == v0t for n in v1n])):\n",
    "                i += 1\n",
    "                for v in v0n:\n",
    "                    for c in g.incident(v, mode=ig.ALL): candidates.discard(c)\n",
    "                for v in v1n:\n",
    "                    for c in g.incident(v, mode=ig.ALL): candidates.discard(c)\n",
    "                v0n = [v.index for v in v0n]\n",
    "                v1n = [v.index for v in v1n]\n",
    "                m.append([v0,v1,v0n,v1n])\n",
    "    return m\n",
    "    \n",
    "def bialg_parallel(g, matches):\n",
    "    dv = []\n",
    "    ae = []\n",
    "    de = []\n",
    "    for m in matches:\n",
    "        dv.append(m[0])\n",
    "        dv.append(m[1])\n",
    "        es = [(i,j) for i in m[2] for j in m[3]]\n",
    "        for e in es:\n",
    "            if g.are_connected(e[0], e[1]): de.append(e)\n",
    "            else: ae.append(e)\n",
    "    \n",
    "    g.delete_edges(de)\n",
    "    g.add_edges(ae)\n",
    "    g.delete_vertices(dv)\n",
    "    g.vs.select(_degree=0).delete()\n",
    "    \n",
    "def bialg(g, match, check=False):\n",
    "    v0 = match[0]\n",
    "    v1 = match[1]\n",
    "    v0t = g.vs[v0]['t']\n",
    "    v1t = g.vs[v1]['t']\n",
    "\n",
    "    if check:\n",
    "        if not (\n",
    "            g.are_connected(v0,v1) and\n",
    "            ((v0t == 1 and v1t == 2) or\n",
    "            (v0t == 2 and v1t == 1))\n",
    "        ): return False\n",
    "    \n",
    "    n0 = [n for n in g.vs[v0].neighbors() if n.index != v1]\n",
    "    n1 = [n for n in g.vs[v1].neighbors() if n.index != v0]\n",
    "    \n",
    "    # add dummy nodes around v0, v1 as necessary.\n",
    "    for i in range(len(n0)):\n",
    "        if (n0[i]['t'] != v1t):\n",
    "            g.add_vertex()\n",
    "            newv = g.vs[len(g.vs)-1]\n",
    "            newv['t'] = v1t\n",
    "            g.delete_edges([(v0,n0[i].index)])\n",
    "            g.add_edges([(n0[i].index, newv.index), (newv.index, v0)])\n",
    "            n0[i] = newv\n",
    "    \n",
    "    for i in range(len(n1)):\n",
    "        if (n1[i]['t'] != v0t):\n",
    "            g.add_vertex()\n",
    "            newv = g.vs[len(g.vs)-1]\n",
    "            newv['t'] = v0t\n",
    "            g.delete_edges([(v1,n1[i].index)])\n",
    "            g.add_edges([(v1,newv.index),(newv.index,n1[i].index)])\n",
    "            n1[i] = newv\n",
    "    \n",
    "    for s in n0:\n",
    "        for t in n1:\n",
    "            if g.are_connected(s,t): g.delete_edges([(s,t)])\n",
    "            else: g.add_edge(s,t)\n",
    "    \n",
    "    \n",
    "    # delete vertices at the end so we don't mess up indices\n",
    "    g.delete_vertices([v0,v1] + [v for v in n0 + n1 if v.degree() < 2])\n",
    "    return True"
   ]
  },
  {
   "cell_type": "code",
   "execution_count": 36,
   "metadata": {},
   "outputs": [
    {
     "ename": "AttributeError",
     "evalue": "attribute 'source' of 'igraph.Edge' objects is not writable",
     "output_type": "error",
     "traceback": [
      "\u001b[0;31m---------------------------------------------------------------------------\u001b[0m",
      "\u001b[0;31mAttributeError\u001b[0m                            Traceback (most recent call last)",
      "\u001b[0;32m<ipython-input-36-6a18218d4d05>\u001b[0m in \u001b[0;36m<module>\u001b[0;34m()\u001b[0m\n\u001b[1;32m      1\u001b[0m \u001b[0mg\u001b[0m \u001b[0;34m=\u001b[0m \u001b[0mzigzag\u001b[0m\u001b[0;34m(\u001b[0m\u001b[0;36m10\u001b[0m\u001b[0;34m)\u001b[0m\u001b[0;34m\u001b[0m\u001b[0m\n\u001b[0;32m----> 2\u001b[0;31m \u001b[0mg\u001b[0m\u001b[0;34m.\u001b[0m\u001b[0mes\u001b[0m\u001b[0;34m[\u001b[0m\u001b[0;36m4\u001b[0m\u001b[0;34m]\u001b[0m\u001b[0;34m.\u001b[0m\u001b[0msource\u001b[0m \u001b[0;34m=\u001b[0m \u001b[0;36m5\u001b[0m\u001b[0;34m\u001b[0m\u001b[0m\n\u001b[0m",
      "\u001b[0;31mAttributeError\u001b[0m: attribute 'source' of 'igraph.Edge' objects is not writable"
     ]
    }
   ],
   "source": [
    "g = zigzag(10)\n",
    "g.es[4].source = 5"
   ]
  },
  {
   "cell_type": "code",
   "execution_count": 26,
   "metadata": {},
   "outputs": [
    {
     "data": {
      "text/plain": [
       "1"
      ]
     },
     "execution_count": 26,
     "metadata": {},
     "output_type": "execute_result"
    }
   ],
   "source": [
    "g = ZXGraph()\n",
    "g.add_vertices(200)\n",
    "g.set_vtype(g.ig.vs[10], 1)\n",
    "g.vtype(10)"
   ]
  },
  {
   "cell_type": "code",
   "execution_count": 4,
   "metadata": {},
   "outputs": [],
   "source": [
    "def zigzag(sz):\n",
    "    g = ig.Graph()\n",
    "    g.add_vertex(t=None,d=None)\n",
    "    g.add_vertices(2*sz+3)\n",
    "    for i in range(1,sz+1):\n",
    "        g.vs[2*i]['t'] = (i%2)+1\n",
    "        g.vs[2*i+1]['t'] = (i%2)+1\n",
    "    g.add_edges([(0,2),(1,3)])\n",
    "    g.add_edges([(2*i,2*i+2) for i in range(1,sz)])\n",
    "    g.add_edges([(2*i,2*i+3) for i in range(1,sz)])\n",
    "    g.add_edges([(2*i+1,2*i+2) for i in range(1,sz)])\n",
    "    g.add_edges([(2*i+1,2*i+3) for i in range(1,sz)])\n",
    "    g.add_edges([(2*sz,2*sz+2),(2*sz+1,2*sz+3)])\n",
    "    return g"
   ]
  },
  {
   "cell_type": "code",
   "execution_count": 5,
   "metadata": {},
   "outputs": [
    {
     "name": "stdout",
     "output_type": "stream",
     "text": [
      "CPU times: user 6.16 s, sys: 2.19 s, total: 8.34 s\n",
      "Wall time: 8.35 s\n",
      "CPU times: user 0 ns, sys: 0 ns, total: 0 ns\n",
      "Wall time: 6.77 ms\n",
      "CPU times: user 5.72 s, sys: 1.06 s, total: 6.78 s\n",
      "Wall time: 6.91 s\n"
     ]
    },
    {
     "data": {
      "text/plain": [
       "True"
      ]
     },
     "execution_count": 5,
     "metadata": {},
     "output_type": "execute_result"
    }
   ],
   "source": [
    "%time g = zigzag(1000000)\n",
    "%time m = match_bialg(g, interior=True)\n",
    "%time bialg(g, m)"
   ]
  },
  {
   "cell_type": "code",
   "execution_count": 12,
   "metadata": {},
   "outputs": [
    {
     "name": "stdout",
     "output_type": "stream",
     "text": [
      "CPU times: user 2.06 s, sys: 0 ns, total: 2.06 s\n",
      "Wall time: 2.06 s\n"
     ]
    }
   ],
   "source": [
    "g1 = zigzag(2000)\n",
    "def f():\n",
    "    while True:\n",
    "        m = match_bialg(g1, interior=True)\n",
    "        if m: bialg(g1, m)\n",
    "        else: break\n",
    "\n",
    "%time f()"
   ]
  },
  {
   "cell_type": "code",
   "execution_count": 7,
   "metadata": {},
   "outputs": [
    {
     "name": "stdout",
     "output_type": "stream",
     "text": [
      "CPU times: user 29.8 s, sys: 15 s, total: 44.8 s\n",
      "Wall time: 44.8 s\n"
     ]
    }
   ],
   "source": [
    "%time g = zigzag(10**7)"
   ]
  },
  {
   "cell_type": "code",
   "execution_count": 30,
   "metadata": {},
   "outputs": [
    {
     "name": "stdout",
     "output_type": "stream",
     "text": [
      "CPU times: user 1.48 s, sys: 359 ms, total: 1.84 s\n",
      "Wall time: 1.82 s\n",
      "CPU times: user 3.62 s, sys: 188 ms, total: 3.81 s\n",
      "Wall time: 3.84 s\n",
      "CPU times: user 1.62 s, sys: 234 ms, total: 1.86 s\n",
      "Wall time: 1.86 s\n"
     ]
    }
   ],
   "source": [
    "%time g = zigzag(5 * 10**5)\n",
    "%time m = match_bialg_parallel(g, num=-1)\n",
    "%time bialg_parallel(g, m)"
   ]
  },
  {
   "cell_type": "code",
   "execution_count": 39,
   "metadata": {},
   "outputs": [
    {
     "data": {
      "text/plain": [
       "[[4, 6, [2, 3, 7], [5, 8, 9]],\n",
       " [10, 12, [8, 9, 13], [11, 14, 15]],\n",
       " [16, 18, [14, 15, 19], [17, 20, 21]],\n",
       " [22, 24, [20, 21, 25], [23, 26, 27]],\n",
       " [28, 30, [26, 27, 31], [29, 32, 33]],\n",
       " [34, 36, [32, 33, 37], [35, 38, 39]]]"
      ]
     },
     "execution_count": 39,
     "metadata": {},
     "output_type": "execute_result"
    }
   ],
   "source": [
    "g = zigzag(20)\n",
    "match_bialg_parallel(g)"
   ]
  },
  {
   "cell_type": "code",
   "execution_count": 42,
   "metadata": {},
   "outputs": [
    {
     "name": "stdout",
     "output_type": "stream",
     "text": [
      "Wall time: 1.37 s\n",
      "normalising ZX diagram with 1000004 vertices and 2000000 edges\n",
      "got 166666 matches of bialgebra\n",
      "got 55555 matches of bialgebra\n",
      "got 18519 matches of bialgebra\n",
      "got 6173 matches of bialgebra\n",
      "got 2057 matches of bialgebra\n",
      "got 686 matches of bialgebra\n",
      "got 229 matches of bialgebra\n",
      "got 76 matches of bialgebra\n",
      "got 25 matches of bialgebra\n",
      "got 9 matches of bialgebra\n",
      "got 3 matches of bialgebra\n",
      "got 1 matches of bialgebra\n",
      "got 0 matches of bialgebra\n",
      "completed in 13 iterations\n",
      "Wall time: 6.67 s\n"
     ]
    }
   ],
   "source": [
    "%time g = zigzag(500000)\n",
    "def f():\n",
    "    print(\"normalising ZX diagram with \" + str(len(g.vs)) +\n",
    "          \" vertices and \" + str(len(g.es)) + \" edges\")\n",
    "    it = 0\n",
    "    while True:\n",
    "        it += 1\n",
    "        m = match_bialg_parallel(g, num=-1)\n",
    "        print(\"got \" + str(len(m)) + \" matches of bialgebra\")\n",
    "        if len(m) != 0: bialg_parallel(g, m)\n",
    "        else: break\n",
    "    print(\"completed in \" + str(it) + \" iterations\")\n",
    "\n",
    "%time f()"
   ]
  },
  {
   "cell_type": "code",
   "execution_count": 33,
   "metadata": {},
   "outputs": [],
   "source": [
    "g.vs[4]['t']"
   ]
  },
  {
   "cell_type": "code",
   "execution_count": 9,
   "metadata": {},
   "outputs": [
    {
     "name": "stdout",
     "output_type": "stream",
     "text": [
      "Wall time: 61.4 ms\n",
      "Wall time: 251 ms\n"
     ]
    }
   ],
   "source": [
    "g = ig.Graph()\n",
    "%time g.add_vertices(10000000)\n",
    "%time g.delete_vertices([9999])"
   ]
  },
  {
   "cell_type": "code",
   "execution_count": 1,
   "metadata": {},
   "outputs": [
    {
     "ename": "NameError",
     "evalue": "name 'zigzag' is not defined",
     "output_type": "error",
     "traceback": [
      "\u001b[0;31m---------------------------------------------------------------------------\u001b[0m",
      "\u001b[0;31mNameError\u001b[0m                                 Traceback (most recent call last)",
      "\u001b[0;32m<timed exec>\u001b[0m in \u001b[0;36m<module>\u001b[0;34m()\u001b[0m\n",
      "\u001b[0;31mNameError\u001b[0m: name 'zigzag' is not defined"
     ]
    }
   ],
   "source": [
    "%time g = zigzag(1000000)"
   ]
  },
  {
   "cell_type": "code",
   "execution_count": null,
   "metadata": {},
   "outputs": [],
   "source": []
  }
 ],
 "metadata": {
  "kernelspec": {
   "display_name": "Python 3",
   "language": "python",
   "name": "python3"
  },
  "language_info": {
   "codemirror_mode": {
    "name": "ipython",
    "version": 3
   },
   "file_extension": ".py",
   "mimetype": "text/x-python",
   "name": "python",
   "nbconvert_exporter": "python",
   "pygments_lexer": "ipython3",
   "version": "3.5.2"
  }
 },
 "nbformat": 4,
 "nbformat_minor": 2
}
