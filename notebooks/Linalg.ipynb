{
 "cells": [
  {
   "cell_type": "code",
   "execution_count": 1,
   "metadata": {},
   "outputs": [],
   "source": [
    "import sys\n",
    "sys.path.append('..')\n",
    "import pyzx as zx\n",
    "from pyzx.linalg import Mat2"
   ]
  },
  {
   "cell_type": "code",
   "execution_count": 2,
   "metadata": {},
   "outputs": [],
   "source": [
    "m1 = Mat2([[1,0],\n",
    "           [1,1]])\n",
    "m2 = Mat2([[1,1],\n",
    "           [1,1]])\n",
    "m3 = Mat2([[1,0,1,1,0],\n",
    "           [1,1,1,0,0],\n",
    "           [1,1,0,0,1],\n",
    "           [0,1,0,1,0],\n",
    "           [0,0,1,1,0]])\n",
    "m4 = Mat2([[1,0,1,0,0],\n",
    "           [0,1,1,0,0],\n",
    "           [1,1,0,0,1],\n",
    "           [0,1,0,1,0],\n",
    "           [0,0,0,1,1]])"
   ]
  },
  {
   "cell_type": "code",
   "execution_count": 3,
   "metadata": {},
   "outputs": [
    {
     "data": {
      "text/plain": [
       "[ 1  1 ]\n",
       "[ 0  0 ]"
      ]
     },
     "execution_count": 3,
     "metadata": {},
     "output_type": "execute_result"
    }
   ],
   "source": [
    "m1 * m2"
   ]
  },
  {
   "cell_type": "code",
   "execution_count": 4,
   "metadata": {},
   "outputs": [
    {
     "data": {
      "text/plain": [
       "[ 1  0  0  0  0 ]\n",
       "[ 0  1  0  0  1 ]\n",
       "[ 0  0  1  0  1 ]\n",
       "[ 0  0  0  1  1 ]\n",
       "[ 0  0  0  0  0 ]"
      ]
     },
     "execution_count": 4,
     "metadata": {},
     "output_type": "execute_result"
    }
   ],
   "source": [
    "m3c = m3.copy()\n",
    "m3c.gauss(full_reduce=True)\n",
    "m3c"
   ]
  },
  {
   "cell_type": "code",
   "execution_count": 5,
   "metadata": {},
   "outputs": [
    {
     "name": "stdout",
     "output_type": "stream",
     "text": [
      "rank 4 < 5 rows\n",
      "\n",
      "None \n",
      "\n"
     ]
    }
   ],
   "source": [
    "print('rank', m3.rank(), '<', m3.rows(), 'rows\\n')\n",
    "print(m3.inverse(), '\\n')"
   ]
  },
  {
   "cell_type": "code",
   "execution_count": 6,
   "metadata": {},
   "outputs": [
    {
     "name": "stdout",
     "output_type": "stream",
     "text": [
      "rank 5 = 5 rows\n",
      "\n",
      "[ 0  0  1  1  1 ]\n",
      "[ 1  1  1  1  1 ]\n",
      "[ 1  0  1  1  1 ]\n",
      "[ 1  1  1  0  1 ]\n",
      "[ 1  1  1  0  0 ] \n",
      "\n",
      "[ 1  0  0  0  0 ]\n",
      "[ 0  1  0  0  0 ]\n",
      "[ 0  0  1  0  0 ]\n",
      "[ 0  0  0  1  0 ]\n",
      "[ 0  0  0  0  1 ] \n",
      "\n",
      "[ 1  0  0  0  0 ]\n",
      "[ 0  1  0  0  0 ]\n",
      "[ 0  0  1  0  0 ]\n",
      "[ 0  0  0  1  0 ]\n",
      "[ 0  0  0  0  1 ] \n",
      "\n"
     ]
    }
   ],
   "source": [
    "print('rank', m4.rank(), '=', m4.rows(), 'rows\\n')\n",
    "print(m4.inverse(), '\\n')\n",
    "print(m4 * m4.inverse(), '\\n')\n",
    "print(m4.inverse() * m4, '\\n')"
   ]
  },
  {
   "cell_type": "code",
   "execution_count": 20,
   "metadata": {},
   "outputs": [
    {
     "name": "stdout",
     "output_type": "stream",
     "text": [
      "trying:\n",
      "[ 1 ]\n",
      "[ 1 ]\n",
      "[ 1 ]\n",
      "[ 1 ]\n",
      "[ 1 ] \n",
      "\n",
      "solution:\n",
      "None \n",
      "\n",
      "trying:\n",
      "[ 1 ]\n",
      "[ 1 ]\n",
      "[ 0 ]\n",
      "[ 0 ]\n",
      "[ 0 ] \n",
      "\n",
      "solution:\n",
      "[ 1 ]\n",
      "[ 1 ]\n",
      "[ 1 ]\n",
      "[ 1 ]\n",
      "[ 0 ] \n",
      "\n",
      "checking:\n",
      "[ 1 ]\n",
      "[ 1 ]\n",
      "[ 0 ]\n",
      "[ 0 ]\n",
      "[ 0 ] \n",
      "\n"
     ]
    }
   ],
   "source": [
    "b = Mat2([[1],[1],[1],[1],[1]])\n",
    "x = m3.solve(b)\n",
    "print('trying:\\n' + str(b), '\\n')\n",
    "print('solution:\\n' + str(x), '\\n')\n",
    "\n",
    "b = Mat2([[1],[1],[0],[0],[0]])\n",
    "x = m3.solve(b)\n",
    "print('trying:\\n' + str(b), '\\n')\n",
    "print('solution:\\n' + str(x), '\\n')\n",
    "print('checking:\\n' + str(m3 * x), '\\n')"
   ]
  },
  {
   "cell_type": "code",
   "execution_count": 8,
   "metadata": {},
   "outputs": [
    {
     "data": {
      "text/plain": [
       "[ 1 ]\n",
       "[ 0 ]\n",
       "[ 1 ]\n",
       "[ 1 ]\n",
       "[ 0 ]"
      ]
     },
     "execution_count": 8,
     "metadata": {},
     "output_type": "execute_result"
    }
   ],
   "source": [
    "b = Mat2([[1],[0],[1],[1],[0]])\n",
    "x = m4.solve(b)\n",
    "m4 * x"
   ]
  },
  {
   "cell_type": "code",
   "execution_count": 7,
   "metadata": {},
   "outputs": [
    {
     "name": "stdout",
     "output_type": "stream",
     "text": [
      "[ 1  0  0  0 ]\n",
      "[ 1  1  0  0 ]\n",
      "[ 1  1  1  0 ]\n",
      "[ 0  1  0  0 ]\n",
      "[ 0  0  1  1 ]\n",
      "\n",
      "*\n",
      "\n",
      "[ 1  0  1  1  0 ]\n",
      "[ 0  1  0  1  0 ]\n",
      "[ 0  0  1  0  1 ]\n",
      "[ 0  0  0  1  1 ]\n",
      "\n",
      "=\n",
      "\n",
      "[ 1  0  1  1  0 ]\n",
      "[ 1  1  1  0  0 ]\n",
      "[ 1  1  0  0  1 ]\n",
      "[ 0  1  0  1  0 ]\n",
      "[ 0  0  1  1  0 ]\n",
      "\n",
      "==\n",
      "\n",
      "[ 1  0  1  1  0 ]\n",
      "[ 1  1  1  0  0 ]\n",
      "[ 1  1  0  0  1 ]\n",
      "[ 0  1  0  1  0 ]\n",
      "[ 0  0  1  1  0 ]\n"
     ]
    }
   ],
   "source": [
    "mf0,mf1 = m3.factor()\n",
    "print(mf0)\n",
    "print('\\n*\\n')\n",
    "print(mf1)\n",
    "print('\\n=\\n')\n",
    "print(mf0 * mf1)\n",
    "print('\\n==\\n')\n",
    "print(m3)"
   ]
  },
  {
   "cell_type": "code",
   "execution_count": null,
   "metadata": {},
   "outputs": [],
   "source": []
  }
 ],
 "metadata": {
  "kernelspec": {
   "display_name": "Python 3",
   "language": "python",
   "name": "python3"
  },
  "language_info": {
   "codemirror_mode": {
    "name": "ipython",
    "version": 3
   },
   "file_extension": ".py",
   "mimetype": "text/x-python",
   "name": "python",
   "nbconvert_exporter": "python",
   "pygments_lexer": "ipython3",
   "version": "3.5.2"
  }
 },
 "nbformat": 4,
 "nbformat_minor": 2
}
