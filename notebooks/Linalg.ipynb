{
 "cells": [
  {
   "cell_type": "code",
   "execution_count": 1,
   "metadata": {},
   "outputs": [
    {
     "name": "stdout",
     "output_type": "stream",
     "text": [
      "Available backends: simple, igraph\n"
     ]
    }
   ],
   "source": [
    "import sys\n",
    "sys.path.append('..')\n",
    "import pyzx as zx\n",
    "from pyzx.linalg import Mat2"
   ]
  },
  {
   "cell_type": "code",
   "execution_count": 2,
   "metadata": {},
   "outputs": [],
   "source": [
    "m1 = Mat2([[1,0],\n",
    "           [1,1]])\n",
    "m2 = Mat2([[1,1],\n",
    "           [1,1]])\n",
    "m3 = Mat2([[1,0,1,1,0],\n",
    "           [1,1,1,0,0],\n",
    "           [1,1,0,0,1],\n",
    "           [0,1,0,1,0],\n",
    "           [0,0,1,1,0]])"
   ]
  },
  {
   "cell_type": "code",
   "execution_count": 3,
   "metadata": {},
   "outputs": [
    {
     "name": "stdout",
     "output_type": "stream",
     "text": [
      "[ 1  1 ]\n",
      "[ 0  0 ]\n"
     ]
    }
   ],
   "source": [
    "print(m1 * m2)"
   ]
  },
  {
   "cell_type": "code",
   "execution_count": 4,
   "metadata": {},
   "outputs": [
    {
     "data": {
      "text/plain": [
       "4"
      ]
     },
     "execution_count": 4,
     "metadata": {},
     "output_type": "execute_result"
    }
   ],
   "source": [
    "m3.rank()"
   ]
  },
  {
   "cell_type": "code",
   "execution_count": 5,
   "metadata": {},
   "outputs": [
    {
     "name": "stdout",
     "output_type": "stream",
     "text": [
      "[ 1  0  1  1 ]\n",
      "[ 1  1  1  0 ]\n",
      "[ 1  1  0  0 ]\n",
      "[ 0  1  0  1 ]\n",
      "[ 0  0  1  1 ]\n",
      "\n",
      "*\n",
      "\n",
      "[ 1  0  0  0  0 ]\n",
      "[ 0  1  0  0  1 ]\n",
      "[ 0  0  1  0  1 ]\n",
      "[ 0  0  0  1  1 ]\n",
      "\n",
      "=\n",
      "\n",
      "[ 1  0  1  1  0 ]\n",
      "[ 1  1  1  0  0 ]\n",
      "[ 1  1  0  0  1 ]\n",
      "[ 0  1  0  1  0 ]\n",
      "[ 0  0  1  1  0 ]\n",
      "\n",
      "==\n",
      "\n",
      "[ 1  0  1  1  0 ]\n",
      "[ 1  1  1  0  0 ]\n",
      "[ 1  1  0  0  1 ]\n",
      "[ 0  1  0  1  0 ]\n",
      "[ 0  0  1  1  0 ]\n"
     ]
    }
   ],
   "source": [
    "mf0,mf1 = m3.factor()\n",
    "print(mf0)\n",
    "print('\\n*\\n')\n",
    "print(mf1)\n",
    "print('\\n=\\n')\n",
    "print(mf0 * mf1)\n",
    "print('\\n==\\n')\n",
    "print(m3)"
   ]
  },
  {
   "cell_type": "code",
   "execution_count": null,
   "metadata": {},
   "outputs": [],
   "source": []
  }
 ],
 "metadata": {
  "kernelspec": {
   "display_name": "Python 3",
   "language": "python",
   "name": "python3"
  },
  "language_info": {
   "codemirror_mode": {
    "name": "ipython",
    "version": 3
   },
   "file_extension": ".py",
   "mimetype": "text/x-python",
   "name": "python",
   "nbconvert_exporter": "python",
   "pygments_lexer": "ipython3",
   "version": "3.6.4"
  }
 },
 "nbformat": 4,
 "nbformat_minor": 2
}
