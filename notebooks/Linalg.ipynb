{
 "cells": [
  {
   "cell_type": "code",
   "execution_count": 1,
   "metadata": {},
   "outputs": [],
   "source": [
    "import sys\n",
    "sys.path.append('..')\n",
    "import pyzx as zx\n",
    "from pyzx.linalg import Mat2"
   ]
  },
  {
   "cell_type": "code",
   "execution_count": 2,
   "metadata": {},
   "outputs": [],
   "source": [
    "m1 = Mat2([[1,0],\n",
    "           [1,1]])\n",
    "m2 = Mat2([[1,1],\n",
    "           [1,1]])\n",
    "m3 = Mat2([[1,0,1,1,0],\n",
    "           [1,1,1,0,0],\n",
    "           [1,1,0,0,1],\n",
    "           [0,1,0,1,0],\n",
    "           [0,0,1,1,0]])\n",
    "m4 = Mat2([[1,0,1,0,0],\n",
    "           [0,1,1,0,0],\n",
    "           [1,1,0,0,1],\n",
    "           [0,1,0,1,0],\n",
    "           [0,0,0,1,1]])"
   ]
  },
  {
   "cell_type": "code",
   "execution_count": 3,
   "metadata": {},
   "outputs": [
    {
     "data": {
      "text/plain": [
       "True"
      ]
     },
     "execution_count": 3,
     "metadata": {},
     "output_type": "execute_result"
    }
   ],
   "source": [
    "result = Mat2([[1,1],[0,0]])\n",
    "m1 * m2 == result"
   ]
  },
  {
   "cell_type": "code",
   "execution_count": 12,
   "metadata": {},
   "outputs": [
    {
     "data": {
      "text/plain": [
       "[ 1  0  0  0  0 ]\n",
       "[ 0  1  0  0  1 ]\n",
       "[ 1  0  1  0  1 ]\n",
       "[ 0  0  0  1  1 ]\n",
       "[ 0  0  0  0  1 ]"
      ]
     },
     "execution_count": 12,
     "metadata": {},
     "output_type": "execute_result"
    }
   ],
   "source": [
    "m3c = m3.copy()\n",
    "m3c.gauss(full_reduce=True)\n",
    "m3c.data[2][0] = 1\n",
    "m3c.data[4][4] = 1\n",
    "m3c"
   ]
  },
  {
   "cell_type": "code",
   "execution_count": 13,
   "metadata": {},
   "outputs": [
    {
     "name": "stdout",
     "output_type": "stream",
     "text": [
      "AAAHHH\n"
     ]
    }
   ],
   "source": [
    "for i in range(m3c.rows()):\n",
    "    for j in range(min(m3c.cols(),i)):\n",
    "        if m3c.data[i][j]: print(\"AAAHHH\")"
   ]
  },
  {
   "cell_type": "code",
   "execution_count": 5,
   "metadata": {},
   "outputs": [
    {
     "name": "stdout",
     "output_type": "stream",
     "text": [
      "rank 4 < 5 rows\n",
      "\n",
      "None \n",
      "\n"
     ]
    }
   ],
   "source": [
    "print('rank', m3.rank(), '<', m3.rows(), 'rows\\n')\n",
    "print(m3.inverse(), '\\n')"
   ]
  },
  {
   "cell_type": "code",
   "execution_count": 6,
   "metadata": {},
   "outputs": [
    {
     "name": "stdout",
     "output_type": "stream",
     "text": [
      "rank 5 = 5 rows\n",
      "\n",
      "[ 0  0  1  1  1 ]\n",
      "[ 1  1  1  1  1 ]\n",
      "[ 1  0  1  1  1 ]\n",
      "[ 1  1  1  0  1 ]\n",
      "[ 1  1  1  0  0 ] \n",
      "\n",
      "[ 1  0  0  0  0 ]\n",
      "[ 0  1  0  0  0 ]\n",
      "[ 0  0  1  0  0 ]\n",
      "[ 0  0  0  1  0 ]\n",
      "[ 0  0  0  0  1 ] \n",
      "\n",
      "[ 1  0  0  0  0 ]\n",
      "[ 0  1  0  0  0 ]\n",
      "[ 0  0  1  0  0 ]\n",
      "[ 0  0  0  1  0 ]\n",
      "[ 0  0  0  0  1 ] \n",
      "\n"
     ]
    }
   ],
   "source": [
    "print('rank', m4.rank(), '=', m4.rows(), 'rows\\n')\n",
    "print(m4.inverse(), '\\n')\n",
    "print(m4 * m4.inverse(), '\\n')\n",
    "print(m4.inverse() * m4, '\\n')"
   ]
  },
  {
   "cell_type": "code",
   "execution_count": 20,
   "metadata": {},
   "outputs": [
    {
     "name": "stdout",
     "output_type": "stream",
     "text": [
      "trying:\n",
      "[ 1 ]\n",
      "[ 1 ]\n",
      "[ 1 ]\n",
      "[ 1 ]\n",
      "[ 1 ] \n",
      "\n",
      "solution:\n",
      "None \n",
      "\n",
      "trying:\n",
      "[ 1 ]\n",
      "[ 1 ]\n",
      "[ 0 ]\n",
      "[ 0 ]\n",
      "[ 0 ] \n",
      "\n",
      "solution:\n",
      "[ 1 ]\n",
      "[ 1 ]\n",
      "[ 1 ]\n",
      "[ 1 ]\n",
      "[ 0 ] \n",
      "\n",
      "checking:\n",
      "[ 1 ]\n",
      "[ 1 ]\n",
      "[ 0 ]\n",
      "[ 0 ]\n",
      "[ 0 ] \n",
      "\n"
     ]
    }
   ],
   "source": [
    "b = Mat2([[1],[1],[1],[1],[1]])\n",
    "x = m3.solve(b)\n",
    "print('trying:\\n' + str(b), '\\n')\n",
    "print('solution:\\n' + str(x), '\\n')\n",
    "\n",
    "b = Mat2([[1],[1],[0],[0],[0]])\n",
    "x = m3.solve(b)\n",
    "print('trying:\\n' + str(b), '\\n')\n",
    "print('solution:\\n' + str(x), '\\n')\n",
    "print('checking:\\n' + str(m3 * x), '\\n')"
   ]
  },
  {
   "cell_type": "code",
   "execution_count": 8,
   "metadata": {},
   "outputs": [
    {
     "data": {
      "text/plain": [
       "[ 1 ]\n",
       "[ 0 ]\n",
       "[ 1 ]\n",
       "[ 1 ]\n",
       "[ 0 ]"
      ]
     },
     "execution_count": 8,
     "metadata": {},
     "output_type": "execute_result"
    }
   ],
   "source": [
    "b = Mat2([[1],[0],[1],[1],[0]])\n",
    "x = m4.solve(b)\n",
    "m4 * x"
   ]
  },
  {
   "cell_type": "code",
   "execution_count": 7,
   "metadata": {},
   "outputs": [
    {
     "name": "stdout",
     "output_type": "stream",
     "text": [
      "[ 1  0  0  0 ]\n",
      "[ 1  1  0  0 ]\n",
      "[ 1  1  1  0 ]\n",
      "[ 0  1  0  0 ]\n",
      "[ 0  0  1  1 ]\n",
      "\n",
      "*\n",
      "\n",
      "[ 1  0  1  1  0 ]\n",
      "[ 0  1  0  1  0 ]\n",
      "[ 0  0  1  0  1 ]\n",
      "[ 0  0  0  1  1 ]\n",
      "\n",
      "=\n",
      "\n",
      "[ 1  0  1  1  0 ]\n",
      "[ 1  1  1  0  0 ]\n",
      "[ 1  1  0  0  1 ]\n",
      "[ 0  1  0  1  0 ]\n",
      "[ 0  0  1  1  0 ]\n",
      "\n",
      "==\n",
      "\n",
      "[ 1  0  1  1  0 ]\n",
      "[ 1  1  1  0  0 ]\n",
      "[ 1  1  0  0  1 ]\n",
      "[ 0  1  0  1  0 ]\n",
      "[ 0  0  1  1  0 ]\n"
     ]
    }
   ],
   "source": [
    "mf0,mf1 = m3.factor()\n",
    "print(mf0)\n",
    "print('\\n*\\n')\n",
    "print(mf1)\n",
    "print('\\n=\\n')\n",
    "print(mf0 * mf1)\n",
    "print('\\n==\\n')\n",
    "print(m3)"
   ]
  },
  {
   "cell_type": "code",
   "execution_count": 46,
   "metadata": {},
   "outputs": [],
   "source": [
    "m = Mat2([[1, 0, 0, 0, 0, 1, 1, 0, 0, 0],\n",
    " [1, 1, 1, 1, 0, 1, 1, 1, 1, 1],\n",
    " [0, 1, 0, 1, 0, 0, 0, 1, 1, 1],\n",
    " [1, 1, 1, 1, 0, 0, 0, 1, 1, 1],\n",
    " [1, 0, 0, 1, 0, 0, 1, 0, 0, 0],\n",
    " [1, 0, 1, 0, 1, 0, 0, 0, 0, 0]])\n",
    "#m = Mat2([[1, 0, 1, 0, 0], [1, 1, 1, 1, 1], [1, 1, 0, 1, 1], [1, 1, 0, 0, 0]])"
   ]
  },
  {
   "cell_type": "code",
   "execution_count": 28,
   "metadata": {},
   "outputs": [],
   "source": [
    "def xor_rows(l1, l2):\n",
    "    return [0 if l1[i]==l2[i] else 1 for i in range(len(l1))]"
   ]
  },
  {
   "cell_type": "code",
   "execution_count": 8,
   "metadata": {},
   "outputs": [],
   "source": [
    "r = m.rows()\n",
    "c = m.cols()\n",
    "combs = {}\n",
    "for i in range(r):\n",
    "    for j in range(i+1,r):\n",
    "        combs[(i,j)] = xor_rows(m.data[i],m.data[j])"
   ]
  },
  {
   "cell_type": "code",
   "execution_count": 42,
   "metadata": {},
   "outputs": [],
   "source": [
    "def find_minimal_sums(m):\n",
    "    r = m.rows()\n",
    "    d = m.data\n",
    "    combs = {(i,):d[i] for i in range(r)}\n",
    "    while True:\n",
    "        combs2 = {}\n",
    "        for index,l in combs.items():\n",
    "            for k in range(max(index)+1,r):\n",
    "                row = xor_rows(combs[index],d[k])\n",
    "                if sum(row) == 1:\n",
    "                    return (*index,k), row\n",
    "                combs2[(*index,k)] = row\n",
    "        combs = combs2\n",
    "\n",
    "def greedy_reduction(m):\n",
    "    indices, row = find_minimal_sums(m)\n",
    "    indices = list(indices)\n",
    "    rows = {i:m.data[i] for i in indices}\n",
    "    weights = {i: sum(r) for i,r in rows.items()}\n",
    "    result = []\n",
    "    while len(indices)>1:\n",
    "        best = (0,1)\n",
    "        reduction = -1\n",
    "        for i in indices:\n",
    "            for j in indices:\n",
    "                if j <= i: continue\n",
    "                w = sum(xor_rows(rows[i],rows[j]))\n",
    "                if weights[i] - w > reduction:\n",
    "                    best = (j,i) # \"Add row j to i\"\n",
    "                    reduction = weights[i] - w\n",
    "                if weights[j] - w > reduction:\n",
    "                    best = (i,j)\n",
    "                    reduction = weights[j] - w\n",
    "        result.append(best)\n",
    "        control, target = best\n",
    "        rows[target] = xor_rows(rows[control],rows[target])\n",
    "        weights[target] = weights[target] - reduction\n",
    "        indices.remove(control)\n",
    "    return result"
   ]
  },
  {
   "cell_type": "code",
   "execution_count": 47,
   "metadata": {},
   "outputs": [
    {
     "data": {
      "text/plain": [
       "[(2, 1), (0, 1)]"
      ]
     },
     "execution_count": 47,
     "metadata": {},
     "output_type": "execute_result"
    }
   ],
   "source": [
    "optimal_reduction(m)"
   ]
  },
  {
   "cell_type": "code",
   "execution_count": 18,
   "metadata": {},
   "outputs": [],
   "source": [
    "combs3 = {}\n",
    "for index in combs:\n",
    "    for k in range(r):\n",
    "        if any(i>k for i in index): continue\n",
    "        combs3[(index[0],index[1],k)] = xor_rows(combs[index],m.data[k])"
   ]
  },
  {
   "cell_type": "code",
   "execution_count": 19,
   "metadata": {},
   "outputs": [
    {
     "name": "stdout",
     "output_type": "stream",
     "text": [
      "(0, 1, 2) [0, 0, 1, 0, 0, 0, 0, 0, 0, 0]\n",
      "(2, 3, 5) [0, 0, 0, 0, 1, 0, 0, 0, 0, 0]\n",
      "(0, 1, 3) [1, 0, 0, 0, 0, 0, 0, 0, 0, 0]\n"
     ]
    }
   ],
   "source": [
    "for index, l in combs3.items():\n",
    "    if sum(l) == 1:\n",
    "        print(index, l)"
   ]
  },
  {
   "cell_type": "code",
   "execution_count": 39,
   "metadata": {},
   "outputs": [
    {
     "data": {
      "text/plain": [
       "[0, 1, 0, 1, 0, 1, 1, 1, 1, 1]"
      ]
     },
     "execution_count": 39,
     "metadata": {},
     "output_type": "execute_result"
    }
   ],
   "source": [
    "combs3[(*[1,2],3)]"
   ]
  },
  {
   "cell_type": "code",
   "execution_count": 36,
   "metadata": {},
   "outputs": [
    {
     "data": {
      "text/plain": [
       "{(0,): 3, (0, 1): 6, (0, 2): 8, (1,): 9, (1, 2): 4, (2,): 5}"
      ]
     },
     "execution_count": 36,
     "metadata": {},
     "output_type": "execute_result"
    }
   ],
   "source": [
    "indices = (0,1,2)\n",
    "combs = {(i,):m.data[i] for i in indices}\n",
    "weights = {(i,): sum(m.data[i]) for i in indices}\n",
    "for i in indices:\n",
    "    for j in indices[i+1:]:\n",
    "        row = xor_rows(m.data[i],m.data[j])\n",
    "        combs[(i,j)] = row\n",
    "        weights[(i,j)] = sum(row)\n",
    "weights"
   ]
  },
  {
   "cell_type": "code",
   "execution_count": 57,
   "metadata": {},
   "outputs": [
    {
     "name": "stdout",
     "output_type": "stream",
     "text": [
      "row_add 2 3\n",
      "row_add 2 4\n",
      "row_add 2 5\n",
      "row_add 2 4\n",
      "row_add 2 5\n",
      "row_add 2 3\n"
     ]
    },
    {
     "data": {
      "text/plain": [
       "[ 1  0  0  0  0  1  1  0  0  0 ]\n",
       "[ 0  1  1  1  0  0  0  1  1  1 ]\n",
       "[ 0  0  1  0  0  0  0  0  0  0 ]\n",
       "[ 0  0  0  1  0  0  1  0  0  0 ]\n",
       "[ 0  0  0  0  1  0  0  0  0  0 ]\n",
       "[ 0  0  0  0  0  1  1  0  0  0 ]"
      ]
     },
     "execution_count": 57,
     "metadata": {},
     "output_type": "execute_result"
    }
   ],
   "source": [
    "class GaussPrinter:\n",
    "    def row_add(self,i,j):\n",
    "        print(\"row_add\",i,j)\n",
    "\n",
    "g = GaussPrinter()\n",
    "m.gauss(x=g)\n",
    "m"
   ]
  },
  {
   "cell_type": "code",
   "execution_count": 63,
   "metadata": {},
   "outputs": [
    {
     "data": {
      "text/plain": [
       "{1: 2, 4: 5}"
      ]
     },
     "execution_count": 63,
     "metadata": {},
     "output_type": "execute_result"
    }
   ],
   "source": [
    "d = {1:2,3:4,4:5}\n",
    "for v in d:\n",
    "    if v == 3:\n",
    "        del d[v]\n",
    "        break\n",
    "d"
   ]
  }
 ],
 "metadata": {
  "kernelspec": {
   "display_name": "Python 3",
   "language": "python",
   "name": "python3"
  },
  "language_info": {
   "codemirror_mode": {
    "name": "ipython",
    "version": 3
   },
   "file_extension": ".py",
   "mimetype": "text/x-python",
   "name": "python",
   "nbconvert_exporter": "python",
   "pygments_lexer": "ipython3",
   "version": "3.5.2"
  }
 },
 "nbformat": 4,
 "nbformat_minor": 2
}
