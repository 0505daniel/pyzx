{
 "cells": [
  {
   "cell_type": "code",
   "execution_count": 59,
   "metadata": {},
   "outputs": [],
   "source": [
    "import graph_tool.all as gt\n",
    "import numpy as np\n",
    "import itertools"
   ]
  },
  {
   "cell_type": "code",
   "execution_count": 313,
   "metadata": {},
   "outputs": [],
   "source": [
    "def ZXGraph():\n",
    "    g = gt.Graph(directed=False)\n",
    "    g.set_fast_edge_removal()\n",
    "    g.vp.type = g.new_vertex_property('int')\n",
    "    g.vp.remove = g.new_vertex_property('bool')\n",
    "    #g.set_vertex_filter(g.vp.remove, inverted=True)\n",
    "    return g\n",
    "\n",
    "def vcol(t):\n",
    "    if t == 0: return 'black'\n",
    "    if t == 1: return 'green'\n",
    "    if t == 2: return 'red'\n",
    "    return 'white'\n",
    "\n",
    "def vcols(g):\n",
    "    cols = g.new_vertex_property('string')\n",
    "    for v in g.vertices():\n",
    "        cols[v] = vcol(g.vp.type[v])\n",
    "    return cols\n",
    "\n",
    "def match_bialg(g, interior=False):\n",
    "    for e in g.edges():\n",
    "        v0 = e.source()\n",
    "        v1 = e.target()\n",
    "        v0t = g.vp.type[v0]\n",
    "        v1t = g.vp.type[v1]\n",
    "        if ((v0t == 1 and v1t == 2) or (v0t == 2 and v1t == 1)):\n",
    "            if (\n",
    "                not interior or (\n",
    "                all([g.vp.type[n] == v1t for n in v0.all_neighbors()]) and\n",
    "                all([g.vp.type[n] == v0t for n in v1.all_neighbors()]))\n",
    "            ):\n",
    "                return [v0,v1]\n",
    "    return None\n",
    "\n",
    "def bialg(g, match, check=False):\n",
    "    v0 = match[0]\n",
    "    v1 = match[1]\n",
    "    v0t = g.vp.type[v0]\n",
    "    v1t = g.vp.type[v1]\n",
    "\n",
    "    if check:\n",
    "        if not (\n",
    "            g.edge(v0,v1) and\n",
    "            ((v0t == 1 and v1t == 2) or\n",
    "            (v0t == 2 and v1t == 1))\n",
    "        ): return False\n",
    "    \n",
    "    n0 = [n for n in v0.all_neighbors() if n != v1]\n",
    "    n1 = [n for n in v1.all_neighbors() if n != v0]\n",
    "    \n",
    "    # add dummy nodes around v0, v1 as necessary.\n",
    "    for i in range(len(n0)):\n",
    "        if (g.vp.type[n0[i]] != v1t):\n",
    "            newv = g.add_vertex()\n",
    "            g.vp.type[newv] = v1t\n",
    "            \n",
    "            g.remove_edge(g.edge(v0,n0[i]))\n",
    "            g.add_edge_list([(n0[i], newv), (newv, v0)])\n",
    "            n0[i] = newv\n",
    "    \n",
    "    for i in range(len(n1)):\n",
    "        if (g.vp.type[n1[i]] != v0t):\n",
    "            newv = g.add_vertex()\n",
    "            g.vp.type[newv] = v0t\n",
    "            g.remove_edge(g.edge(v1,n1[i].index))\n",
    "            g.add_edge_list([(v1,newv),(newv,n1[i])])\n",
    "            n1[i] = newv\n",
    "    \n",
    "    for s in n0:\n",
    "        for t in n1:\n",
    "            e = g.edge(s,t)\n",
    "            if e: g.remove_edge(e)\n",
    "            else: g.add_edge(s, t)\n",
    "    \n",
    "    # delete vertices at the end so we don't mess up indices. Note indices need to be deleted from\n",
    "    # last to first.\n",
    "    del_list = [v0,v1] + [v for v in n0 + n1 if v.in_degree() + v.out_degree() < 2]\n",
    "    for v in reversed(sorted(del_list)):\n",
    "        g.remove_vertex(v, fast=True)\n",
    "    return True\n",
    "\n",
    "\n",
    "def match_bialg_parallel(g, num=100):\n",
    "    candidates = set(g.edges())\n",
    "    ty = g.vp.type.a\n",
    "    #return candidates\n",
    "    i = 0\n",
    "    m = []\n",
    "    while (num == -1 or i < num) and len(candidates) > 0:\n",
    "        e = candidates.pop()\n",
    "        #if i >= num: break\n",
    "        v0 = e.source()\n",
    "        v1 = e.target()\n",
    "        #if v0 in inv or v1 in inv: continue\n",
    "        v0t = ty[int(v0)]\n",
    "        v1t = ty[int(v1)]\n",
    "        \n",
    "        if ((v0t == 1 and v1t == 2) or (v0t == 2 and v1t == 1)):\n",
    "            v0n = [n for n in v0.all_neighbors() if n != v1]\n",
    "            v1n = [n for n in v1.all_neighbors() if n != v0]\n",
    "            if (\n",
    "                all([ty[int(n)] == v1t for n in v0n]) and\n",
    "                all([ty[int(n)] == v0t for n in v1n])):\n",
    "                i += 1\n",
    "                for v in v0n:\n",
    "                    candidates.discard(g.edge(v0,v))\n",
    "                for v in v1n:\n",
    "                    candidates.discard(g.edge(v1,v))\n",
    "                m.append([int(v0),int(v1),list(map(int,v0n)),list(map(int,v1n))])\n",
    "    return m"
   ]
  },
  {
   "cell_type": "code",
   "execution_count": 315,
   "metadata": {},
   "outputs": [
    {
     "name": "stdout",
     "output_type": "stream",
     "text": [
      "CPU times: user 15.6 ms, sys: 0 ns, total: 15.6 ms\n",
      "Wall time: 22 ms\n",
      "CPU times: user 5.33 s, sys: 0 ns, total: 5.33 s\n",
      "Wall time: 5.33 s\n"
     ]
    }
   ],
   "source": [
    "sz = 5 * 10**3\n",
    "%time g = zigzag(sz)\n",
    "%time m = match_bialg_parallel(g, num=-1)"
   ]
  },
  {
   "cell_type": "code",
   "execution_count": 308,
   "metadata": {},
   "outputs": [
    {
     "data": {
      "text/plain": [
       "True"
      ]
     },
     "execution_count": 308,
     "metadata": {},
     "output_type": "execute_result"
    }
   ],
   "source": [
    "g = zigzag(10)\n",
    "match_bialg_parallel(g)\n",
    "ns = list(g.vertex(4).all_neighbors())\n",
    "ns[0] == 6"
   ]
  },
  {
   "cell_type": "code",
   "execution_count": 271,
   "metadata": {},
   "outputs": [
    {
     "name": "stdout",
     "output_type": "stream",
     "text": [
      "CPU times: user 10.3 s, sys: 5.72 s, total: 16 s\n",
      "Wall time: 16 s\n"
     ]
    }
   ],
   "source": [
    "#%time c = [(e[2],(e[0],e[1])) for e in g.get_edges()]\n",
    "%time c = set(g.edges())"
   ]
  },
  {
   "cell_type": "code",
   "execution_count": 281,
   "metadata": {},
   "outputs": [
    {
     "name": "stdout",
     "output_type": "stream",
     "text": [
      "CPU times: user 0 ns, sys: 0 ns, total: 0 ns\n",
      "Wall time: 481 µs\n"
     ]
    },
    {
     "data": {
      "text/plain": [
       "array([[      10,       12,        6],\n",
       "       [      10,       13,  5000005],\n",
       "       [      10,        8,        5],\n",
       "       [      10,        9, 10000003]], dtype=uint64)"
      ]
     },
     "execution_count": 281,
     "metadata": {},
     "output_type": "execute_result"
    }
   ],
   "source": [
    "%time g.get_out_edges(10)"
   ]
  },
  {
   "cell_type": "code",
   "execution_count": 236,
   "metadata": {},
   "outputs": [
    {
     "name": "stdout",
     "output_type": "stream",
     "text": [
      "CPU times: user 156 ms, sys: 141 ms, total: 297 ms\n",
      "Wall time: 298 ms\n"
     ]
    }
   ],
   "source": [
    "%time cs = set(range(len(em)))"
   ]
  },
  {
   "cell_type": "code",
   "execution_count": 112,
   "metadata": {},
   "outputs": [
    {
     "name": "stdout",
     "output_type": "stream",
     "text": [
      "CPU times: user 688 ms, sys: 15.6 ms, total: 703 ms\n",
      "Wall time: 684 ms\n"
     ]
    }
   ],
   "source": [
    "sz = 1000000\n",
    "g = gt.Graph(directed=False)\n",
    "g.add_vertex(n=2*sz+4)\n",
    "ty = g.new_vertex_property('int')\n",
    "g.vertex_properties['type'] = ty\n",
    "%time np.copyto(ty.a, [0,0] + [(x//2) % 2 + 1 for x in range(0,2*sz)] + [0,0])\n"
   ]
  },
  {
   "cell_type": "code",
   "execution_count": 256,
   "metadata": {},
   "outputs": [],
   "source": [
    "def zigzag(sz):\n",
    "    g = gt.Graph(directed = False)\n",
    "    g.add_vertex(n=2*sz+4)\n",
    "    ty = g.new_vertex_property('int') #, vals=[0,0] + [(x//2) % 2 + 1 for x in range(0,2*sz)] + [0,0])\n",
    "    g.vertex_properties['type'] = ty\n",
    "    ty.a = np.array([0,0] + [(x//2) % 2 + 1 for x in range(0,2*sz)] + [0,0])\n",
    "    g.add_edge_list([(0,2),(1,3)])\n",
    "    g.add_edge_list([(2*i,2*i+2) for i in range(1,sz)])\n",
    "    g.add_edge_list([(2*i,2*i+3) for i in range(1,sz)])\n",
    "    g.add_edge_list([(2*i+1,2*i+2) for i in range(1,sz)])\n",
    "    g.add_edge_list([(2*i+1,2*i+3) for i in range(1,sz)])\n",
    "    g.add_edge_list([(2*sz,2*sz+2),(2*sz+1,2*sz+3)])\n",
    "    return g"
   ]
  },
  {
   "cell_type": "code",
   "execution_count": 12,
   "metadata": {},
   "outputs": [
    {
     "name": "stdout",
     "output_type": "stream",
     "text": [
      "CPU times: user 234 ms, sys: 656 ms, total: 891 ms\n",
      "Wall time: 888 ms\n",
      "CPU times: user 15.6 ms, sys: 31.2 ms, total: 46.9 ms\n",
      "Wall time: 38.1 ms\n"
     ]
    }
   ],
   "source": [
    "g = ZXGraph()\n",
    "%time g.add_vertex(n=10000000)\n",
    "%time g.remove_vertex(9999, fast=True)"
   ]
  },
  {
   "cell_type": "code",
   "execution_count": 117,
   "metadata": {},
   "outputs": [
    {
     "name": "stdout",
     "output_type": "stream",
     "text": [
      "CPU times: user 5.95 s, sys: 1.59 s, total: 7.55 s\n",
      "Wall time: 7.53 s\n",
      "CPU times: user 0 ns, sys: 0 ns, total: 0 ns\n",
      "Wall time: 992 µs\n",
      "CPU times: user 0 ns, sys: 0 ns, total: 0 ns\n",
      "Wall time: 1.79 ms\n"
     ]
    },
    {
     "data": {
      "text/plain": [
       "True"
      ]
     },
     "execution_count": 117,
     "metadata": {},
     "output_type": "execute_result"
    }
   ],
   "source": [
    "%time g = zigzag(1000000)\n",
    "%time m = match_bialg(g, interior=True)\n",
    "%time bialg(g, m)"
   ]
  },
  {
   "cell_type": "code",
   "execution_count": 123,
   "metadata": {},
   "outputs": [
    {
     "name": "stdout",
     "output_type": "stream",
     "text": [
      "CPU times: user 15.6 ms, sys: 0 ns, total: 15.6 ms\n",
      "Wall time: 16.3 ms\n",
      "CPU times: user 4.61 s, sys: 0 ns, total: 4.61 s\n",
      "Wall time: 4.61 s\n"
     ]
    }
   ],
   "source": [
    "%time g1 = zigzag(5000)\n",
    "def f():\n",
    "    while True:\n",
    "        m = match_bialg(g1, interior=True)\n",
    "        if m: bialg(g1, m)\n",
    "        else: break\n",
    "%time f()"
   ]
  },
  {
   "cell_type": "code",
   "execution_count": 124,
   "metadata": {},
   "outputs": [
    {
     "data": {
      "image/png": "[encoded data removed]",
      "text/plain": [
       "<IPython.core.display.Image object>"
      ]
     },
     "metadata": {},
     "output_type": "display_data"
    },
    {
     "data": {
      "text/plain": [
       "<PropertyMap object with key type 'Vertex' and value type 'vector<double>', for Graph 0x7f9daf2a6080, at 0x7f9dafd52c88>"
      ]
     },
     "execution_count": 124,
     "metadata": {},
     "output_type": "execute_result"
    }
   ],
   "source": [
    "gt.graph_draw(g1, output_size=(800,200), vertex_size=5, vertex_fill_color=vcols(g1))"
   ]
  },
  {
   "cell_type": "code",
   "execution_count": 19,
   "metadata": {},
   "outputs": [
    {
     "name": "stdout",
     "output_type": "stream",
     "text": [
      "CPU times: user 36.1 s, sys: 15.3 s, total: 51.4 s\n",
      "Wall time: 51.5 s\n"
     ]
    }
   ],
   "source": [
    "%time g = zigzag(10000000)"
   ]
  },
  {
   "cell_type": "code",
   "execution_count": null,
   "metadata": {},
   "outputs": [],
   "source": []
  }
 ],
 "metadata": {
  "kernelspec": {
   "display_name": "Python 3",
   "language": "python",
   "name": "python3"
  },
  "language_info": {
   "codemirror_mode": {
    "name": "ipython",
    "version": 3
   },
   "file_extension": ".py",
   "mimetype": "text/x-python",
   "name": "python",
   "nbconvert_exporter": "python",
   "pygments_lexer": "ipython3",
   "version": "3.5.2"
  }
 },
 "nbformat": 4,
 "nbformat_minor": 2
}
