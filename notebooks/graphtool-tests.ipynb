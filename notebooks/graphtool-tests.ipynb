{
 "cells": [
  {
   "cell_type": "code",
   "execution_count": 94,
   "metadata": {},
   "outputs": [],
   "source": [
    "import graph_tool.all as gt"
   ]
  },
  {
   "cell_type": "code",
   "execution_count": 182,
   "metadata": {},
   "outputs": [],
   "source": [
    "def ZXGraph():\n",
    "    g = gt.Graph(directed=False)\n",
    "    g.set_fast_edge_removal()\n",
    "    g.vp.type = g.new_vertex_property('int')\n",
    "    return g\n",
    "\n",
    "def vcol(t):\n",
    "    if t == 0: return 'black'\n",
    "    if t == 1: return 'green'\n",
    "    if t == 2: return 'red'\n",
    "    return 'white'\n",
    "\n",
    "def vcols(g):\n",
    "    cols = g.new_vertex_property('string')\n",
    "    for v in g.vertices():\n",
    "        cols[v] = vcol(g.vp.type[v])\n",
    "    return cols\n",
    "\n",
    "def match_bialg(g, interior=False):\n",
    "    for e in g.edges():\n",
    "        v0 = e.source()\n",
    "        v1 = e.target()\n",
    "        v0t = g.vp.type[v0]\n",
    "        v1t = g.vp.type[v1]\n",
    "        if ((v0t == 1 and v1t == 2) or (v0t == 2 and v1t == 1)):\n",
    "            if (\n",
    "                not interior or (\n",
    "                all([g.vp.type[n] == v1t for n in v0.all_neighbors()]) and\n",
    "                all([g.vp.type[n] == v0t for n in v1.all_neighbors()]))\n",
    "            ):\n",
    "                return [v0,v1]\n",
    "    return None\n",
    "\n",
    "def bialg(g, match, check=False):\n",
    "    v0 = match[0]\n",
    "    v1 = match[1]\n",
    "    v0t = g.vp.type[v0]\n",
    "    v1t = g.vp.type[v1]\n",
    "\n",
    "    if check:\n",
    "        if not (\n",
    "            g.edge(v0,v1) and\n",
    "            ((v0t == 1 and v1t == 2) or\n",
    "            (v0t == 2 and v1t == 1))\n",
    "        ): return False\n",
    "    \n",
    "    n0 = [n for n in v0.all_neighbors() if n != v1]\n",
    "    n1 = [n for n in v1.all_neighbors() if n != v0]\n",
    "    \n",
    "    # add dummy nodes around v0, v1 as necessary.\n",
    "    for i in range(len(n0)):\n",
    "        if (g.vp.type[n0[i]] != v1t):\n",
    "            newv = g.add_vertex()\n",
    "            g.vp.type[newv] = v1t\n",
    "            \n",
    "            g.remove_edge(g.edge(v0,n0[i]))\n",
    "            g.add_edge_list([(n0[i], newv), (newv, v0)])\n",
    "            n0[i] = newv\n",
    "    \n",
    "    for i in range(len(n1)):\n",
    "        if (g.vp.type[n1[i]] != v0t):\n",
    "            newv = g.add_vertex()\n",
    "            g.vp.type[newv] = v0t\n",
    "            g.remove_edge(g.edge(v1,n1[i].index))\n",
    "            g.add_edge_list([(v1,newv),(newv,n1[i])])\n",
    "            n1[i] = newv\n",
    "    \n",
    "    for s in n0:\n",
    "        for t in n1:\n",
    "            e = g.edge(s,t)\n",
    "            if e: g.remove_edge(e)\n",
    "            else: g.add_edge(s, t)\n",
    "    \n",
    "    # delete vertices at the end so we don't mess up indices. Note indices need to be deleted from\n",
    "    # last to first.\n",
    "    del_list = [v0,v1] + [v for v in n0 + n1 if v.in_degree() + v.out_degree() < 2]\n",
    "    for v in reversed(sorted(del_list)):\n",
    "        g.remove_vertex(v, fast=True)\n",
    "    return True"
   ]
  },
  {
   "cell_type": "code",
   "execution_count": 107,
   "metadata": {},
   "outputs": [],
   "source": [
    "def zigzag(sz):\n",
    "    g = ZXGraph()\n",
    "    g.add_vertex(n=2*sz+4)\n",
    "    for i in range(1,sz+1):\n",
    "        g.vp.type[g.vertex(2*i)] = (i%2)+1\n",
    "        g.vp.type[g.vertex(2*i+1)] = (i%2)+1\n",
    "    g.add_edge_list([(0,2),(1,3)])\n",
    "    g.add_edge_list([(2*i,2*i+2) for i in range(1,sz)])\n",
    "    g.add_edge_list([(2*i,2*i+3) for i in range(1,sz)])\n",
    "    g.add_edge_list([(2*i+1,2*i+2) for i in range(1,sz)])\n",
    "    g.add_edge_list([(2*i+1,2*i+3) for i in range(1,sz)])\n",
    "    g.add_edge_list([(2*sz,2*sz+2),(2*sz+1,2*sz+3)])\n",
    "    return g"
   ]
  },
  {
   "cell_type": "code",
   "execution_count": 191,
   "metadata": {},
   "outputs": [
    {
     "name": "stdout",
     "output_type": "stream",
     "text": [
      "CPU times: user 6.5 s, sys: 109 ms, total: 6.61 s\n",
      "Wall time: 6.61 s\n"
     ]
    },
    {
     "data": {
      "text/plain": [
       "<Graph object, undirected, with 200004 vertices and 400000 edges at 0x7f2e365948d0>"
      ]
     },
     "execution_count": 191,
     "metadata": {},
     "output_type": "execute_result"
    }
   ],
   "source": [
    "%time g = zigzag(100000)\n",
    "g"
   ]
  },
  {
   "cell_type": "code",
   "execution_count": 184,
   "metadata": {},
   "outputs": [
    {
     "name": "stdout",
     "output_type": "stream",
     "text": [
      "CPU times: user 12.5 s, sys: 15.6 ms, total: 12.5 s\n",
      "Wall time: 12.7 s\n"
     ]
    }
   ],
   "source": [
    "def f():\n",
    "    while True:\n",
    "        m = match_bialg(g, interior=True)\n",
    "        if m: bialg(g, m)\n",
    "        else: break\n",
    "%time f()"
   ]
  },
  {
   "cell_type": "code",
   "execution_count": 179,
   "metadata": {},
   "outputs": [
    {
     "data": {
      "image/png": "[encoded data removed]",
      "text/plain": [
       "<IPython.core.display.Image object>"
      ]
     },
     "metadata": {},
     "output_type": "display_data"
    },
    {
     "data": {
      "text/plain": [
       "<PropertyMap object with key type 'Vertex' and value type 'vector<double>', for Graph 0x7f2e39e6a6d8, at 0x7f2e39e665c0>"
      ]
     },
     "execution_count": 179,
     "metadata": {},
     "output_type": "execute_result"
    }
   ],
   "source": [
    "gt.graph_draw(g, output_size=(800,200), vertex_size=5, vertex_fill_color=vcols(g))"
   ]
  },
  {
   "cell_type": "code",
   "execution_count": 185,
   "metadata": {},
   "outputs": [
    {
     "data": {
      "text/plain": [
       "True"
      ]
     },
     "execution_count": 185,
     "metadata": {},
     "output_type": "execute_result"
    }
   ],
   "source": [
    "gt.openmp_enabled()"
   ]
  },
  {
   "cell_type": "code",
   "execution_count": 187,
   "metadata": {},
   "outputs": [
    {
     "data": {
      "text/plain": [
       "8"
      ]
     },
     "execution_count": 187,
     "metadata": {},
     "output_type": "execute_result"
    }
   ],
   "source": [
    "gt.openmp_get_num_threads()"
   ]
  },
  {
   "cell_type": "code",
   "execution_count": null,
   "metadata": {},
   "outputs": [],
   "source": []
  }
 ],
 "metadata": {
  "kernelspec": {
   "display_name": "Python 3",
   "language": "python",
   "name": "python3"
  },
  "language_info": {
   "codemirror_mode": {
    "name": "ipython",
    "version": 3
   },
   "file_extension": ".py",
   "mimetype": "text/x-python",
   "name": "python",
   "nbconvert_exporter": "python",
   "pygments_lexer": "ipython3",
   "version": "3.5.2"
  }
 },
 "nbformat": 4,
 "nbformat_minor": 2
}
