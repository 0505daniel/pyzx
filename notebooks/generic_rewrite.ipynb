{
 "cells": [
  {
   "cell_type": "code",
   "execution_count": 1,
   "metadata": {},
   "outputs": [
    {
     "name": "stdout",
     "output_type": "stream",
     "text": [
      "Available backends: igraph, simple\n"
     ]
    }
   ],
   "source": [
    "import sys\n",
    "sys.path.append('..')\n",
    "from pyzx.graph import Graph\n",
    "from pyzx.rules import *\n",
    "from pyzx.examples import zigzag"
   ]
  },
  {
   "cell_type": "code",
   "execution_count": 3,
   "metadata": {},
   "outputs": [
    {
     "name": "stdout",
     "output_type": "stream",
     "text": [
      "CPU times: user 62.5 ms, sys: 15.6 ms, total: 78.1 ms\n",
      "Wall time: 81 ms\n",
      "normalising ZX diagram Graph(20004 vertices, 40000 edges)\n",
      "completed in 5000 iterations\n",
      "CPU times: user 8.78 s, sys: 0 ns, total: 8.78 s\n",
      "Wall time: 8.79 s\n",
      "Graph(8 vertices, 8 edges)\n"
     ]
    }
   ],
   "source": [
    "%time g = zigzag(10000,'simple')\n",
    "def f():\n",
    "    print(\"normalising ZX diagram \" + str(g))\n",
    "    it = 0\n",
    "    while True:\n",
    "        it += 1\n",
    "        m = match_bialg(g)\n",
    "        if len(m) != 0: bialg(g, m)\n",
    "        else: break\n",
    "    print(\"completed in \" + str(it) + \" iterations\")\n",
    "\n",
    "%time f()\n",
    "print(g)"
   ]
  },
  {
   "cell_type": "code",
   "execution_count": 4,
   "metadata": {},
   "outputs": [
    {
     "name": "stdout",
     "output_type": "stream",
     "text": [
      "CPU times: user 46.9 ms, sys: 0 ns, total: 46.9 ms\n",
      "Wall time: 37.9 ms\n",
      "normalising ZX diagram Graph(20004 vertices, 40000 edges)\n",
      "got 2748 matches of bialgebra\n",
      "got 1235 matches of bialgebra\n",
      "got 558 matches of bialgebra\n",
      "got 251 matches of bialgebra\n",
      "got 119 matches of bialgebra\n",
      "got 50 matches of bialgebra\n",
      "got 21 matches of bialgebra\n",
      "got 9 matches of bialgebra\n",
      "got 4 matches of bialgebra\n",
      "got 2 matches of bialgebra\n",
      "got 1 matches of bialgebra\n",
      "got 1 matches of bialgebra\n",
      "got 0 matches of bialgebra\n",
      "completed in 13 iterations\n",
      "CPU times: user 188 ms, sys: 0 ns, total: 188 ms\n",
      "Wall time: 181 ms\n",
      "Graph(8 vertices, 8 edges)\n"
     ]
    }
   ],
   "source": [
    "%time g = zigzag(10000,'simple')\n",
    "def f():\n",
    "    print(\"normalising ZX diagram \" + str(g))\n",
    "    it = 0\n",
    "    while True:\n",
    "        it += 1\n",
    "        m = match_bialg_parallel(g)\n",
    "        print(\"got \" + str(len(m)) + \" matches of bialgebra\")\n",
    "        if len(m) != 0: bialg(g, m)\n",
    "        else: break\n",
    "    print(\"completed in \" + str(it) + \" iterations\")\n",
    "\n",
    "%time f()\n",
    "print(g)"
   ]
  }
 ],
 "metadata": {
  "kernelspec": {
   "display_name": "Python 3",
   "language": "python",
   "name": "python3"
  },
  "language_info": {
   "codemirror_mode": {
    "name": "ipython",
    "version": 3
   },
   "file_extension": ".py",
   "mimetype": "text/x-python",
   "name": "python",
   "nbconvert_exporter": "python",
   "pygments_lexer": "ipython3",
   "version": "3.5.2"
  }
 },
 "nbformat": 4,
 "nbformat_minor": 2
}
