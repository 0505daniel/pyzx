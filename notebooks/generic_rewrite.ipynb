{
 "cells": [
  {
   "cell_type": "code",
   "execution_count": 1,
   "metadata": {},
   "outputs": [
    {
     "name": "stderr",
     "output_type": "stream",
     "text": [
      "/home/wetering/anaconda3/envs/py3/lib/python3.6/site-packages/graph_tool/draw/cairo_draw.py:39: RuntimeWarning: Error importing cairo. Graph drawing will not work.\n",
      "  warnings.warn(msg, RuntimeWarning)\n",
      "/home/wetering/anaconda3/envs/py3/lib/python3.6/site-packages/graph_tool/draw/cairo_draw.py:39: RuntimeWarning: Error importing cairo. Graph drawing will not work.\n",
      "  warnings.warn(msg, RuntimeWarning)\n",
      "/home/wetering/anaconda3/envs/py3/lib/python3.6/site-packages/graph_tool/draw/cairo_draw.py:39: RuntimeWarning: Error importing cairo. Graph drawing will not work.\n",
      "  warnings.warn(msg, RuntimeWarning)\n",
      "/home/wetering/anaconda3/envs/py3/lib/python3.6/site-packages/graph_tool/all.py:40: RuntimeWarning: Error importing draw module, proceeding nevertheless: libXrender.so.1: cannot open shared object file: No such file or directory\n",
      "  warnings.warn(msg, RuntimeWarning)\n"
     ]
    },
    {
     "name": "stdout",
     "output_type": "stream",
     "text": [
      "Available backends: graph_tool, igraph\n"
     ]
    }
   ],
   "source": [
    "import sys\n",
    "sys.path.append('..')\n",
    "from pyzx.graph import Graph\n",
    "from pyzx.rules import *\n",
    "from pyzx.examples import zigzag"
   ]
  },
  {
   "cell_type": "code",
   "execution_count": 12,
   "metadata": {},
   "outputs": [
    {
     "name": "stdout",
     "output_type": "stream",
     "text": [
      "CPU times: user 328 ms, sys: 0 ns, total: 328 ms\n",
      "Wall time: 339 ms\n",
      "normalising ZX diagram Graph(200004 vertices, 400000 edges)\n",
      "got 33333 matches of bialgebra\n",
      "got 11111 matches of bialgebra\n",
      "got 3703 matches of bialgebra\n",
      "got 1235 matches of bialgebra\n",
      "got 411 matches of bialgebra\n",
      "got 137 matches of bialgebra\n",
      "got 46 matches of bialgebra\n",
      "got 15 matches of bialgebra\n",
      "got 5 matches of bialgebra\n",
      "got 2 matches of bialgebra\n",
      "got 1 matches of bialgebra\n",
      "got 0 matches of bialgebra\n",
      "completed in 12 iterations\n",
      "CPU times: user 1.64 s, sys: 62.5 ms, total: 1.7 s\n",
      "Wall time: 1.71 s\n",
      "Graph(8 vertices, 8 edges)\n"
     ]
    }
   ],
   "source": [
    "%time g = zigzag(100000,'igraph')\n",
    "def f():\n",
    "    print(\"normalising ZX diagram \" + str(g))\n",
    "    it = 0\n",
    "    while True:\n",
    "        it += 1\n",
    "        m = match_bialg_parallel(g, num=-1)\n",
    "        print(\"got \" + str(len(m)) + \" matches of bialgebra\")\n",
    "        if len(m) != 0: bialg_parallel(g, m)\n",
    "        else: break\n",
    "    print(\"completed in \" + str(it) + \" iterations\")\n",
    "\n",
    "%time f()\n",
    "print(g)"
   ]
  },
  {
   "cell_type": "code",
   "execution_count": 7,
   "metadata": {},
   "outputs": [
    {
     "data": {
      "text/plain": [
       "True"
      ]
     },
     "execution_count": 7,
     "metadata": {},
     "output_type": "execute_result"
    }
   ],
   "source": [
    "v = g.vertices().next()\n",
    "import graph_tool.all as gt\n",
    "e = g.edges().next()\n",
    "e == g.graph.edge(e.source(),e.target())"
   ]
  },
  {
   "cell_type": "code",
   "execution_count": 12,
   "metadata": {},
   "outputs": [
    {
     "data": {
      "text/plain": [
       "{'graph_tool': <module 'graph_tool.all' from '/home/wetering/anaconda3/envs/py3/lib/python3.6/site-packages/graph_tool/all.py'>,\n",
       " 'igraph': <module 'igraph' from '/home/wetering/anaconda3/envs/py3/lib/python3.6/site-packages/igraph/__init__.py'>}"
      ]
     },
     "execution_count": 12,
     "metadata": {},
     "output_type": "execute_result"
    }
   ],
   "source": [
    "from pyzx.graph import backends\n",
    "backends"
   ]
  }
 ],
 "metadata": {
  "kernelspec": {
   "display_name": "Python 3",
   "language": "python",
   "name": "python3"
  },
  "language_info": {
   "codemirror_mode": {
    "name": "ipython",
    "version": 3
   },
   "file_extension": ".py",
   "mimetype": "text/x-python",
   "name": "python",
   "nbconvert_exporter": "python",
   "pygments_lexer": "ipython3",
   "version": "3.6.4"
  }
 },
 "nbformat": 4,
 "nbformat_minor": 2
}
