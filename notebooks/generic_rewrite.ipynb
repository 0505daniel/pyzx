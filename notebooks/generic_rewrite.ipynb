{
 "cells": [
  {
   "cell_type": "code",
   "execution_count": 1,
   "metadata": {},
   "outputs": [],
   "source": [
    "%load_ext autoreload\n",
    "%autoreload 2"
   ]
  },
  {
   "cell_type": "code",
   "execution_count": 1,
   "metadata": {},
   "outputs": [
    {
     "name": "stdout",
     "output_type": "stream",
     "text": [
      "Available backends: igraph, simple\n"
     ]
    }
   ],
   "source": [
    "import sys\n",
    "sys.path.append('..')\n",
    "from pyzx.graph import Graph\n",
    "from pyzx.rules import *\n",
    "from pyzx.examples import zigzag"
   ]
  },
  {
   "cell_type": "code",
   "execution_count": 7,
   "metadata": {},
   "outputs": [
    {
     "ename": "TypeError",
     "evalue": "'int' object is not iterable",
     "output_type": "error",
     "traceback": [
      "\u001b[0;31m---------------------------------------------------------------------------\u001b[0m",
      "\u001b[0;31mTypeError\u001b[0m                                 Traceback (most recent call last)",
      "\u001b[0;32m<ipython-input-7-12dcfff395cc>\u001b[0m in \u001b[0;36m<module>\u001b[0;34m()\u001b[0m\n\u001b[1;32m      1\u001b[0m \u001b[0md\u001b[0m \u001b[0;34m=\u001b[0m \u001b[0;34m{\u001b[0m\u001b[0;36m0\u001b[0m\u001b[0;34m:\u001b[0m\u001b[0;34m'a'\u001b[0m\u001b[0;34m,\u001b[0m\u001b[0;36m1\u001b[0m\u001b[0;34m:\u001b[0m\u001b[0;34m'b'\u001b[0m\u001b[0;34m}\u001b[0m\u001b[0;34m\u001b[0m\u001b[0m\n\u001b[0;32m----> 2\u001b[0;31m \u001b[0;32mfor\u001b[0m \u001b[0mk\u001b[0m\u001b[0;34m,\u001b[0m\u001b[0mv\u001b[0m \u001b[0;32min\u001b[0m \u001b[0md\u001b[0m\u001b[0;34m:\u001b[0m\u001b[0;34m\u001b[0m\u001b[0m\n\u001b[0m\u001b[1;32m      3\u001b[0m     \u001b[0mprint\u001b[0m\u001b[0;34m(\u001b[0m\u001b[0mstr\u001b[0m\u001b[0;34m(\u001b[0m\u001b[0mk\u001b[0m\u001b[0;34m)\u001b[0m\u001b[0;34m)\u001b[0m\u001b[0;34m\u001b[0m\u001b[0m\n",
      "\u001b[0;31mTypeError\u001b[0m: 'int' object is not iterable"
     ]
    }
   ],
   "source": [
    "d = {0:'a',1:'b'}\n",
    "for k,v in d:\n",
    "    print(str(k))"
   ]
  },
  {
   "cell_type": "code",
   "execution_count": 19,
   "metadata": {},
   "outputs": [
    {
     "name": "stdout",
     "output_type": "stream",
     "text": [
      "12\n"
     ]
    }
   ],
   "source": [
    "f = Foo()\n",
    "f.bar()"
   ]
  },
  {
   "cell_type": "code",
   "execution_count": null,
   "metadata": {},
   "outputs": [],
   "source": []
  },
  {
   "cell_type": "code",
   "execution_count": 3,
   "metadata": {},
   "outputs": [
    {
     "name": "stdout",
     "output_type": "stream",
     "text": [
      "CPU times: user 0 ns, sys: 0 ns, total: 0 ns\n",
      "Wall time: 41.2 µs\n"
     ]
    },
    {
     "data": {
      "text/plain": [
       "10"
      ]
     },
     "execution_count": 3,
     "metadata": {},
     "output_type": "execute_result"
    }
   ],
   "source": [
    "%time g = Graph()\n",
    "g.add_vertices(10)\n",
    "g.add_edges([(0,1),(2,3)])\n",
    "g.num_vertices()"
   ]
  },
  {
   "cell_type": "code",
   "execution_count": 4,
   "metadata": {},
   "outputs": [
    {
     "name": "stdout",
     "output_type": "stream",
     "text": [
      "CPU times: user 6.53 s, sys: 2.53 s, total: 9.06 s\n",
      "Wall time: 9.15 s\n",
      "normalising ZX diagram Graph(2000004 vertices, 4000000 edges)\n",
      "got 274645 matches of bialgebra\n",
      "got 123690 matches of bialgebra\n",
      "got 55751 matches of bialgebra\n",
      "got 25230 matches of bialgebra\n",
      "got 11386 matches of bialgebra\n",
      "got 5079 matches of bialgebra\n",
      "got 2308 matches of bialgebra\n",
      "got 1049 matches of bialgebra\n",
      "got 468 matches of bialgebra\n",
      "got 219 matches of bialgebra\n",
      "got 97 matches of bialgebra\n",
      "got 42 matches of bialgebra\n",
      "got 18 matches of bialgebra\n",
      "got 10 matches of bialgebra\n",
      "got 4 matches of bialgebra\n",
      "got 2 matches of bialgebra\n",
      "got 1 matches of bialgebra\n",
      "got 0 matches of bialgebra\n",
      "completed in 18 iterations\n",
      "CPU times: user 50.4 s, sys: 2.06 s, total: 52.5 s\n",
      "Wall time: 52.9 s\n",
      "Graph(8 vertices, 8 edges)\n"
     ]
    }
   ],
   "source": [
    "%time g = zigzag(1000000,'simple')\n",
    "def f():\n",
    "    print(\"normalising ZX diagram \" + str(g))\n",
    "    it = 0\n",
    "    while True:\n",
    "        it += 1\n",
    "        m = match_bialg_parallel(g, num=-1)\n",
    "        print(\"got \" + str(len(m)) + \" matches of bialgebra\")\n",
    "        if len(m) != 0: bialg_parallel(g, m)\n",
    "        else: break\n",
    "    print(\"completed in \" + str(it) + \" iterations\")\n",
    "\n",
    "%time f()\n",
    "print(g)"
   ]
  },
  {
   "cell_type": "code",
   "execution_count": 5,
   "metadata": {},
   "outputs": [
    {
     "name": "stdout",
     "output_type": "stream",
     "text": [
      "CPU times: user 6.42 s, sys: 1.2 s, total: 7.62 s\n",
      "Wall time: 7.62 s\n",
      "normalising ZX diagram Graph(2000004 vertices, 4000000 edges)\n",
      "got 333333 matches of bialgebra\n",
      "got 111111 matches of bialgebra\n",
      "got 37037 matches of bialgebra\n",
      "got 12345 matches of bialgebra\n",
      "got 4115 matches of bialgebra\n",
      "got 1372 matches of bialgebra\n",
      "got 457 matches of bialgebra\n",
      "got 152 matches of bialgebra\n",
      "got 51 matches of bialgebra\n",
      "got 17 matches of bialgebra\n",
      "got 6 matches of bialgebra\n",
      "got 2 matches of bialgebra\n",
      "got 1 matches of bialgebra\n",
      "got 0 matches of bialgebra\n",
      "completed in 14 iterations\n",
      "CPU times: user 31.2 s, sys: 1.25 s, total: 32.4 s\n",
      "Wall time: 32.5 s\n",
      "Graph(8 vertices, 8 edges)\n"
     ]
    }
   ],
   "source": [
    "%time g = zigzag(1000000,'igraph')\n",
    "def f():\n",
    "    print(\"normalising ZX diagram \" + str(g))\n",
    "    it = 0\n",
    "    while True:\n",
    "        it += 1\n",
    "        m = match_bialg_parallel(g, num=-1)\n",
    "        print(\"got \" + str(len(m)) + \" matches of bialgebra\")\n",
    "        if len(m) != 0: bialg_parallel(g, m)\n",
    "        else: break\n",
    "    print(\"completed in \" + str(it) + \" iterations\")\n",
    "\n",
    "%time f()\n",
    "print(g)"
   ]
  },
  {
   "cell_type": "code",
   "execution_count": 7,
   "metadata": {},
   "outputs": [
    {
     "data": {
      "text/plain": [
       "True"
      ]
     },
     "execution_count": 7,
     "metadata": {},
     "output_type": "execute_result"
    }
   ],
   "source": [
    "v = g.vertices().next()\n",
    "import graph_tool.all as gt\n",
    "e = g.edges().next()\n",
    "e == g.graph.edge(e.source(),e.target())"
   ]
  },
  {
   "cell_type": "code",
   "execution_count": 12,
   "metadata": {},
   "outputs": [
    {
     "data": {
      "text/plain": [
       "{'graph_tool': <module 'graph_tool.all' from '/home/wetering/anaconda3/envs/py3/lib/python3.6/site-packages/graph_tool/all.py'>,\n",
       " 'igraph': <module 'igraph' from '/home/wetering/anaconda3/envs/py3/lib/python3.6/site-packages/igraph/__init__.py'>}"
      ]
     },
     "execution_count": 12,
     "metadata": {},
     "output_type": "execute_result"
    }
   ],
   "source": [
    "from pyzx.graph import backends\n",
    "backends"
   ]
  }
 ],
 "metadata": {
  "kernelspec": {
   "display_name": "Python 3",
   "language": "python",
   "name": "python3"
  },
  "language_info": {
   "codemirror_mode": {
    "name": "ipython",
    "version": 3
   },
   "file_extension": ".py",
   "mimetype": "text/x-python",
   "name": "python",
   "nbconvert_exporter": "python",
   "pygments_lexer": "ipython3",
   "version": "3.5.2"
  }
 },
 "nbformat": 4,
 "nbformat_minor": 2
}
