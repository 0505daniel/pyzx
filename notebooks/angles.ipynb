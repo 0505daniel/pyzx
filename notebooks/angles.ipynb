{
 "cells": [
  {
   "cell_type": "code",
   "execution_count": 1,
   "metadata": {},
   "outputs": [
    {
     "name": "stdout",
     "output_type": "stream",
     "text": [
      "Available backends: simple, igraph\n"
     ]
    }
   ],
   "source": [
    "import sys\n",
    "sys.path.append('..')\n",
    "from pyzx.graph import Graph\n",
    "from pyzx.examples import *\n",
    "from pyzx.simplify import *\n",
    "from pyzx.drawing import *\n",
    "from fractions import Fraction\n",
    "import igraph as ig"
   ]
  },
  {
   "cell_type": "code",
   "execution_count": 2,
   "metadata": {},
   "outputs": [],
   "source": [
    "sz = 2\n",
    "g = Graph(backend='simple')\n",
    "g.add_vertices(sz+2)\n",
    "g.add_edges([(i,i+1) for i in range(sz+1)])\n",
    "g.set_type(0,0)\n",
    "g.set_type(sz+1,0)\n",
    "for i in range(1,sz+1):\n",
    "    g.set_type(i, 1)"
   ]
  },
  {
   "cell_type": "code",
   "execution_count": 3,
   "metadata": {},
   "outputs": [],
   "source": [
    "g.set_angle(1,Fraction(1,4))\n",
    "g.set_angle(2,Fraction(1,4))"
   ]
  },
  {
   "cell_type": "code",
   "execution_count": 4,
   "metadata": {},
   "outputs": [
    {
     "data": {
      "image/svg+xml": [
       "<?xml version=\"1.0\" encoding=\"UTF-8\"?>\n",
       "<svg xmlns=\"http://www.w3.org/2000/svg\" xmlns:xlink=\"http://www.w3.org/1999/xlink\" width=\"600pt\" height=\"200pt\" viewBox=\"0 0 600 200\" version=\"1.1\">\n",
       "<defs>\n",
       "<g>\n",
       "<symbol overflow=\"visible\" id=\"glyph0-0\">\n",
       "<path style=\"stroke:none;\" d=\"M 1 0 L 1 -5 L 5 -5 L 5 0 Z M 1.125 -0.125 L 4.875 -0.125 L 4.875 -4.875 L 1.125 -4.875 Z M 1.125 -0.125 \"/>\n",
       "</symbol>\n",
       "<symbol overflow=\"visible\" id=\"glyph0-1\">\n",
       "<path style=\"stroke:none;\" d=\"M 1.972656 -3.578125 L 1.972656 0 L 1.269531 0 L 1.269531 -3.578125 L 0.175781 -3.578125 L 0.175781 -4.148438 L 5.347656 -4.148438 L 5.347656 -3.578125 L 4.402344 -3.578125 L 4.402344 0 L 3.699219 0 L 3.699219 -3.578125 Z M 1.972656 -3.578125 \"/>\n",
       "</symbol>\n",
       "<symbol overflow=\"visible\" id=\"glyph0-2\">\n",
       "<path style=\"stroke:none;\" d=\"M 0 0.0976563 L 1.660156 -5.824219 L 2.222656 -5.824219 L 0.566406 0.0976563 Z M 0 0.0976563 \"/>\n",
       "</symbol>\n",
       "<symbol overflow=\"visible\" id=\"glyph0-3\">\n",
       "<path style=\"stroke:none;\" d=\"M 2.585938 0 L 2.585938 -1.371094 L 0.101563 -1.371094 L 0.101563 -2.015625 L 2.714844 -5.726563 L 3.289063 -5.726563 L 3.289063 -2.015625 L 4.0625 -2.015625 L 4.0625 -1.371094 L 3.289063 -1.371094 L 3.289063 0 Z M 2.585938 -2.015625 L 2.585938 -4.597656 L 0.792969 -2.015625 Z M 2.585938 -2.015625 \"/>\n",
       "</symbol>\n",
       "</g>\n",
       "</defs>\n",
       "<g id=\"surface2\">\n",
       "<rect x=\"0\" y=\"0\" width=\"600\" height=\"200\" style=\"fill:rgb(100%,100%,100%);fill-opacity:1;stroke:none;\"/>\n",
       "<path style=\"fill:none;stroke-width:1;stroke-linecap:butt;stroke-linejoin:miter;stroke:rgb(26.666667%,26.666667%,26.666667%);stroke-opacity:1;stroke-miterlimit:10;\" d=\"M 260 100 L 286.667969 100 \"/>\n",
       "<path style=\"fill:none;stroke-width:1;stroke-linecap:butt;stroke-linejoin:miter;stroke:rgb(26.666667%,26.666667%,26.666667%);stroke-opacity:1;stroke-miterlimit:10;\" d=\"M 286.667969 100 L 313.332031 100 \"/>\n",
       "<path style=\"fill:none;stroke-width:1;stroke-linecap:butt;stroke-linejoin:miter;stroke:rgb(26.666667%,26.666667%,26.666667%);stroke-opacity:1;stroke-miterlimit:10;\" d=\"M 313.332031 100 L 340 100 \"/>\n",
       "<path style=\"fill-rule:nonzero;fill:rgb(0%,0%,0%);fill-opacity:1;stroke-width:1;stroke-linecap:butt;stroke-linejoin:miter;stroke:rgb(0%,0%,0%);stroke-opacity:1;stroke-miterlimit:10;\" d=\"M 262.5 100 C 262.5 103.332031 257.5 103.332031 257.5 100 C 257.5 96.667969 262.5 96.667969 262.5 100 \"/>\n",
       "<path style=\"fill-rule:nonzero;fill:rgb(0%,100%,0%);fill-opacity:1;stroke-width:1;stroke-linecap:butt;stroke-linejoin:miter;stroke:rgb(0%,0%,0%);stroke-opacity:1;stroke-miterlimit:10;\" d=\"M 289.167969 100 C 289.167969 103.332031 284.167969 103.332031 284.167969 100 C 284.167969 96.667969 289.167969 96.667969 289.167969 100 \"/>\n",
       "<path style=\"fill-rule:nonzero;fill:rgb(0%,100%,0%);fill-opacity:1;stroke-width:1;stroke-linecap:butt;stroke-linejoin:miter;stroke:rgb(0%,0%,0%);stroke-opacity:1;stroke-miterlimit:10;\" d=\"M 315.832031 100 C 315.832031 103.332031 310.832031 103.332031 310.832031 100 C 310.832031 96.667969 315.832031 96.667969 315.832031 100 \"/>\n",
       "<path style=\"fill-rule:nonzero;fill:rgb(0%,0%,0%);fill-opacity:1;stroke-width:1;stroke-linecap:butt;stroke-linejoin:miter;stroke:rgb(0%,0%,0%);stroke-opacity:1;stroke-miterlimit:10;\" d=\"M 342.5 100 C 342.5 103.332031 337.5 103.332031 337.5 100 C 337.5 96.667969 342.5 96.667969 342.5 100 \"/>\n",
       "<g style=\"fill:rgb(0%,0%,100%);fill-opacity:1;\">\n",
       "  <use xlink:href=\"#glyph0-1\" x=\"280.675781\" y=\"110.824219\"/>\n",
       "  <use xlink:href=\"#glyph0-2\" x=\"286.195313\" y=\"110.824219\"/>\n",
       "  <use xlink:href=\"#glyph0-3\" x=\"288.417969\" y=\"110.824219\"/>\n",
       "</g>\n",
       "<g style=\"fill:rgb(0%,0%,100%);fill-opacity:1;\">\n",
       "  <use xlink:href=\"#glyph0-1\" x=\"307.34375\" y=\"110.824219\"/>\n",
       "  <use xlink:href=\"#glyph0-2\" x=\"312.863281\" y=\"110.824219\"/>\n",
       "  <use xlink:href=\"#glyph0-3\" x=\"315.085938\" y=\"110.824219\"/>\n",
       "</g>\n",
       "</g>\n",
       "</svg>\n"
      ],
      "text/plain": [
       "<igraph.drawing.Plot at 0x20255286b00>"
      ]
     },
     "execution_count": 4,
     "metadata": {},
     "output_type": "execute_result"
    }
   ],
   "source": [
    "draw(g)"
   ]
  },
  {
   "cell_type": "code",
   "execution_count": 5,
   "metadata": {},
   "outputs": [],
   "source": [
    "spider(g, [[1,2]])"
   ]
  },
  {
   "cell_type": "code",
   "execution_count": 6,
   "metadata": {},
   "outputs": [
    {
     "data": {
      "text/plain": [
       "{0: 0, 1: Fraction(1, 2), 3: 0}"
      ]
     },
     "execution_count": 6,
     "metadata": {},
     "output_type": "execute_result"
    }
   ],
   "source": [
    "g.get_angles()"
   ]
  },
  {
   "cell_type": "code",
   "execution_count": 7,
   "metadata": {},
   "outputs": [
    {
     "data": {
      "text/plain": [
       "['', 'π/2', '']"
      ]
     },
     "execution_count": 7,
     "metadata": {},
     "output_type": "execute_result"
    }
   ],
   "source": [
    "[angle_to_s(a) for _,a in g.get_angles().items()]"
   ]
  },
  {
   "cell_type": "code",
   "execution_count": 8,
   "metadata": {},
   "outputs": [
    {
     "data": {
      "image/svg+xml": [
       "<?xml version=\"1.0\" encoding=\"UTF-8\"?>\n",
       "<svg xmlns=\"http://www.w3.org/2000/svg\" xmlns:xlink=\"http://www.w3.org/1999/xlink\" width=\"600pt\" height=\"200pt\" viewBox=\"0 0 600 200\" version=\"1.1\">\n",
       "<defs>\n",
       "<g>\n",
       "<symbol overflow=\"visible\" id=\"glyph0-0\">\n",
       "<path style=\"stroke:none;\" d=\"M 1 0 L 1 -5 L 5 -5 L 5 0 Z M 1.125 -0.125 L 4.875 -0.125 L 4.875 -4.875 L 1.125 -4.875 Z M 1.125 -0.125 \"/>\n",
       "</symbol>\n",
       "<symbol overflow=\"visible\" id=\"glyph0-1\">\n",
       "<path style=\"stroke:none;\" d=\"M 1.972656 -3.578125 L 1.972656 0 L 1.269531 0 L 1.269531 -3.578125 L 0.175781 -3.578125 L 0.175781 -4.148438 L 5.347656 -4.148438 L 5.347656 -3.578125 L 4.402344 -3.578125 L 4.402344 0 L 3.699219 0 L 3.699219 -3.578125 Z M 1.972656 -3.578125 \"/>\n",
       "</symbol>\n",
       "<symbol overflow=\"visible\" id=\"glyph0-2\">\n",
       "<path style=\"stroke:none;\" d=\"M 0 0.0976563 L 1.660156 -5.824219 L 2.222656 -5.824219 L 0.566406 0.0976563 Z M 0 0.0976563 \"/>\n",
       "</symbol>\n",
       "<symbol overflow=\"visible\" id=\"glyph0-3\">\n",
       "<path style=\"stroke:none;\" d=\"M 4.027344 -0.675781 L 4.027344 0 L 0.242188 0 C 0.234375 -0.167969 0.261719 -0.328125 0.324219 -0.488281 C 0.417969 -0.742188 0.574219 -0.996094 0.785156 -1.25 C 0.996094 -1.496094 1.300781 -1.785156 1.707031 -2.117188 C 2.324219 -2.625 2.746094 -3.03125 2.96875 -3.328125 C 3.183594 -3.625 3.292969 -3.90625 3.296875 -4.175781 C 3.292969 -4.453125 3.191406 -4.6875 2.996094 -4.878906 C 2.792969 -5.070313 2.535156 -5.167969 2.21875 -5.167969 C 1.878906 -5.167969 1.609375 -5.066406 1.40625 -4.863281 C 1.203125 -4.660156 1.097656 -4.378906 1.097656 -4.019531 L 0.375 -4.09375 C 0.421875 -4.628906 0.605469 -5.039063 0.933594 -5.324219 C 1.253906 -5.605469 1.6875 -5.746094 2.234375 -5.75 C 2.78125 -5.746094 3.21875 -5.59375 3.539063 -5.292969 C 3.859375 -4.984375 4.019531 -4.609375 4.019531 -4.160156 C 4.019531 -3.929688 3.972656 -3.703125 3.878906 -3.484375 C 3.785156 -3.261719 3.628906 -3.027344 3.410156 -2.785156 C 3.191406 -2.535156 2.828125 -2.199219 2.328125 -1.777344 C 1.902344 -1.417969 1.632813 -1.179688 1.515625 -1.054688 C 1.394531 -0.929688 1.296875 -0.800781 1.21875 -0.675781 Z M 4.027344 -0.675781 \"/>\n",
       "</symbol>\n",
       "</g>\n",
       "</defs>\n",
       "<g id=\"surface8\">\n",
       "<rect x=\"0\" y=\"0\" width=\"600\" height=\"200\" style=\"fill:rgb(100%,100%,100%);fill-opacity:1;stroke:none;\"/>\n",
       "<path style=\"fill:none;stroke-width:1;stroke-linecap:butt;stroke-linejoin:miter;stroke:rgb(26.666667%,26.666667%,26.666667%);stroke-opacity:1;stroke-miterlimit:10;\" d=\"M 260 100 L 300 100 \"/>\n",
       "<path style=\"fill:none;stroke-width:1;stroke-linecap:butt;stroke-linejoin:miter;stroke:rgb(26.666667%,26.666667%,26.666667%);stroke-opacity:1;stroke-miterlimit:10;\" d=\"M 300 100 L 340 100 \"/>\n",
       "<path style=\"fill-rule:nonzero;fill:rgb(0%,0%,0%);fill-opacity:1;stroke-width:1;stroke-linecap:butt;stroke-linejoin:miter;stroke:rgb(0%,0%,0%);stroke-opacity:1;stroke-miterlimit:10;\" d=\"M 262.5 100 C 262.5 103.332031 257.5 103.332031 257.5 100 C 257.5 96.667969 262.5 96.667969 262.5 100 \"/>\n",
       "<path style=\"fill-rule:nonzero;fill:rgb(0%,100%,0%);fill-opacity:1;stroke-width:1;stroke-linecap:butt;stroke-linejoin:miter;stroke:rgb(0%,0%,0%);stroke-opacity:1;stroke-miterlimit:10;\" d=\"M 302.5 100 C 302.5 103.332031 297.5 103.332031 297.5 100 C 297.5 96.667969 302.5 96.667969 302.5 100 \"/>\n",
       "<path style=\"fill-rule:nonzero;fill:rgb(0%,0%,0%);fill-opacity:1;stroke-width:1;stroke-linecap:butt;stroke-linejoin:miter;stroke:rgb(0%,0%,0%);stroke-opacity:1;stroke-miterlimit:10;\" d=\"M 342.5 100 C 342.5 103.332031 337.5 103.332031 337.5 100 C 337.5 96.667969 342.5 96.667969 342.5 100 \"/>\n",
       "<g style=\"fill:rgb(0%,0%,100%);fill-opacity:1;\">\n",
       "  <use xlink:href=\"#glyph0-1\" x=\"294.027344\" y=\"110.824219\"/>\n",
       "  <use xlink:href=\"#glyph0-2\" x=\"299.546875\" y=\"110.824219\"/>\n",
       "  <use xlink:href=\"#glyph0-3\" x=\"301.769531\" y=\"110.824219\"/>\n",
       "</g>\n",
       "</g>\n",
       "</svg>\n"
      ],
      "text/plain": [
       "<igraph.drawing.Plot at 0x202563e0a90>"
      ]
     },
     "execution_count": 8,
     "metadata": {},
     "output_type": "execute_result"
    }
   ],
   "source": [
    "draw(g)"
   ]
  },
  {
   "cell_type": "code",
   "execution_count": 58,
   "metadata": {},
   "outputs": [
    {
     "data": {
      "text/plain": [
       "[igraph.Vertex(<igraph.Graph object at 0x000001EC60F18318>, 0, {'angle': None, 'type': 0, 'color': 'black', 'label': ''}),\n",
       " igraph.Vertex(<igraph.Graph object at 0x000001EC60F18318>, 1, {'angle': Fraction(3, 4), 'type': 1, 'color': 'green', 'label': '3π/4'}),\n",
       " igraph.Vertex(<igraph.Graph object at 0x000001EC60F18318>, 2, {'angle': None, 'type': 0, 'color': 'black', 'label': ''})]"
      ]
     },
     "execution_count": 58,
     "metadata": {},
     "output_type": "execute_result"
    }
   ],
   "source": [
    "g1 = g.copy(backend='igraph')\n",
    "#if g.backend != 'igraph':\n",
    "#    raise NotImplementedError(\"Drawing not implemented on backend \" + g.backend)\n",
    "for v in g1.graph.vs:\n",
    "    v['color'] = vcol(v['type'])\n",
    "    #a = v['angle']\n",
    "    #v['label'] = angle_to_s(a) if a else '' #v.index\n",
    "if not layout:\n",
    "    layout = dag_layout(g1)\n",
    "\n",
    "return ig.plot(g1.graph, layout=layout,\n",
    "               vertex_size=5,\n",
    "               vertex_label_size=8,\n",
    "               vertex_label_dist=2,\n",
    "               vertex_label_color='blue',\n",
    "               vertex_label=[angle_to_s(g1.get_angle(v)) for v in g1.vertices()],\n",
    "               keep_aspect_ratio=True,\n",
    "               bbox=[600,200])"
   ]
  },
  {
   "cell_type": "code",
   "execution_count": 9,
   "metadata": {},
   "outputs": [],
   "source": [
    "g1 = g.copy(backend='igraph')"
   ]
  },
  {
   "cell_type": "code",
   "execution_count": 30,
   "metadata": {},
   "outputs": [],
   "source": [
    "for v in g1.graph.vs: v['label'] = 2"
   ]
  },
  {
   "cell_type": "code",
   "execution_count": 31,
   "metadata": {},
   "outputs": [
    {
     "data": {
      "image/svg+xml": [
       "<?xml version=\"1.0\" encoding=\"UTF-8\"?>\n",
       "<svg xmlns=\"http://www.w3.org/2000/svg\" xmlns:xlink=\"http://www.w3.org/1999/xlink\" width=\"600pt\" height=\"600pt\" viewBox=\"0 0 600 600\" version=\"1.1\">\n",
       "<defs>\n",
       "<g>\n",
       "<symbol overflow=\"visible\" id=\"glyph0-0\">\n",
       "<path style=\"stroke:none;\" d=\"M 1.75 0 L 1.75 -8.75 L 8.75 -8.75 L 8.75 0 Z M 1.96875 -0.21875 L 8.53125 -0.21875 L 8.53125 -8.53125 L 1.96875 -8.53125 Z M 1.96875 -0.21875 \"/>\n",
       "</symbol>\n",
       "<symbol overflow=\"visible\" id=\"glyph0-1\">\n",
       "<path style=\"stroke:none;\" d=\"M 7.046875 -1.183594 L 7.046875 0 L 0.421875 0 C 0.414063 -0.296875 0.460938 -0.582031 0.566406 -0.855469 C 0.734375 -1.304688 1.003906 -1.746094 1.375 -2.1875 C 1.746094 -2.621094 2.285156 -3.128906 2.988281 -3.703125 C 4.074219 -4.597656 4.808594 -5.304688 5.195313 -5.828125 C 5.574219 -6.347656 5.765625 -6.839844 5.769531 -7.308594 C 5.765625 -7.792969 5.589844 -8.203125 5.246094 -8.539063 C 4.894531 -8.871094 4.441406 -9.039063 3.882813 -9.042969 C 3.285156 -9.039063 2.8125 -8.863281 2.460938 -8.507813 C 2.105469 -8.152344 1.925781 -7.660156 1.921875 -7.035156 L 0.65625 -7.164063 C 0.742188 -8.105469 1.066406 -8.824219 1.632813 -9.320313 C 2.195313 -9.8125 2.953125 -10.058594 3.910156 -10.0625 C 4.867188 -10.058594 5.628906 -9.792969 6.191406 -9.261719 C 6.75 -8.726563 7.03125 -8.066406 7.035156 -7.28125 C 7.03125 -6.878906 6.949219 -6.484375 6.789063 -6.097656 C 6.621094 -5.707031 6.347656 -5.296875 5.96875 -4.871094 C 5.585938 -4.441406 4.953125 -3.855469 4.074219 -3.109375 C 3.332031 -2.488281 2.859375 -2.066406 2.652344 -1.847656 C 2.4375 -1.621094 2.265625 -1.402344 2.132813 -1.183594 Z M 7.046875 -1.183594 \"/>\n",
       "</symbol>\n",
       "</g>\n",
       "</defs>\n",
       "<g id=\"surface98\">\n",
       "<rect x=\"0\" y=\"0\" width=\"600\" height=\"600\" style=\"fill:rgb(100%,100%,100%);fill-opacity:1;stroke:none;\"/>\n",
       "<path style=\"fill:none;stroke-width:1;stroke-linecap:butt;stroke-linejoin:miter;stroke:rgb(26.666667%,26.666667%,26.666667%);stroke-opacity:1;stroke-miterlimit:10;\" d=\"M 20 20 L 482.933594 263.34375 \"/>\n",
       "<path style=\"fill:none;stroke-width:1;stroke-linecap:butt;stroke-linejoin:miter;stroke:rgb(26.666667%,26.666667%,26.666667%);stroke-opacity:1;stroke-miterlimit:10;\" d=\"M 482.933594 263.34375 L 580 580 \"/>\n",
       "<path style=\"fill-rule:nonzero;fill:rgb(100%,0%,0%);fill-opacity:1;stroke-width:1;stroke-linecap:butt;stroke-linejoin:miter;stroke:rgb(0%,0%,0%);stroke-opacity:1;stroke-miterlimit:10;\" d=\"M 30 20 C 30 25.523438 25.523438 30 20 30 C 14.476563 30 10 25.523438 10 20 C 10 14.476563 14.476563 10 20 10 C 25.523438 10 30 14.476563 30 20 \"/>\n",
       "<path style=\"fill-rule:nonzero;fill:rgb(100%,0%,0%);fill-opacity:1;stroke-width:1;stroke-linecap:butt;stroke-linejoin:miter;stroke:rgb(0%,0%,0%);stroke-opacity:1;stroke-miterlimit:10;\" d=\"M 492.933594 263.34375 C 492.933594 268.867188 488.453125 273.34375 482.933594 273.34375 C 477.410156 273.34375 472.933594 268.867188 472.933594 263.34375 C 472.933594 257.820313 477.410156 253.34375 482.933594 253.34375 C 488.453125 253.34375 492.933594 257.820313 492.933594 263.34375 \"/>\n",
       "<path style=\"fill-rule:nonzero;fill:rgb(100%,0%,0%);fill-opacity:1;stroke-width:1;stroke-linecap:butt;stroke-linejoin:miter;stroke:rgb(0%,0%,0%);stroke-opacity:1;stroke-miterlimit:10;\" d=\"M 590 580 C 590 585.523438 585.523438 590 580 590 C 574.476563 590 570 585.523438 570 580 C 570 574.476563 574.476563 570 580 570 C 585.523438 570 590 574.476563 590 580 \"/>\n",
       "<g style=\"fill:rgb(0%,0%,0%);fill-opacity:1;\">\n",
       "  <use xlink:href=\"#glyph0-1\" x=\"16.269531\" y=\"26.53125\"/>\n",
       "</g>\n",
       "<g style=\"fill:rgb(0%,0%,0%);fill-opacity:1;\">\n",
       "  <use xlink:href=\"#glyph0-1\" x=\"479.203125\" y=\"269.875\"/>\n",
       "</g>\n",
       "<g style=\"fill:rgb(0%,0%,0%);fill-opacity:1;\">\n",
       "  <use xlink:href=\"#glyph0-1\" x=\"576.269531\" y=\"586.53125\"/>\n",
       "</g>\n",
       "</g>\n",
       "</svg>\n"
      ],
      "text/plain": [
       "<igraph.drawing.Plot at 0x2025620cba8>"
      ]
     },
     "execution_count": 31,
     "metadata": {},
     "output_type": "execute_result"
    }
   ],
   "source": [
    "ig.plot(g1.graph)"
   ]
  },
  {
   "cell_type": "code",
   "execution_count": null,
   "metadata": {},
   "outputs": [],
   "source": []
  }
 ],
 "metadata": {
  "kernelspec": {
   "display_name": "Python 3",
   "language": "python",
   "name": "python3"
  },
  "language_info": {
   "codemirror_mode": {
    "name": "ipython",
    "version": 3
   },
   "file_extension": ".py",
   "mimetype": "text/x-python",
   "name": "python",
   "nbconvert_exporter": "python",
   "pygments_lexer": "ipython3",
   "version": "3.6.4"
  }
 },
 "nbformat": 4,
 "nbformat_minor": 2
}
