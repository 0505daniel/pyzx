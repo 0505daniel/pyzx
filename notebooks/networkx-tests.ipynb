{
 "cells": [
  {
   "cell_type": "code",
   "execution_count": 1,
   "metadata": {},
   "outputs": [],
   "source": [
    "import sys\n",
    "sys.path.append('..')\n",
    "from pyzx.networkx import ZXGraph\n",
    "import networkx as nx\n",
    "import multiprocessing as mp"
   ]
  },
  {
   "cell_type": "code",
   "execution_count": 2,
   "metadata": {},
   "outputs": [
    {
     "data": {
      "text/plain": [
       "['__class__',\n",
       " '__delattr__',\n",
       " '__dict__',\n",
       " '__dir__',\n",
       " '__doc__',\n",
       " '__eq__',\n",
       " '__format__',\n",
       " '__ge__',\n",
       " '__getattribute__',\n",
       " '__gt__',\n",
       " '__hash__',\n",
       " '__init__',\n",
       " '__le__',\n",
       " '__lt__',\n",
       " '__module__',\n",
       " '__ne__',\n",
       " '__new__',\n",
       " '__reduce__',\n",
       " '__reduce_ex__',\n",
       " '__repr__',\n",
       " '__setattr__',\n",
       " '__sizeof__',\n",
       " '__str__',\n",
       " '__subclasshook__',\n",
       " '__weakref__',\n",
       " 'add_es',\n",
       " 'add_vs',\n",
       " 'es',\n",
       " 'nhd',\n",
       " 's',\n",
       " 'set_vtype',\n",
       " 't',\n",
       " 'vs',\n",
       " 'vtype']"
      ]
     },
     "execution_count": 2,
     "metadata": {},
     "output_type": "execute_result"
    }
   ],
   "source": [
    "dir(ZXGraph)"
   ]
  },
  {
   "cell_type": "code",
   "execution_count": 6,
   "metadata": {},
   "outputs": [],
   "source": [
    "def vcol(t):\n",
    "    if t == 0: return 'black'\n",
    "    if t == 1: return 'green'\n",
    "    if t == 2: return 'red'\n",
    "    return 'white'\n",
    "\n",
    "def zigzag(sz):\n",
    "    g = ZXGraph()\n",
    "    g.add_vs(2*sz+4)\n",
    "    for i in range(1,sz+1):\n",
    "        g.set_vtype(2*i, (i%2)+1)\n",
    "        g.set_vtype(2*i+1, (i%2)+1)\n",
    "    g.add_es([(0,2),(1,3)])\n",
    "    g.add_es([(2*i,2*i+2) for i in range(1,sz)])\n",
    "    g.add_es([(2*i,2*i+3) for i in range(1,sz)])\n",
    "    g.add_es([(2*i+1,2*i+2) for i in range(1,sz)])\n",
    "    g.add_es([(2*i+1,2*i+3) for i in range(1,sz)])\n",
    "    g.add_es([(2*sz,2*sz+2),(2*sz+1,2*sz+3)])\n",
    "    return g\n",
    "\n",
    "def match_bialg(g, interior=False):\n",
    "    for e in g.edges:\n",
    "        v0 = e[0]\n",
    "        v1 = e[1]\n",
    "        v0t = g.node[v0]['t']\n",
    "        v1t = g.node[v1]['t']\n",
    "        if ((v0t == 1 and v1t == 2) or (v0t == 2 and v1t == 1)):\n",
    "            if (\n",
    "                not interior or (\n",
    "                all([g.node[n]['t'] == v1t for n in g.neighbors(v0)]) and\n",
    "                all([g.node[n]['t'] == v0t for n in g.neighbors(v1)]))\n",
    "            ):\n",
    "                return [v0,v1]\n",
    "    return None\n",
    "\n",
    "\n",
    "def match_bialg_int(g):\n",
    "    return match_bialg(g, interior=True)\n",
    "\n",
    "def bialg(g, match, check=False):\n",
    "    v0 = match[0]\n",
    "    v1 = match[1]\n",
    "    v0t = g.node[v0]['t']\n",
    "    v1t = g.node[v1]['t']\n",
    "\n",
    "    if check:\n",
    "        if not (\n",
    "            g.has_edge(v0,v1) and\n",
    "            ((v0t == 1 and v1t == 2) or\n",
    "            (v0t == 2 and v1t == 1))\n",
    "        ): return False\n",
    "    \n",
    "    n0 = [n for n in g.neighbors(v0) if n != v1]\n",
    "    n1 = [n for n in g.neighbors(v1) if n != v0]\n",
    "    \n",
    "    # add dummy nodes around v0, v1 as necessary.\n",
    "    for i in range(len(n0)):\n",
    "        if (g.node[n0[i]]['t'] != v1t):\n",
    "            newv = len(g.nodes)\n",
    "            g.add_node(newv)\n",
    "            g.node[newv]['t'] = v1t\n",
    "            g.remove_edge(v0,n0[i])\n",
    "            g.add_edges_from([(n0[i], newv), (newv, v0)])\n",
    "            n0[i] = newv\n",
    "    \n",
    "    for i in range(len(n1)):\n",
    "        if (g.node[n1[i]]['t'] != v0t):\n",
    "            newv = len(g.nodes)\n",
    "            g.add_node(newv)\n",
    "            newv['t'] = v0t\n",
    "            g.remove_edge(v1,n1[i])\n",
    "            g.add_edges_from([(v1,newv),(newv,n1[i])])\n",
    "            n1[i] = newv\n",
    "    \n",
    "    for s in n0:\n",
    "        for t in n1:\n",
    "            if g.has_edge(s,t): g.remove_edge(s,t)\n",
    "            else: g.add_edge(s,t)\n",
    "    \n",
    "    \n",
    "    # delete vertices at the end so we don't mess up indices\n",
    "    g.remove_nodes_from([v0,v1] + [v for v in n0 + n1 if g.degree(v) < 2])\n",
    "    return True\n",
    "\n",
    "def match_bialg_parallel(g, num=100):\n",
    "    candidates = g.eset()\n",
    "    #return candidates\n",
    "    i = 0\n",
    "    m = []\n",
    "    while (num == -1 or i < num) and len(candidates) > 0:\n",
    "        e = candidates.pop()\n",
    "        #if i >= num: break\n",
    "        v0 = g.s(e)\n",
    "        v1 = g.t(e)\n",
    "        #if v0 in inv or v1 in inv: continue\n",
    "        v0t = g.node[v0]['t']\n",
    "        v1t = g.node[v1]['t']\n",
    "        if ((v0t == 1 and v1t == 2) or (v0t == 2 and v1t == 1)):\n",
    "            v0n = [n for n in g[v0] if n != v1]\n",
    "            v1n = [n for n in g[v1] if n != v0]\n",
    "            if (\n",
    "                all([g.node[n]['t'] == v1t for n in v0n]) and\n",
    "                all([g.node[n]['t'] == v0t for n in v1n])):\n",
    "                i += 1\n",
    "                for v in v0n:\n",
    "                    t = (v0,v) if v0 <= v else (v,v0)\n",
    "                    candidates.discard(t)\n",
    "                for v in v1n:\n",
    "                    t = (v1,v) if v1 <= v else (v,v1)\n",
    "                    candidates.discard(t)\n",
    "                m.append([v0,v1,v0n,v1n])\n",
    "    return m\n",
    "\n",
    "def bialg_parallel(g, matches):\n",
    "    dv = []\n",
    "    ae = []\n",
    "    de = []\n",
    "    for m in matches:\n",
    "        dv.append(m[0])\n",
    "        dv.append(m[1])\n",
    "        es = [(i,j) for i in m[2] for j in m[3]]\n",
    "        for e in es:\n",
    "            if g.has_edge(e[0], e[1]): de.append(e)\n",
    "            else: ae.append(e)\n",
    "    \n",
    "    g.remove_edges_from(de)\n",
    "    g.add_edges_from(ae)\n",
    "    g.remove_nodes_from(dv)\n",
    "    g.remove_nodes_from([d[0] for d in g.degree if d[1] == 0])\n",
    "\n",
    "def draw(g):\n",
    "    return nx.draw(g, node_color=[vcol(g.node[v]['t']) for v in g.nodes()], node_size=20)"
   ]
  },
  {
   "cell_type": "code",
   "execution_count": 13,
   "metadata": {},
   "outputs": [
    {
     "data": {
      "text/plain": [
       "{0,\n",
       " 1,\n",
       " 2,\n",
       " 3,\n",
       " 4,\n",
       " 5,\n",
       " 6,\n",
       " 7,\n",
       " 8,\n",
       " 9,\n",
       " 10,\n",
       " 11,\n",
       " 12,\n",
       " 13,\n",
       " 14,\n",
       " 15,\n",
       " 16,\n",
       " 17,\n",
       " 18,\n",
       " 19,\n",
       " 20,\n",
       " 21,\n",
       " 22,\n",
       " 23}"
      ]
     },
     "execution_count": 13,
     "metadata": {},
     "output_type": "execute_result"
    }
   ],
   "source": [
    "g = zigzag(10)\n",
    "set(g.vs())"
   ]
  },
  {
   "cell_type": "code",
   "execution_count": 12,
   "metadata": {},
   "outputs": [
    {
     "data": {
      "text/plain": [
       "[0,\n",
       " 1,\n",
       " 2,\n",
       " 3,\n",
       " 4,\n",
       " 5,\n",
       " 6,\n",
       " 7,\n",
       " 8,\n",
       " 9,\n",
       " 10,\n",
       " 11,\n",
       " 12,\n",
       " 13,\n",
       " 14,\n",
       " 15,\n",
       " 16,\n",
       " 17,\n",
       " 18,\n",
       " 19,\n",
       " 20,\n",
       " 21,\n",
       " 22,\n",
       " 23]"
      ]
     },
     "execution_count": 12,
     "metadata": {},
     "output_type": "execute_result"
    }
   ],
   "source": [
    "g.add_nodes_from(range(4))\n",
    "list(g)"
   ]
  },
  {
   "cell_type": "code",
   "execution_count": 44,
   "metadata": {},
   "outputs": [
    {
     "name": "stdout",
     "output_type": "stream",
     "text": [
      "Wall time: 13.7 s\n",
      "Wall time: 0 ns\n",
      "Wall time: 0 ns\n"
     ]
    },
    {
     "data": {
      "text/plain": [
       "True"
      ]
     },
     "execution_count": 44,
     "metadata": {},
     "output_type": "execute_result"
    }
   ],
   "source": [
    "%time g = zigzag(5 * 10**5)\n",
    "%time m = match_bialg(g, interior=True)\n",
    "%time bialg(g, m)"
   ]
  },
  {
   "cell_type": "code",
   "execution_count": 45,
   "metadata": {},
   "outputs": [
    {
     "name": "stdout",
     "output_type": "stream",
     "text": [
      "Wall time: 2.31 s\n",
      "Wall time: 1.69 s\n",
      "got 46256 matches\n",
      "Wall time: 1.85 s\n"
     ]
    }
   ],
   "source": [
    "%time g = zigzag(5 * 10**4)\n",
    "%time m = match_bialg_parallel(g, num=-1)\n",
    "print('got ' + str(len(m)) + ' matches')\n",
    "%time bialg_parallel(g, m)"
   ]
  },
  {
   "cell_type": "code",
   "execution_count": 9,
   "metadata": {},
   "outputs": [
    {
     "name": "stdout",
     "output_type": "stream",
     "text": [
      "Wall time: 2.06 s\n"
     ]
    }
   ],
   "source": [
    "#%time m = match_bialg(g, interior=True)\n",
    "%time es = set(g.edges)"
   ]
  },
  {
   "cell_type": "code",
   "execution_count": null,
   "metadata": {},
   "outputs": [],
   "source": []
  },
  {
   "cell_type": "code",
   "execution_count": 10,
   "metadata": {},
   "outputs": [
    {
     "name": "stdout",
     "output_type": "stream",
     "text": [
      "CPU times: user 93.8 ms, sys: 15.6 ms, total: 109 ms\n",
      "Wall time: 90.9 ms\n",
      "simplifying graph with 10004 nodes and 20000 edges...\n",
      "CPU times: user 13.7 s, sys: 31.2 ms, total: 13.7 s\n",
      "Wall time: 13.8 s\n"
     ]
    },
    {
     "data": {
      "image/png": "[encoded data removed]",
      "text/plain": [
       "<matplotlib.figure.Figure at 0x7f9d447cc7f0>"
      ]
     },
     "metadata": {},
     "output_type": "display_data"
    }
   ],
   "source": [
    "%time g = zigzag(5000)\n",
    "print('simplifying graph with ' + str(len(g.nodes())) + ' nodes and ' + str(len(g.edges())) + ' edges...')\n",
    "def f():\n",
    "    while True:\n",
    "        m = match_bialg(g, interior=True)\n",
    "        if m: bialg(g, m)\n",
    "        else: break\n",
    "%time f()\n",
    "draw(g)"
   ]
  },
  {
   "cell_type": "code",
   "execution_count": 14,
   "metadata": {},
   "outputs": [
    {
     "name": "stdout",
     "output_type": "stream",
     "text": [
      "CPU times: user 9.73 s, sys: 4.58 s, total: 14.3 s\n",
      "Wall time: 15.2 s\n",
      "ForkPoolWorker-25\n",
      "ForkPoolWorker-26\n",
      "ForkPoolWorker-27\n",
      "ForkPoolWorker-28\n",
      "ForkPoolWorker-29\n",
      "ForkPoolWorker-30\n",
      "ForkPoolWorker-31\n",
      "ForkPoolWorker-32\n",
      "CPU times: user 78.1 ms, sys: 4.75 s, total: 4.83 s\n",
      "Wall time: 4.95 s\n",
      "CPU times: user 2.94 s, sys: 1.42 s, total: 4.36 s\n",
      "Wall time: 40.5 s\n"
     ]
    }
   ],
   "source": [
    "def noop(g):\n",
    "    return g\n",
    "\n",
    "def nf(g):\n",
    "    while True:\n",
    "        m = match_bialg(g, interior=True)\n",
    "        if m: bialg(g, m)\n",
    "        else: break\n",
    "    return g\n",
    "\n",
    "%time gs = [zigzag(500) for i in range(1000)]\n",
    "%time pool = mp.Pool(processes=8, initializer=lambda: print(mp.current_process().name))\n",
    "%time output = pool.map(nf,gs)"
   ]
  },
  {
   "cell_type": "code",
   "execution_count": 50,
   "metadata": {},
   "outputs": [
    {
     "name": "stdout",
     "output_type": "stream",
     "text": [
      "Wall time: 21 s\n",
      "normalising ZX diagram with 1000004 vertices and 2000000 edges\n",
      "got 463358 matches of bialgebra\n",
      "got 23518 matches of bialgebra\n",
      "got 392 matches of bialgebra\n",
      "got 0 matches of bialgebra\n",
      "completed in 4 iterations\n",
      "Wall time: 45.1 s\n"
     ]
    }
   ],
   "source": [
    "%time g = zigzag(5 * 10**5)\n",
    "def f():\n",
    "    print(\"normalising ZX diagram with \" + str(len(g)) +\n",
    "          \" vertices and \" + str(len(g.edges)) + \" edges\")\n",
    "    it = 0\n",
    "    while True:\n",
    "        it += 1\n",
    "        m = match_bialg_parallel(g, num=-1)\n",
    "        print(\"got \" + str(len(m)) + \" matches of bialgebra\")\n",
    "        if len(m) != 0: bialg_parallel(g, m)\n",
    "        else: break\n",
    "    print(\"completed in \" + str(it) + \" iterations\")\n",
    "\n",
    "%time f()"
   ]
  },
  {
   "cell_type": "code",
   "execution_count": 7,
   "metadata": {},
   "outputs": [
    {
     "name": "stdout",
     "output_type": "stream",
     "text": [
      "CPU times: user 12.3 s, sys: 2.84 s, total: 15.1 s\n",
      "Wall time: 15.4 s\n"
     ]
    }
   ],
   "source": [
    "%time g1 = zigzag(5 * 10**5)"
   ]
  },
  {
   "cell_type": "code",
   "execution_count": 10,
   "metadata": {},
   "outputs": [
    {
     "name": "stdout",
     "output_type": "stream",
     "text": [
      "normalising ZX diagram with 1000004 vertices and 2000000 edges\n",
      "got 100000 matches of bialgebra\n",
      "got 100000 matches of bialgebra\n",
      "got 100000 matches of bialgebra\n",
      "got 61804 matches of bialgebra\n",
      "got 1219 matches of bialgebra\n",
      "got 1 matches of bialgebra\n",
      "got 0 matches of bialgebra\n",
      "completed in 7 iterations\n",
      "CPU times: user 37.2 s, sys: 1.59 s, total: 38.8 s\n",
      "Wall time: 39.2 s\n"
     ]
    }
   ],
   "source": [
    "def bialg_norm(g):\n",
    "    print(\"normalising ZX diagram with \" + str(len(g)) +\n",
    "          \" vertices and \" + str(len(g.edges)) + \" edges\")\n",
    "    it = 0\n",
    "    while True:\n",
    "        it += 1\n",
    "        m = match_bialg_parallel(g, num=100000)\n",
    "        print(\"got \" + str(len(m)) + \" matches of bialgebra\")\n",
    "        if len(m) != 0: bialg_parallel(g, m)\n",
    "        else: break\n",
    "    print(\"completed in \" + str(it) + \" iterations\")\n",
    "\n",
    "%time bialg_norm(g1)"
   ]
  },
  {
   "cell_type": "code",
   "execution_count": 24,
   "metadata": {},
   "outputs": [],
   "source": [
    "g = zigzag(10**6)"
   ]
  },
  {
   "cell_type": "code",
   "execution_count": 28,
   "metadata": {},
   "outputs": [
    {
     "name": "stdout",
     "output_type": "stream",
     "text": [
      "CPU times: user 3.45 s, sys: 297 ms, total: 3.75 s\n",
      "Wall time: 3.74 s\n"
     ]
    },
    {
     "data": {
      "text/plain": [
       "199994"
      ]
     },
     "execution_count": 28,
     "metadata": {},
     "output_type": "execute_result"
    }
   ],
   "source": [
    "r = range(0,100000)\n",
    "%time ev = set(filter(lambda t: t[0] in r and t[1] in r, g.edges))\n",
    "len(ev)"
   ]
  },
  {
   "cell_type": "code",
   "execution_count": 18,
   "metadata": {},
   "outputs": [
    {
     "name": "stdout",
     "output_type": "stream",
     "text": [
      "CPU times: user 0 ns, sys: 0 ns, total: 0 ns\n",
      "Wall time: 20.5 µs\n"
     ]
    },
    {
     "data": {
      "text/plain": [
       "True"
      ]
     },
     "execution_count": 18,
     "metadata": {},
     "output_type": "execute_result"
    }
   ],
   "source": [
    "%time 5 in range(0,100)"
   ]
  },
  {
   "cell_type": "code",
   "execution_count": null,
   "metadata": {},
   "outputs": [],
   "source": []
  }
 ],
 "metadata": {
  "kernelspec": {
   "display_name": "Python 3",
   "language": "python",
   "name": "python3"
  },
  "language_info": {
   "codemirror_mode": {
    "name": "ipython",
    "version": 3
   },
   "file_extension": ".py",
   "mimetype": "text/x-python",
   "name": "python",
   "nbconvert_exporter": "python",
   "pygments_lexer": "ipython3",
   "version": "3.5.2"
  }
 },
 "nbformat": 4,
 "nbformat_minor": 2
}
