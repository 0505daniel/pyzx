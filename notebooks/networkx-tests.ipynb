{
 "cells": [
  {
   "cell_type": "code",
   "execution_count": 1,
   "metadata": {},
   "outputs": [],
   "source": [
    "import networkx as nx"
   ]
  },
  {
   "cell_type": "code",
   "execution_count": 2,
   "metadata": {},
   "outputs": [],
   "source": [
    "g = nx.Graph()"
   ]
  },
  {
   "cell_type": "code",
   "execution_count": 5,
   "metadata": {},
   "outputs": [],
   "source": [
    "def zigzag(sz):\n",
    "    g = nx.Graph()\n",
    "    g.add_nodes_from(range(2*sz+4), t=0)\n",
    "    for i in range(1,sz+1):\n",
    "        g.node[2*i]['t'] = (i%2)+1\n",
    "        g.node[2*i+1]['t'] = (i%2)+1\n",
    "    g.add_edges_from([(0,2),(1,3)])\n",
    "    g.add_edges_from([(2*i,2*i+2) for i in range(1,sz)])\n",
    "    g.add_edges_from([(2*i,2*i+3) for i in range(1,sz)])\n",
    "    g.add_edges_from([(2*i+1,2*i+2) for i in range(1,sz)])\n",
    "    g.add_edges_from([(2*i+1,2*i+3) for i in range(1,sz)])\n",
    "    g.add_edges_from([(2*sz,2*sz+2),(2*sz+1,2*sz+3)])\n",
    "    return g"
   ]
  },
  {
   "cell_type": "code",
   "execution_count": 13,
   "metadata": {},
   "outputs": [
    {
     "name": "stdout",
     "output_type": "stream",
     "text": [
      "Wall time: 25.6 s\n"
     ]
    }
   ],
   "source": [
    "%time g = zigzag(1000000)"
   ]
  },
  {
   "cell_type": "code",
   "execution_count": 8,
   "metadata": {},
   "outputs": [
    {
     "data": {
      "text/plain": [
       "{'t': 0}"
      ]
     },
     "execution_count": 8,
     "metadata": {},
     "output_type": "execute_result"
    }
   ],
   "source": [
    "g.node[0]"
   ]
  },
  {
   "cell_type": "code",
   "execution_count": null,
   "metadata": {},
   "outputs": [],
   "source": []
  }
 ],
 "metadata": {
  "kernelspec": {
   "display_name": "Python 3",
   "language": "python",
   "name": "python3"
  },
  "language_info": {
   "codemirror_mode": {
    "name": "ipython",
    "version": 3
   },
   "file_extension": ".py",
   "mimetype": "text/x-python",
   "name": "python",
   "nbconvert_exporter": "python",
   "pygments_lexer": "ipython3",
   "version": "3.6.4"
  }
 },
 "nbformat": 4,
 "nbformat_minor": 2
}
