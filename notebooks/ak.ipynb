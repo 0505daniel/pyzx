{
 "cells": [
  {
   "cell_type": "code",
   "execution_count": null,
   "metadata": {},
   "outputs": [],
   "source": [
    "import sys; sys.path.append('..')\n",
    "import pyzx as zx\n",
    "import random\n",
    "zx.d3.init()"
   ]
  },
  {
   "cell_type": "code",
   "execution_count": null,
   "metadata": {},
   "outputs": [],
   "source": [
    "c = zx.Circuit(2)\n",
    "c.add_gate(\"CNOT\",0,1)\n",
    "c.add_gate(\"NOT\",0)\n",
    "c.add_gate(\"T\",1)\n",
    "c.add_gate(\"HAD\",1)\n",
    "c.add_gate(\"T\",1)\n",
    "c.add_gate(\"HAD\",1)\n",
    "c.add_gate(\"T\",1,adjoint=True)\n",
    "c.add_gate(\"CNOT\",0,1)\n",
    "c.add_gate(\"NOT\",0)\n",
    "c.add_gate(\"T\",1)\n",
    "c.add_gate(\"HAD\",1)\n",
    "c.add_gate(\"T\",1,adjoint=True)\n",
    "c.add_gate(\"HAD\",1)\n",
    "c.add_gate(\"T\",1,adjoint=True)\n",
    "for i in range(4): c.add_circuit(c)"
   ]
  },
  {
   "cell_type": "code",
   "execution_count": null,
   "metadata": {},
   "outputs": [],
   "source": [
    "print(c.stats())"
   ]
  },
  {
   "cell_type": "code",
   "execution_count": null,
   "metadata": {
    "scrolled": false
   },
   "outputs": [],
   "source": [
    "c2 = zx.Circuit.load(r'..\\circuits\\Fast\\adder_8_before')\n",
    "g = c2.to_graph()\n",
    "# zx.spider_simp(g)\n",
    "# zx.to_gh(g)\n",
    "# zx.spider_simp(g)\n",
    "zx.d3.draw(g, scale=20)"
   ]
  },
  {
   "cell_type": "code",
   "execution_count": null,
   "metadata": {},
   "outputs": [],
   "source": [
    "# should be self-adjoint\n",
    "c = zx.Circuit(2)\n",
    "c.add_gate(\"NOT\",0)\n",
    "c.add_gate(\"T\",1,adjoint=True)\n",
    "c.add_gate(\"S\",1,adjoint=True)\n",
    "c.add_gate(\"HAD\",1)\n",
    "c.add_gate(\"T\",1,adjoint=True)\n",
    "c.add_gate(\"CNOT\",0,1)\n",
    "c.add_gate(\"NOT\",0)\n",
    "c.add_gate(\"T\",1)\n",
    "c.add_gate(\"HAD\",1)\n",
    "c.add_gate(\"S\",1)\n",
    "c.add_gate(\"T\",1)\n",
    "c.add_gate(\"CNOT\",0,1)"
   ]
  },
  {
   "cell_type": "code",
   "execution_count": null,
   "metadata": {},
   "outputs": [],
   "source": [
    "g1 = c.to_graph()\n",
    "zx.spider_simp(g1); zx.to_gh(g1); zx.spider_simp(g1)\n",
    "#zx.full_reduce(g1)\n",
    "gad = zx.gadgetize(g1)\n",
    "zx.pivot_simp(g1, matchf=lambda e: not (g1.edge_s(e) in gad[0] or g1.edge_t(e) in gad[0]))\n",
    "zx.spider_simp(g1)\n",
    "zx.id_simp(g1)\n",
    "#gad = zx.gadgetize(g1)\n",
    "#zx.pivot_simp(g1, matchf=lambda e: not (g1.edge_s(e) in gad[0] or g1.edge_t(e) in gad[0]))\n",
    "\n",
    "#zx.pivot_simp(g1)\n",
    "#g1.set_qubit(11, 4)\n",
    "#g1.set_qubit(17, 4)\n",
    "g1.normalise()\n",
    "zx.draw(g1, labels=True)"
   ]
  },
  {
   "cell_type": "code",
   "execution_count": null,
   "metadata": {},
   "outputs": [],
   "source": [
    "g2 = g1.copy()\n",
    "for e in g2.edges(): g2.set_edge_type(e, 1)\n",
    "zx.quantomatic.edit_graph(g2)"
   ]
  },
  {
   "cell_type": "code",
   "execution_count": null,
   "metadata": {},
   "outputs": [],
   "source": [
    "g3 = Out[26]"
   ]
  },
  {
   "cell_type": "code",
   "execution_count": null,
   "metadata": {},
   "outputs": [],
   "source": [
    "zx.draw(g)"
   ]
  },
  {
   "cell_type": "code",
   "execution_count": null,
   "metadata": {},
   "outputs": [],
   "source": [
    "def check(g1, gadgets):\n",
    "    return sum(1 for v in gadgets for w in gadgets if g1.connected(v,w))//2\n",
    "\n",
    "def phase_simp(g1):\n",
    "    zx.spider_simp(g1, quiet=True)\n",
    "    zx.to_gh(g1)\n",
    "    #hile True:\n",
    "    for i in range(10):\n",
    "        zx.simplify.clifford_simp(g1, quiet=True)\n",
    "        #zx.simplify.clifford_simp(g1, quiet=True)\n",
    "        gadgets = set(zx.gadgetize(g1))\n",
    "        zx.simplify.pivot_simp(g1, matchf=lambda e: not (g1.edge_s(e) in gadgets or g1.edge_t(e) in gadgets), quiet=True)\n",
    "        #if check(g1, gadgets) == 0: break\n",
    "        print(check(g1, gadgets), end='.')\n",
    "    g1.normalise()\n",
    "    return gadgets\n"
   ]
  },
  {
   "cell_type": "code",
   "execution_count": null,
   "metadata": {},
   "outputs": [],
   "source": [
    "for i in range(20):\n",
    "    g = zx.generate.cliffordT(5, 400, p_t=0.4, p_hsh=0)\n",
    "    print('trying graph...')\n",
    "    gadgets = phase_simp(g)\n",
    "    print('done')\n",
    "    #print(check(g, gadgets))"
   ]
  },
  {
   "cell_type": "code",
   "execution_count": null,
   "metadata": {},
   "outputs": [],
   "source": []
  },
  {
   "cell_type": "code",
   "execution_count": null,
   "metadata": {},
   "outputs": [],
   "source": [
    "g1 = g.copy()\n",
    "zx.spider_simp(g1)\n",
    "print(zx.t_count(g1))\n",
    "zx.to_gh(g1)\n",
    "for i in range(2):\n",
    "    zx.simplify.clifford_simp(g1)\n",
    "    zx.simplify.clifford_simp(g1)\n",
    "    gadgets = set(zx.gadgetize(g1))\n",
    "    zx.simplify.pivot_simp(g1, matchf=lambda e: not (g1.edge_s(e) in gadgets or g1.edge_t(e) in gadgets))\n",
    "g1.normalise()\n",
    "print(zx.t_count(g1))\n",
    "zx.draw(g1, labels=True, figsize=(8,4))"
   ]
  },
  {
   "cell_type": "code",
   "execution_count": null,
   "metadata": {},
   "outputs": [],
   "source": [
    "gadgets"
   ]
  },
  {
   "cell_type": "code",
   "execution_count": null,
   "metadata": {},
   "outputs": [],
   "source": [
    "all(not g1.connected(v,w) for v in gadgets for w in gadgets)"
   ]
  },
  {
   "cell_type": "code",
   "execution_count": null,
   "metadata": {},
   "outputs": [],
   "source": [
    "g2 = g1.copy()\n",
    "for e in g2.edges(): g2.set_edge_type(e, 1)"
   ]
  },
  {
   "cell_type": "code",
   "execution_count": null,
   "metadata": {},
   "outputs": [],
   "source": [
    "g2 = zx.quantomatic.edit_graph(g2)"
   ]
  },
  {
   "cell_type": "code",
   "execution_count": null,
   "metadata": {},
   "outputs": [],
   "source": [
    "zx.draw(g2, labels=True)"
   ]
  },
  {
   "cell_type": "code",
   "execution_count": null,
   "metadata": {},
   "outputs": [],
   "source": [
    "zx.extract.cut_rank(g2, [12,3,9,15, 7, 8, 16, 17], [6, 4,10,1,5])"
   ]
  },
  {
   "cell_type": "code",
   "execution_count": null,
   "metadata": {},
   "outputs": [],
   "source": []
  }
 ],
 "metadata": {
  "kernelspec": {
   "display_name": "Python 3",
   "language": "python",
   "name": "python3"
  },
  "language_info": {
   "codemirror_mode": {
    "name": "ipython",
    "version": 3
   },
   "file_extension": ".py",
   "mimetype": "text/x-python",
   "name": "python",
   "nbconvert_exporter": "python",
   "pygments_lexer": "ipython3",
   "version": "3.6.4"
  }
 },
 "nbformat": 4,
 "nbformat_minor": 2
}
