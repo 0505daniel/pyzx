{
 "cells": [
  {
   "cell_type": "code",
   "execution_count": 1,
   "metadata": {},
   "outputs": [],
   "source": [
    "%load_ext autoreload\n",
    "%autoreload 2"
   ]
  },
  {
   "cell_type": "code",
   "execution_count": 2,
   "metadata": {},
   "outputs": [],
   "source": [
    "import sys; sys.path.append('..')\n",
    "import random, math\n",
    "import pyzx as zx\n",
    "from fractions import Fraction\n",
    "from pyzx.phasepoly import circuit_phase_polynomial_blocks, optimize_block\n",
    "%config InlineBackend.figure_format = 'svg'\n",
    "zx.quantomatic.quantomatic_location = r'C:\\Users\\John\\Desktop\\scala.jar'"
   ]
  },
  {
   "cell_type": "code",
   "execution_count": 3,
   "metadata": {},
   "outputs": [],
   "source": [
    "import os\n",
    "\n",
    "class CircuitComparer:\n",
    "    def __init__(self, dirname, before, after):\n",
    "        self.fname_before = os.path.join(dirname, before)\n",
    "        self.fname_after = os.path.join(dirname, after)\n",
    "        self.name = before[:-7]\n",
    "        self.has_run = False\n",
    "    \n",
    "    def __str__(self):\n",
    "        return \"CircuitComparer({}, {})\".format(self.name, str(self.has_run))\n",
    "\n",
    "    def __repr__(self):\n",
    "        return str(self)\n",
    "    \n",
    "    def run(self):\n",
    "        if self.has_run: return True\n",
    "        try: \n",
    "            c = zx.Circuit.from_quipper_file(self.fname_after).to_basic_gates()\n",
    "            self.t_opt = c.tcount()\n",
    "            self.qubits = c.qubits\n",
    "            c = zx.Circuit.from_quipper_file(self.fname_before).to_basic_gates()\n",
    "        except TypeError: return False\n",
    "        self.gatecount = len(c.gates)\n",
    "        self.t_before = c.tcount()\n",
    "        g = c.to_graph()\n",
    "        zx.simplify.full_reduce(g)\n",
    "        self.t_after = zx.tcount(g)\n",
    "        self.has_run = True\n",
    "        del c, g\n",
    "        return True\n",
    "    \n",
    "    def pretty(self):\n",
    "        if not self.has_run:\n",
    "            success = self.run()\n",
    "        else: success = True\n",
    "        if not success: \n",
    "            return self.name + \"    -\"\n",
    "        s = self.name.ljust(20) + str(self.qubits).rjust(7)\n",
    "        s += str(self.gatecount).rjust(8) + str(self.t_before).rjust(7) + str(self.t_opt).rjust(9) + str(self.t_after).rjust(7)\n",
    "        return s"
   ]
  },
  {
   "cell_type": "code",
   "execution_count": 4,
   "metadata": {},
   "outputs": [],
   "source": [
    "\n",
    "dirs = [r'..\\circuits\\Arithmetic_and_Toffoli', r'..\\circuits\\QFT_and_Adders']\n",
    "beforefiles = []\n",
    "afterfiles = []\n",
    "for d in dirs:\n",
    "    for f in os.listdir(d):\n",
    "        if not os.path.isfile(os.path.join(d,f)): continue\n",
    "        if f.find('before') != -1:\n",
    "            beforefiles.append((f,d))\n",
    "        else: afterfiles.append((f,d))\n",
    "\n",
    "circuits = []\n",
    "for f, d in beforefiles:\n",
    "    n = f[:-7]\n",
    "    for f2,d2 in afterfiles:\n",
    "        if d!=d2: continue\n",
    "        #n = f2.replace(\"_after_heavy\",\"\")\n",
    "        if f2.startswith(n):\n",
    "            c = CircuitComparer(d, f, f2)\n",
    "            circuits.append(c)\n",
    "            break\n",
    "#circuits[:30]"
   ]
  },
  {
   "cell_type": "code",
   "execution_count": 5,
   "metadata": {
    "scrolled": false
   },
   "outputs": [
    {
     "name": "stdout",
     "output_type": "stream",
     "text": [
      "Circuit              qubits G-count T-before T-kitchen T-us\n",
      "adder_8                  24    1014    399      215    179\n",
      "barenco_tof_10           19     514    224      100    100\n",
      "barenco_tof_3             5      66     28       16     16\n",
      "barenco_tof_4             7     130     56       28     28\n",
      "barenco_tof_5             9     194     84       40     40\n",
      "csla_mux_3_original      15     190     70       64     62\n",
      "csum_mux_9_corrected     30     448    196       84     84\n",
      "gf2^E10_mult             30    1709    700      410    410\n",
      "gf2^E16_mult             48    4397   1792     1040   1040\n",
      "gf2^E4_mult              12     275    112       68     68\n",
      "gf2^E5_mult              15     429    175      115    115\n",
      "gf2^E6_mult              18     617    252      150    150\n",
      "gf2^E7_mult              21     839    343      217    217\n",
      "gf2^E8_mult              24    1109    448      264    264\n",
      "gf2^E9_mult              27    1385    567      351    351\n",
      "mod5_4                    5      71     28       16      8\n",
      "mod_adder_1024           28    4855   1995     1011   1011\n",
      "mod_mult_55               9     133     49       35     35\n",
      "mod_red_21               11     312    119       73     73\n",
      "qcla_adder_10            36     589    238      162    162\n",
      "qcla_com_7               24     501    203       95     95\n",
      "qcla_mod_7               26    1002    413      235    237\n",
      "rc_adder_6               14     222     77       47     47\n",
      "tof_10                   19     289    119       71     71\n",
      "tof_3                     5      51     21       15     15\n",
      "tof_4                     7      85     35       23     23\n",
      "tof_5                     9     119     49       31     31\n",
      "vbe_adder_3              10     170     70       24     24\n",
      "Adder8                   23     637    266       56     56\n",
      "QFT16                    16     586    342      144    144\n",
      "QFT32                    32    1562    918      368    368\n",
      "QFT64                    64    3514   2070      816    816\n",
      "QFT8                      8     148     84       42     42\n",
      "QFTAdd16                 32    1822   1026      402    402\n",
      "QFTAdd32                 64    4814   2754     1042   1042\n",
      "QFTAdd64                128   10798   6210     2322   2322\n",
      "QFTAdd8                  16     476    252      112    112\n"
     ]
    }
   ],
   "source": [
    "print(\"Circuit\".ljust(20), \"qubits\", \"G-count\", \"T-before\", \"T-kitchen\", \"T-us\")\n",
    "for c in circuits:\n",
    "    if c.run():\n",
    "        print(c.pretty())"
   ]
  },
  {
   "cell_type": "code",
   "execution_count": 16,
   "metadata": {},
   "outputs": [
    {
     "name": "stdout",
     "output_type": "stream",
     "text": [
      "spider_simp: 171. 129. 76. 37. 23. 14. 8. 5. 3. 1.  10 iterations\n",
      "id_simp: 108. 57.  2 iterations\n",
      "spider_simp: 21. 2.  2 iterations\n",
      "pivot_simp: 31. 4. 2. 1. 1.  5 iterations\n",
      "lcomp_simp: 6. 6.  2 iterations\n",
      "id_simp: 5.  1 iterations\n",
      "spider_simp: 4.  1 iterations\n",
      "pivot_simp: 1.  1 iterations\n",
      "lcomp_simp: 3. 3.  2 iterations\n",
      "id_simp: 1.  1 iterations\n",
      "spider_simp: 1.  1 iterations\n",
      "Gadgetizing...\n",
      "pivot_simp: 144. 51. 37. 35. 21. 11. 14. 11. 10. 7. 7. 7. 4. 3. 1.  15 iterations\n",
      "Back to clifford_simp\n",
      "id_simp: 41.  1 iterations\n",
      "spider_simp: 13. 12. 5. 3. 2. 1.  6 iterations\n",
      "pivot_simp: 9. 9. 7. 5. 1. 1.  6 iterations\n",
      "id_simp: 29.  1 iterations\n",
      "spider_simp: 13. 8. 3. 1. 1. 1.  6 iterations\n",
      "pivot_simp: 1. 1.  2 iterations\n",
      "lcomp_simp: 11. 9. 1. 3.  4 iterations\n",
      "id_simp: 12.  1 iterations\n",
      "spider_simp: 6. 4. 1. 1.  4 iterations\n",
      "pivot_simp: 6. 3.  2 iterations\n",
      "id_simp: 4.  1 iterations\n",
      "spider_simp: 4.  1 iterations\n",
      "lcomp_simp: 4. 4.  2 iterations\n",
      "id_simp: 2.  1 iterations\n",
      "spider_simp: 2.  1 iterations\n",
      "pivot_simp: 1.  1 iterations\n",
      "gadget_simp: 43.  1 iterations\n",
      "pivot_simp: 6.  1 iterations\n",
      "lcomp_simp: 20. 20.  2 iterations\n",
      "pivot_simp: 1.  1 iterations\n"
     ]
    },
    {
     "ename": "MemoryError",
     "evalue": "",
     "output_type": "error",
     "traceback": [
      "\u001b[1;31m---------------------------------------------------------------------------\u001b[0m",
      "\u001b[1;31mMemoryError\u001b[0m                               Traceback (most recent call last)",
      "\u001b[1;32m<ipython-input-16-dbc16e895a61>\u001b[0m in \u001b[0;36m<module>\u001b[1;34m()\u001b[0m\n\u001b[0;32m      4\u001b[0m \u001b[0mg\u001b[0m\u001b[1;33m.\u001b[0m\u001b[0mnormalise\u001b[0m\u001b[1;33m(\u001b[0m\u001b[1;33m)\u001b[0m\u001b[1;33m\u001b[0m\u001b[0m\n\u001b[0;32m      5\u001b[0m \u001b[1;31m#zx.draw(g,figsize=(20,3))\u001b[0m\u001b[1;33m\u001b[0m\u001b[1;33m\u001b[0m\u001b[0m\n\u001b[1;32m----> 6\u001b[1;33m \u001b[0mc2\u001b[0m \u001b[1;33m=\u001b[0m \u001b[0mzx\u001b[0m\u001b[1;33m.\u001b[0m\u001b[0mextract\u001b[0m\u001b[1;33m.\u001b[0m\u001b[0mstreaming_extract\u001b[0m\u001b[1;33m(\u001b[0m\u001b[0mg\u001b[0m\u001b[1;33m)\u001b[0m\u001b[1;33m.\u001b[0m\u001b[0mto_basic_gates\u001b[0m\u001b[1;33m(\u001b[0m\u001b[1;33m)\u001b[0m\u001b[1;33m\u001b[0m\u001b[0m\n\u001b[0m\u001b[0;32m      7\u001b[0m \u001b[0mprint\u001b[0m\u001b[1;33m(\u001b[0m\u001b[0mlen\u001b[0m\u001b[1;33m(\u001b[0m\u001b[0mc2\u001b[0m\u001b[1;33m.\u001b[0m\u001b[0mgates\u001b[0m\u001b[1;33m)\u001b[0m\u001b[1;33m,\u001b[0m \u001b[0mc2\u001b[0m\u001b[1;33m.\u001b[0m\u001b[0mtcount\u001b[0m\u001b[1;33m(\u001b[0m\u001b[1;33m)\u001b[0m\u001b[1;33m)\u001b[0m\u001b[1;33m\u001b[0m\u001b[0m\n\u001b[0;32m      8\u001b[0m \u001b[1;31m#zx.draw(c2.to_graph())\u001b[0m\u001b[1;33m\u001b[0m\u001b[1;33m\u001b[0m\u001b[0m\n",
      "\u001b[1;32m~\\Documents\\Projects\\pyzx\\pyzx\\extract.py\u001b[0m in \u001b[0;36mstreaming_extract\u001b[1;34m(g, quiet, stopcount)\u001b[0m\n\u001b[0;32m    427\u001b[0m             \u001b[0mm\u001b[0m \u001b[1;33m=\u001b[0m \u001b[0mbi_adj\u001b[0m\u001b[1;33m(\u001b[0m\u001b[0mg\u001b[0m\u001b[1;33m,\u001b[0m\u001b[0mright\u001b[0m\u001b[1;33m,\u001b[0m\u001b[0mleft\u001b[0m\u001b[1;33m)\u001b[0m\u001b[1;33m\u001b[0m\u001b[0m\n\u001b[0;32m    428\u001b[0m             \u001b[1;31m#print(m)\u001b[0m\u001b[1;33m\u001b[0m\u001b[1;33m\u001b[0m\u001b[0m\n\u001b[1;32m--> 429\u001b[1;33m             \u001b[0msequence\u001b[0m \u001b[1;33m=\u001b[0m \u001b[0mgreedy_reduction\u001b[0m\u001b[1;33m(\u001b[0m\u001b[0mm\u001b[0m\u001b[1;33m)\u001b[0m \u001b[1;31m# Find the optimal set of CNOTs we can apply to get a frontier we can work with\u001b[0m\u001b[1;33m\u001b[0m\u001b[0m\n\u001b[0m\u001b[0;32m    430\u001b[0m             \u001b[1;32mif\u001b[0m \u001b[1;32mnot\u001b[0m \u001b[0misinstance\u001b[0m\u001b[1;33m(\u001b[0m\u001b[0msequence\u001b[0m\u001b[1;33m,\u001b[0m \u001b[0mlist\u001b[0m\u001b[1;33m)\u001b[0m\u001b[1;33m:\u001b[0m \u001b[1;31m# Couldn't find any reduction, hopefully we can fix this\u001b[0m\u001b[1;33m\u001b[0m\u001b[0m\n\u001b[0;32m    431\u001b[0m                 \u001b[0mgates\u001b[0m\u001b[1;33m,\u001b[0m \u001b[0mleftrow\u001b[0m \u001b[1;33m=\u001b[0m \u001b[0mhandle_phase_gadget\u001b[0m\u001b[1;33m(\u001b[0m\u001b[0mg\u001b[0m\u001b[1;33m,\u001b[0m \u001b[0mleftrow\u001b[0m\u001b[1;33m,\u001b[0m \u001b[0mquiet\u001b[0m\u001b[1;33m=\u001b[0m\u001b[0mquiet\u001b[0m\u001b[1;33m)\u001b[0m\u001b[1;33m\u001b[0m\u001b[0m\n",
      "\u001b[1;32m~\\Documents\\Projects\\pyzx\\pyzx\\linalg.py\u001b[0m in \u001b[0;36mgreedy_reduction\u001b[1;34m(m)\u001b[0m\n\u001b[0;32m    275\u001b[0m     \u001b[1;32min\u001b[0m \u001b[0morder\u001b[0m \u001b[0mto\u001b[0m \u001b[0mreduce\u001b[0m \u001b[0mone\u001b[0m \u001b[0mrow\u001b[0m \u001b[0mof\u001b[0m \u001b[0mm\u001b[0m \u001b[0mto\u001b[0m \u001b[0monly\u001b[0m \u001b[0mcontain\u001b[0m \u001b[0ma\u001b[0m \u001b[0msingle\u001b[0m \u001b[1;36m1.\u001b[0m\u001b[1;33m\u001b[0m\u001b[0m\n\u001b[0;32m    276\u001b[0m     Used in :func:`extract.streaming_extract`\"\"\"\n\u001b[1;32m--> 277\u001b[1;33m     \u001b[0mindices\u001b[0m \u001b[1;33m=\u001b[0m \u001b[0mfind_minimal_sums\u001b[0m\u001b[1;33m(\u001b[0m\u001b[0mm\u001b[0m\u001b[1;33m)\u001b[0m\u001b[1;33m\u001b[0m\u001b[0m\n\u001b[0m\u001b[0;32m    278\u001b[0m     \u001b[1;32mif\u001b[0m \u001b[1;32mnot\u001b[0m \u001b[0misinstance\u001b[0m\u001b[1;33m(\u001b[0m\u001b[0mindices\u001b[0m\u001b[1;33m,\u001b[0m \u001b[1;33m(\u001b[0m\u001b[0mlist\u001b[0m\u001b[1;33m,\u001b[0m\u001b[0mtuple\u001b[0m\u001b[1;33m)\u001b[0m\u001b[1;33m)\u001b[0m\u001b[1;33m:\u001b[0m \u001b[1;32mreturn\u001b[0m \u001b[0mindices\u001b[0m\u001b[1;33m\u001b[0m\u001b[0m\n\u001b[0;32m    279\u001b[0m     \u001b[0mindices\u001b[0m \u001b[1;33m=\u001b[0m \u001b[0mlist\u001b[0m\u001b[1;33m(\u001b[0m\u001b[0mindices\u001b[0m\u001b[1;33m)\u001b[0m\u001b[1;33m\u001b[0m\u001b[0m\n",
      "\u001b[1;32m~\\Documents\\Projects\\pyzx\\pyzx\\linalg.py\u001b[0m in \u001b[0;36mfind_minimal_sums\u001b[1;34m(m)\u001b[0m\n\u001b[0;32m    265\u001b[0m                 \u001b[1;32mif\u001b[0m \u001b[0msum\u001b[0m\u001b[1;33m(\u001b[0m\u001b[0mrow\u001b[0m\u001b[1;33m)\u001b[0m \u001b[1;33m==\u001b[0m \u001b[1;36m1\u001b[0m\u001b[1;33m:\u001b[0m\u001b[1;33m\u001b[0m\u001b[0m\n\u001b[0;32m    266\u001b[0m                     \u001b[1;32mreturn\u001b[0m \u001b[1;33m(\u001b[0m\u001b[1;33m*\u001b[0m\u001b[0mindex\u001b[0m\u001b[1;33m,\u001b[0m\u001b[0mk\u001b[0m\u001b[1;33m)\u001b[0m\u001b[1;33m\u001b[0m\u001b[0m\n\u001b[1;32m--> 267\u001b[1;33m                 \u001b[0mcombs2\u001b[0m\u001b[1;33m[\u001b[0m\u001b[1;33m(\u001b[0m\u001b[1;33m*\u001b[0m\u001b[0mindex\u001b[0m\u001b[1;33m,\u001b[0m\u001b[0mk\u001b[0m\u001b[1;33m)\u001b[0m\u001b[1;33m]\u001b[0m \u001b[1;33m=\u001b[0m \u001b[0mrow\u001b[0m\u001b[1;33m\u001b[0m\u001b[0m\n\u001b[0m\u001b[0;32m    268\u001b[0m         \u001b[1;32mif\u001b[0m \u001b[1;32mnot\u001b[0m \u001b[0mcombs2\u001b[0m\u001b[1;33m:\u001b[0m\u001b[1;33m\u001b[0m\u001b[0m\n\u001b[0;32m    269\u001b[0m             \u001b[1;32mreturn\u001b[0m \u001b[1;32mNone\u001b[0m\u001b[1;33m\u001b[0m\u001b[0m\n",
      "\u001b[1;31mMemoryError\u001b[0m: "
     ]
    }
   ],
   "source": [
    "c = [c for c in circuits if c.name == 'adder_8'][0]\n",
    "g = zx.Circuit.from_quipper_file(c.fname_before).to_graph()\n",
    "zx.full_reduce(g, quiet=False)\n",
    "g.normalise()\n",
    "#zx.draw(g,figsize=(20,3))\n",
    "c2 = zx.extract.streaming_extract(g).to_basic_gates()\n",
    "print(len(c2.gates), c2.tcount())\n",
    "#zx.draw(c2.to_graph())\n",
    "# t = c2.to_tensor()\n",
    "# c3 = zx.Circuit.from_quipper_file(c.fname_after)\n",
    "# g = c3.to_graph()\n",
    "# zx.full_reduce(g)\n",
    "# g.normalise()\n",
    "# c4 = zx.extract.streaming_extract(g).to_basic_gates()\n",
    "# zx.draw(c4.to_graph())\n",
    "# t2 = c3.to_tensor()\n",
    "# print(\"break\")\n",
    "# print(c3.gates, c3.tcount())\n",
    "#zx.compare_tensors(c2.to_tensor(),c4.to_tensor())"
   ]
  },
  {
   "cell_type": "code",
   "execution_count": 90,
   "metadata": {},
   "outputs": [
    {
     "data": {
      "text/plain": [
       "42"
      ]
     },
     "execution_count": 90,
     "metadata": {},
     "output_type": "execute_result"
    }
   ],
   "source": [
    "count"
   ]
  },
  {
   "cell_type": "code",
   "execution_count": 37,
   "metadata": {},
   "outputs": [
    {
     "name": "stdout",
     "output_type": "stream",
     "text": [
      "Circuit                        qubits G-count T-count T-optimized\n",
      "adder_8_before                     24    1014     399 179\n",
      "barenco_tof_10_before              19     514     224 100\n",
      "barenco_tof_3_before                5      66      28 16\n",
      "barenco_tof_4_before                7     130      56 28\n",
      "barenco_tof_5_before                9     194      84 40\n",
      "csla_mux_3_before_original         15     190      70 62\n",
      "csum_mux_9_before_corrected        30     448     196 84\n",
      "gf2^E10_mult_before                30    1709     700 410\n",
      "gf2^E16_mult_before                48    4397    1792 1040\n",
      "gf2^E4_mult_before                 12     275     112 68\n",
      "gf2^E5_mult_before                 15     429     175 115\n",
      "gf2^E6_mult_before                 18     617     252 150\n",
      "gf2^E7_mult_before                 21     839     343 217\n",
      "gf2^E8_mult_before                 24    1109     448 264\n",
      "gf2^E9_mult_before                 27    1385     567 351\n",
      "mod5_4_before                       5      71      28 8\n",
      "mod_adder_1024_before              28    4855    1995 1011\n",
      "mod_mult_55_before                  9     133      49 35\n",
      "mod_red_21_before                  11     312     119 73\n",
      "qcla_adder_10_before               36     589     238 162\n",
      "qcla_com_7_before                  24     501     203 95\n",
      "qcla_mod_7_before                  26    1002     413 237\n",
      "rc_adder_6_before                  14     222      77 47\n",
      "tof_10_before                      19     289     119 71\n",
      "tof_3_before                        5      51      21 15\n",
      "tof_4_before                        7      85      35 23\n",
      "tof_5_before                        9     119      49 31\n",
      "vbe_adder_3_before                 10     170      70 24\n",
      "Adder8_before                      23     637     266 0\n",
      "QFT16_before                       16     586      45 17\n",
      "QFT32_before                       32    1562      93 33\n",
      "QFT64_before                       64    3514     189 65\n",
      "QFT8_before                         8     148      21 9\n",
      "QFTAdd16_before                    32    1822     135 49\n",
      "QFTAdd32_before                    64    4814     279 97\n",
      "QFTAdd64_before                   128   10798     567 193\n",
      "QFTAdd8_before                     16     476      63 25\n"
     ]
    }
   ],
   "source": [
    "print(\"Circuit\".ljust(30), \"qubits\", \"G-count\", \"T-count\", \"T-optimized\")\n",
    "for c in circuits:\n",
    "    g = c.to_graph()\n",
    "    t_before = zx.t_count(g)\n",
    "    zx.simplify.full_reduce(g)\n",
    "    t_after = zx.t_count(g)\n",
    "    print(c.name.ljust(30), str(c.qubits).rjust(6), str(len(c.gates)).rjust(7), str(t_before).rjust(7), str(t_after).rjust(7))"
   ]
  },
  {
   "cell_type": "code",
   "execution_count": 46,
   "metadata": {},
   "outputs": [
    {
     "data": {
      "text/plain": [
       "56"
      ]
     },
     "execution_count": 46,
     "metadata": {},
     "output_type": "execute_result"
    }
   ],
   "source": [
    "c = [c for c in circuits if c.name.find('Adder8')!=-1][0]\n",
    "g = c.to_graph()\n",
    "zx.full_reduce(g, quiet=True)\n",
    "zx.t_count(g)\n",
    "#g.normalise()\n",
    "#zx.draw(g)"
   ]
  }
 ],
 "metadata": {
  "kernelspec": {
   "display_name": "Python 3",
   "language": "python",
   "name": "python3"
  },
  "language_info": {
   "codemirror_mode": {
    "name": "ipython",
    "version": 3
   },
   "file_extension": ".py",
   "mimetype": "text/x-python",
   "name": "python",
   "nbconvert_exporter": "python",
   "pygments_lexer": "ipython3",
   "version": "3.5.2"
  }
 },
 "nbformat": 4,
 "nbformat_minor": 2
}
