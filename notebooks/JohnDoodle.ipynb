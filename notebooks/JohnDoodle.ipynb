{
 "cells": [
  {
   "cell_type": "code",
   "execution_count": 1,
   "metadata": {},
   "outputs": [],
   "source": [
    "%load_ext autoreload\n",
    "%autoreload 2"
   ]
  },
  {
   "cell_type": "code",
   "execution_count": 2,
   "metadata": {},
   "outputs": [],
   "source": [
    "import sys; sys.path.append('..')\n",
    "import random, math\n",
    "import pyzx as zx\n",
    "from fractions import Fraction\n",
    "from pyzx.phasepoly import circuit_phase_polynomial_blocks, optimize_block\n",
    "%config InlineBackend.figure_format = 'svg'\n",
    "zx.quantomatic.quantomatic_location = r'C:\\Users\\John\\Desktop\\scala.jar'"
   ]
  },
  {
   "cell_type": "code",
   "execution_count": 3,
   "metadata": {},
   "outputs": [
    {
     "data": {
      "text/plain": [
       "24"
      ]
     },
     "execution_count": 3,
     "metadata": {},
     "output_type": "execute_result"
    }
   ],
   "source": [
    "def generate_parities(targets):\n",
    "    parities = set()\n",
    "    for i in range(4):\n",
    "        a = targets[i]\n",
    "        parities.add(frozenset([a]))\n",
    "        for j in range(i+1,4):\n",
    "            b = targets[j]\n",
    "            parities.add(frozenset([a,b]))\n",
    "            for k in range(j+1,4):\n",
    "                c = targets[k]\n",
    "                parities.add(frozenset([a,b,c]))\n",
    "                for l in range(k+1,4):\n",
    "                    d = targets[l]\n",
    "                    parities.add(frozenset([a,b,c,d]))\n",
    "    return parities\n",
    "\n",
    "s1 = generate_parities([1,2,3,4])\n",
    "s2 = generate_parities([2,3,4,5])\n",
    "s3 = generate_parities([1,2,3,6])\n",
    "s4 = generate_parities([1,2,3,5])\n",
    "#s5 = generate_parities([1,2,3,5])\n",
    "len(s1.symmetric_difference(s2).symmetric_difference(s3).symmetric_difference(s4))#.symmetric_difference(s5)"
   ]
  },
  {
   "cell_type": "code",
   "execution_count": 4,
   "metadata": {},
   "outputs": [],
   "source": [
    "data = \"\"\".v a,b,c,d,e,f\n",
    ".i a,b,c,d,e,f\n",
    ".o a,b,c,d,e,f\n",
    "BEGIN\n",
    "t3 c,e,d\n",
    "t2 c,e\n",
    "t2 d,f\n",
    "t1 a\n",
    "t2 f,e\n",
    "t3 e,f,d\n",
    "t4 c,d,f,e\n",
    "t1 d\n",
    "t3 d,e,f\n",
    "t3 e,f,d\n",
    "t2 c,e\n",
    "t3 a,f,c\n",
    "t2 e,c\n",
    "t3 a,c,b\n",
    "t4 b,d,f,c\n",
    "t2 a,b\n",
    "t4 a,b,f,c\n",
    "t1 b\n",
    "t5 a,b,d,e,f\n",
    "t1 b\n",
    "t2 c,a\n",
    "t3 c,d,b\n",
    "t4 b,c,d,a\n",
    "t3 c,d,b\n",
    "t3 c,f,a\n",
    "t3 c,f,b\n",
    "t3 b,f,c\n",
    "t4 a,b,f,c\n",
    "t2 f,b\n",
    "t2 d,f\n",
    "t2 f,d\n",
    "t1 a\n",
    "t5 a,b,c,d,e\n",
    "t1 a\n",
    "t3 d,e,f\n",
    "t3 b,c,d\n",
    "t2 d,f\n",
    "t3 d,e,f\n",
    "t4 a,c,f,b\n",
    "t5 a,b,c,e,f\n",
    "t1 b\n",
    "t5 b,c,e,f,a\n",
    "t1 b\n",
    "t3 b,d,a\n",
    "t2 e,c\n",
    "t5 b,c,d,f,a\n",
    "t2 e,c\n",
    "t4 b,c,e,f\n",
    "t2 b,c\n",
    "t3 a,d,c\n",
    "t2 d,f\n",
    "t6 a,b,c,d,e,f\n",
    "t3 b,f,a\n",
    "t3 a,b,c\n",
    "t3 b,f,c\n",
    "t2 d,a\n",
    "t3 d,e,f\n",
    "t3 b,d,a\n",
    "t6 a,b,d,e,f,c\n",
    "t1 b\n",
    "t1 f\n",
    "END\"\"\""
   ]
  },
  {
   "cell_type": "code",
   "execution_count": 5,
   "metadata": {},
   "outputs": [],
   "source": [
    "from pyzx.circuit import Z, S, T, CNOT, Tofolli, HAD, NOT\n",
    "\n",
    "preamble = data[:data.find(\"BEGIN\")].strip().splitlines()\n",
    "labels = {}\n",
    "for l in preamble:\n",
    "    if l.startswith('#'):continue\n",
    "    if l.startswith('.'):\n",
    "        for v in l[2:].split(','):\n",
    "            s = v.strip()\n",
    "            if s not in labels: labels[s] = len(labels)\n",
    "    else:\n",
    "        raise TypeError(\"Unknown Expression: \" + l)\n",
    "\n",
    "ancillas = {}\n",
    "gates = []\n",
    "qcount = len(labels)\n",
    "\n",
    "for l in data[data.find(\"BEGIN\")+6:data.find(\"END\")].splitlines():\n",
    "    gname, targets = l.split(' ',1)\n",
    "    gname = gname.strip().lower()\n",
    "    targets = [labels[v.strip()] for v in targets.split(',') if v.strip()]\n",
    "    if len(targets) == 1:\n",
    "        t = targets[0]\n",
    "        if gname in ('tof', 't1', 'not', 'x'): gates.append(NOT(t))\n",
    "        elif gname == 'z': gates.append(Z(t))\n",
    "        elif gname == 's': gates.append(S(t))\n",
    "        elif gname == 's*': gates.append(S(t,adjoint=True))\n",
    "        elif gname == 't': gates.append(T(t))\n",
    "        elif gname == 't*': gates.append(T(t,adjoint=True))\n",
    "        elif gname == 'h': gates.append(HAD(t))\n",
    "        else:\n",
    "            raise TypeError(\"Unknown gate with single target: \" + l)\n",
    "    elif len(targets) == 2:\n",
    "        if gname in ('cnot', 'tof', 't2'):\n",
    "            c,t = targets\n",
    "            gates.append(CNOT(c,t))\n",
    "        else:\n",
    "            raise TypeError(\"Unknown gate with control: \" + l)\n",
    "    elif len(targets) == 3:\n",
    "        if gname in ('t3', 'tof'):\n",
    "            c1,c2,t = targets\n",
    "            gates.append(Tofolli(c1,c2,t))\n",
    "        else:\n",
    "            raise TypeError(\"Unknown gate with control: \" + l)\n",
    "    else:\n",
    "        if gname not in ('t4', 't5', 't6', 'tof'):\n",
    "            raise TypeError(\"Unknown gate with multiple controls: \" + l)\n",
    "        *ctrls, t = targets\n",
    "        if len(ctrls) > 5: raise TypeError(\"No more than 5 ctrls supported\")\n",
    "        while len(ancillas) < len(ctrls) - 2:\n",
    "            ancillas[len(ancillas)] = qcount\n",
    "            qcount += 1\n",
    "        gates.append(Tofolli(ctrls[0],ctrls[1],ancillas[0]))\n",
    "        if len(ctrls) == 3:\n",
    "            gates.append(Tofolli(ctrls[2],ancillas[0],t))\n",
    "        else:\n",
    "            gates.append(Tofolli(ctrls[2],ctrls[3],ancillas[1]))\n",
    "            if len(ctrls) == 4:\n",
    "                gates.append(Tofolli(ancillas[0],ancillas[1],t))\n",
    "            else:\n",
    "                gates.append(Tofolli(ancillas[0],ancillas[1],ancillas[2]))\n",
    "                gates.append(Tofolli(ctrls[4],ancillas[2],t))\n",
    "                gates.append(Tofolli(ancillas[0],ancillas[1],ancillas[2]))\n",
    "            gates.append(Tofolli(ctrls[2],ctrls[3],ancillas[1]))\n",
    "        gates.append(Tofolli(ctrls[0],ctrls[1],ancillas[0]))\n",
    "\n",
    "c = zx.Circuit(qcount)\n",
    "c.gates = gates"
   ]
  },
  {
   "cell_type": "code",
   "execution_count": 6,
   "metadata": {},
   "outputs": [
    {
     "name": "stdout",
     "output_type": "stream",
     "text": [
      "567\n",
      "spider_simp: 206. 169. 101. 57. 37. 24. 8. 3. 1.  9 iterations\n",
      "id_simp: 88. 29.  2 iterations\n",
      "spider_simp: 26.  1 iterations\n",
      "pivot_simp: 26. 1.  2 iterations\n",
      "lcomp_simp: 15. 15. 2. 2.  4 iterations\n",
      "id_simp: 3.  1 iterations\n",
      "spider_simp: 2. 1.  2 iterations\n",
      "pivot_simp: 1.  1 iterations\n",
      "lcomp_simp: 2. 2.  2 iterations\n",
      "Vertex count:  1899\n",
      "T-count:  491\n",
      "Gadgetized 493 nodes\n",
      "pivot_simp: 173. 104. 52. 38. 31. 15. 6. 8. 10. 8. 4. 3. 3. 3. 4. 1. 2. 2. 1.  19 iterations\n",
      "lcomp_simp: 2. 2.  2 iterations\n",
      "Back to clifford_simp\n",
      "id_simp: 13.  1 iterations\n",
      "spider_simp: 4. 1. 4. 1. 1. 1. 1.  7 iterations\n",
      "pivot_simp: 6. 8. 5. 6. 9. 4. 2. 2. 2. 3. 1.  11 iterations\n",
      "id_simp: 25.  1 iterations\n",
      "spider_simp: 10. 6. 5. 2. 1.  5 iterations\n",
      "pivot_simp: 4. 1.  2 iterations\n",
      "lcomp_simp: 8. 8. 3. 3.  4 iterations\n",
      "id_simp: 6.  1 iterations\n",
      "spider_simp: 4. 2.  2 iterations\n",
      "pivot_simp: 1.  1 iterations\n",
      "lcomp_simp: 3. 3.  2 iterations\n",
      "id_simp: 2.  1 iterations\n",
      "spider_simp: 2.  1 iterations\n",
      "pivot_simp: 1.  1 iterations\n",
      "lcomp_simp: 1. 1.  2 iterations\n",
      "id_simp: 1.  1 iterations\n",
      "spider_simp: 1.  1 iterations\n",
      "gadget_simp: 100.  1 iterations\n",
      "pivot_simp: 13.  1 iterations\n",
      "lcomp_simp: 49. 49.  2 iterations\n",
      "pivot_simp: 1.  1 iterations\n",
      "Vertex count:  685\n",
      "T-count:  279\n",
      "Gadgetized 100 nodes\n",
      "pivot_simp: 20. 26. 14. 11. 12. 4. 4. 4. 2. 4. 2. 1.  12 iterations\n",
      "Back to clifford_simp\n",
      "Vertex count:  693\n",
      "T-count:  279\n",
      "Gadgetized 99 nodes\n",
      "pivot_simp: 23. 11. 11. 10. 6. 4. 5. 7. 3. 2. 8. 4. 3. 3. 4. 3. 2.  17 iterations\n",
      "Back to clifford_simp\n",
      "id_simp: 8.  1 iterations\n",
      "Vertex count:  685\n",
      "T-count:  279\n",
      "Gadgetized 99 nodes\n",
      "pivot_simp: 13. 14. 8. 7. 5. 6. 6. 4. 10. 7. 6. 3. 7. 2. 2. 3.  16 iterations\n",
      "Back to clifford_simp\n",
      "id_simp: 99.  1 iterations\n",
      "spider_simp: 24. 24. 17. 14. 13. 2. 2. 1. 1. 1.  10 iterations\n"
     ]
    },
    {
     "data": {
      "text/plain": [
       "279"
      ]
     },
     "execution_count": 6,
     "metadata": {},
     "output_type": "execute_result"
    }
   ],
   "source": [
    "g = c.to_graph()\n",
    "print(zx.tcount(g))\n",
    "while True:\n",
    "    zx.full_reduce(g, quiet=False)\n",
    "    break\n",
    "    m = zx.rules.match_gadgets_phasepoly(g)\n",
    "    if not m: break\n",
    "    else: \n",
    "        print(\"Found {:d} phasepoly matches\".format(len(m)))\n",
    "        print(\" \".join(str((len(b)-8)*2+1) for a,b in m))\n",
    "        print(\"T-count before: \", zx.tcount(g))\n",
    "        zx.rules.apply_gadget_phasepoly(g, m)\n",
    "        print(\"T-count after: \", zx.tcount(g))\n",
    "#zx.full_reduce(g, quiet=False)\n",
    "g.normalise()\n",
    "zx.tcount(g)"
   ]
  },
  {
   "cell_type": "code",
   "execution_count": 22,
   "metadata": {},
   "outputs": [
    {
     "name": "stdout",
     "output_type": "stream",
     "text": [
      "Opening Quantomatic...\n",
      "Done\n"
     ]
    }
   ],
   "source": [
    "g2 = g.copy()\n",
    "for e in g2.edges(): g2.set_edge_type(e, 1)\n",
    "g2 = zx.quantomatic.edit_graph(g2)"
   ]
  },
  {
   "cell_type": "code",
   "execution_count": 17,
   "metadata": {},
   "outputs": [
    {
     "name": "stdout",
     "output_type": "stream",
     "text": [
      "[3088, 3074, 2916, 2388] 10\n",
      "[2360, 3080, 2346, 3068] 9\n",
      "[1992, 2998, 2974, 2990] 8\n",
      "[2948, 2962, 1764, 2950] 8\n",
      "[1888, 2816, 2818, 2794] 8\n",
      "[2968, 1842, 2776, 2954] 8\n"
     ]
    }
   ],
   "source": [
    "m = [([3088, 3074, 2916, 2388], {frozenset({3074, 2916}): (2411, 2412), frozenset({3074, 2388}): (2723, 2724), frozenset({2388}): 2388, frozenset({3088, 3074, 2388}): (2465, 2466), frozenset({3088}): 3088, frozenset({3074}): 3074, frozenset({3088, 2916}): (3311, 3312), frozenset({3088, 3074, 2916, 2388}): (3085, 3086), frozenset({2916}): 2916, frozenset({2916, 2388}): (3301, 3302)}), ([2360, 3080, 2346, 3068], {frozenset({2346, 3068}): (3297, 3298), frozenset({2346}): 2346, frozenset({3080}): 3080, frozenset({2360, 2346, 3068}): (2881, 2882), frozenset({2360, 2346}): (3299, 3300), frozenset({2360, 3068}): (3069, 3070), frozenset({2360}): 2360, frozenset({3068}): 3068, frozenset({3080, 2346, 3068, 2360}): (2447, 2448)}), ([1992, 2998, 2974, 2990], {frozenset({2974}): 2974, frozenset({1992, 2998, 2990}): (3259, 3260), frozenset({1992, 2990}): (3255, 3256), frozenset({2990, 2998}): (3257, 3258), frozenset({2998}): 2998, frozenset({1992, 2998}): (2999, 3000), frozenset({2990}): 2990, frozenset({1992}): 1992}), ([2948, 2962, 1764, 2950], {frozenset({2948}): 2948, frozenset({2948, 2950}): (3227, 3228), frozenset({2948, 1764}): (2753, 2754), frozenset({2950}): 2950, frozenset({2962, 2948, 1764}): (2963, 2964), frozenset({2962}): 2962, frozenset({1764}): 1764, frozenset({2948, 2950, 1764}): (3221, 3222)}), ([1888, 2816, 2818, 2794], {frozenset({2816, 2818, 1888, 2794}): (3169, 3170), frozenset({2816, 2794, 1888}): (3009, 3010), frozenset({2794}): 2794, frozenset({1888}): 1888, frozenset({2816}): 2816, frozenset({1888, 2818, 2794}): (3167, 3168), frozenset({2818}): 2818, frozenset({1888, 2794}): (1969, 1970)}), ([2968, 1842, 2776, 2954], {frozenset({2968, 2954, 2776}): (3149, 3150), frozenset({2954}): 2954, frozenset({2968}): 2968, frozenset({2776, 1842}): (1837, 1838), frozenset({1842}): 1842, frozenset({2776}): 2776, frozenset({2968, 1842}): (3237, 3238), frozenset({2968, 2776}): (2769, 2770)})]\n",
    "for a,b in m:\n",
    "    print(a, len(b))"
   ]
  },
  {
   "cell_type": "code",
   "execution_count": 7,
   "metadata": {},
   "outputs": [
    {
     "name": "stdout",
     "output_type": "stream",
     "text": [
      "Circuit  on 9 qubits with 4013 gates.\n",
      "        279 T-like gates\n",
      "        3734 Cliffords among which \n",
      "        2015 2-qubit gates and 1636 Hadamard gates.\n"
     ]
    }
   ],
   "source": [
    "g2 = g.copy()\n",
    "g2.normalise()\n",
    "c = zx.extract.streaming_extract(g2,quiet=True).to_basic_gates()\n",
    "print(c.stats())"
   ]
  },
  {
   "cell_type": "code",
   "execution_count": 8,
   "metadata": {},
   "outputs": [
    {
     "name": "stdout",
     "output_type": "stream",
     "text": [
      "Circuit  on 9 qubits with 2879 gates.\n",
      "        279 T-like gates\n",
      "        2600 Cliffords among which \n",
      "        1753 2-qubit gates and 784 Hadamard gates.\n"
     ]
    }
   ],
   "source": [
    "c2, blocks = circuit_phase_polynomial_blocks(c,optimize=True)\n",
    "print(c2.stats())"
   ]
  },
  {
   "cell_type": "code",
   "execution_count": 12,
   "metadata": {},
   "outputs": [
    {
     "name": "stdout",
     "output_type": "stream",
     "text": [
      "Circuit  on 9 qubits with 2782 gates.\n",
      "        279 T-like gates\n",
      "        2503 Cliffords among which \n",
      "        1696 2-qubit gates and 736 Hadamard gates.\n",
      "Circuit  on 9 qubits with 2781 gates.\n",
      "        279 T-like gates\n",
      "        2502 Cliffords among which \n",
      "        1680 2-qubit gates and 754 Hadamard gates.\n",
      "Circuit  on 9 qubits with 2730 gates.\n",
      "        279 T-like gates\n",
      "        2451 Cliffords among which \n",
      "        1661 2-qubit gates and 722 Hadamard gates.\n",
      "Circuit  on 9 qubits with 2723 gates.\n",
      "        279 T-like gates\n",
      "        2444 Cliffords among which \n",
      "        1653 2-qubit gates and 722 Hadamard gates.\n",
      "Circuit  on 9 qubits with 2716 gates.\n",
      "        279 T-like gates\n",
      "        2437 Cliffords among which \n",
      "        1651 2-qubit gates and 718 Hadamard gates.\n",
      "Circuit  on 9 qubits with 2714 gates.\n",
      "        279 T-like gates\n",
      "        2435 Cliffords among which \n",
      "        1650 2-qubit gates and 716 Hadamard gates.\n",
      "Circuit  on 9 qubits with 2716 gates.\n",
      "        279 T-like gates\n",
      "        2437 Cliffords among which \n",
      "        1650 2-qubit gates and 718 Hadamard gates.\n",
      "Circuit  on 9 qubits with 2716 gates.\n",
      "        279 T-like gates\n",
      "        2437 Cliffords among which \n",
      "        1650 2-qubit gates and 718 Hadamard gates.\n",
      "Circuit  on 9 qubits with 2716 gates.\n",
      "        279 T-like gates\n",
      "        2437 Cliffords among which \n",
      "        1650 2-qubit gates and 718 Hadamard gates.\n",
      "Circuit  on 9 qubits with 2716 gates.\n",
      "        279 T-like gates\n",
      "        2437 Cliffords among which \n",
      "        1650 2-qubit gates and 718 Hadamard gates.\n"
     ]
    }
   ],
   "source": [
    "for i in range(10):\n",
    "    c2, blocks = circuit_phase_polynomial_blocks(c2,optimize=True)\n",
    "    print(c2.stats())"
   ]
  }
 ],
 "metadata": {
  "kernelspec": {
   "display_name": "Python 3",
   "language": "python",
   "name": "python3"
  },
  "language_info": {
   "codemirror_mode": {
    "name": "ipython",
    "version": 3
   },
   "file_extension": ".py",
   "mimetype": "text/x-python",
   "name": "python",
   "nbconvert_exporter": "python",
   "pygments_lexer": "ipython3",
   "version": "3.5.2"
  }
 },
 "nbformat": 4,
 "nbformat_minor": 2
}
