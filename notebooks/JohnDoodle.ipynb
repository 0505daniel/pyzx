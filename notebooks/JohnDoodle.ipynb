{
 "cells": [
  {
   "cell_type": "code",
   "execution_count": 1,
   "metadata": {},
   "outputs": [],
   "source": [
    "%load_ext autoreload\n",
    "%autoreload 2"
   ]
  },
  {
   "cell_type": "code",
   "execution_count": 2,
   "metadata": {},
   "outputs": [],
   "source": [
    "import sys; sys.path.append('..')\n",
    "import random, math\n",
    "import pyzx as zx\n",
    "from fractions import Fraction\n",
    "from pyzx.phasepoly import circuit_phase_polynomial_blocks, optimize_block\n",
    "%config InlineBackend.figure_format = 'svg'\n",
    "zx.quantomatic.quantomatic_location = r'C:\\Users\\John\\Desktop\\scala.jar'"
   ]
  },
  {
   "cell_type": "code",
   "execution_count": 15,
   "metadata": {},
   "outputs": [
    {
     "data": {
      "text/plain": [
       "{frozenset({2, 4}),\n",
       " frozenset({5}),\n",
       " frozenset({3}),\n",
       " frozenset({1}),\n",
       " frozenset({1, 3, 5}),\n",
       " frozenset({1, 2, 3, 4}),\n",
       " frozenset({2, 3, 5}),\n",
       " frozenset({1, 4}),\n",
       " frozenset({1, 2, 5}),\n",
       " frozenset({3, 4}),\n",
       " frozenset({1, 3, 4, 5}),\n",
       " frozenset({2}),\n",
       " frozenset({2, 3, 4, 5}),\n",
       " frozenset({1, 2, 3}),\n",
       " frozenset({4, 5}),\n",
       " frozenset({1, 2, 4, 5})}"
      ]
     },
     "execution_count": 15,
     "metadata": {},
     "output_type": "execute_result"
    }
   ],
   "source": [
    "def generate_parities(targets):\n",
    "    parities = set()\n",
    "    for i in range(4):\n",
    "        a = targets[i]\n",
    "        parities.add(frozenset([a]))\n",
    "        for j in range(i+1,4):\n",
    "            b = targets[j]\n",
    "            parities.add(frozenset([a,b]))\n",
    "            for k in range(j+1,4):\n",
    "                c = targets[k]\n",
    "                parities.add(frozenset([a,b,c]))\n",
    "                for l in range(k+1,4):\n",
    "                    d = targets[l]\n",
    "                    parities.add(frozenset([a,b,c,d]))\n",
    "    return parities\n",
    "\n",
    "s1 = generate_parities([1,2,3,4])\n",
    "s2 = generate_parities([2,3,4,5])\n",
    "s3 = generate_parities([1,3,4,5])\n",
    "s4 = generate_parities([1,2,4,5])\n",
    "s5 = generate_parities([1,2,3,5])\n",
    "s1.symmetric_difference(s2).symmetric_difference(s3).symmetric_difference(s4)#.symmetric_difference(s5)"
   ]
  }
 ],
 "metadata": {
  "kernelspec": {
   "display_name": "Python 3",
   "language": "python",
   "name": "python3"
  },
  "language_info": {
   "codemirror_mode": {
    "name": "ipython",
    "version": 3
   },
   "file_extension": ".py",
   "mimetype": "text/x-python",
   "name": "python",
   "nbconvert_exporter": "python",
   "pygments_lexer": "ipython3",
   "version": "3.5.2"
  }
 },
 "nbformat": 4,
 "nbformat_minor": 2
}
