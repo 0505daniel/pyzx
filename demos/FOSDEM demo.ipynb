{
 "cells": [
  {
   "cell_type": "code",
   "execution_count": 1,
   "metadata": {},
   "outputs": [
    {
     "data": {
      "text/html": [
       "\n",
       "    <style>\n",
       "    .node { stroke: #fff; stroke-width: 1.5px; }\n",
       "    .node .selected { stroke: blue; }\n",
       "    .link { stroke: black; stroke-width: 1.5px; }\n",
       "    .d3graph { overflow: auto; }\n",
       "    .d3graph svg { border: 1px solid #ddd; }\n",
       "    </style>\n",
       "\n",
       "    <script type=\"text/javascript\">\n",
       "    var showGraph;\n",
       "    var test = false;\n",
       "    require.config({ baseUrl: \"../js\", paths: {d3: \"d3.v4.min\"} });\n",
       "    require(['d3'], function(d3) {\n",
       "\n",
       "    test = true;\n",
       "    showGraph = function(tag, json, width, height, node_size) {\n",
       "        var shiftKey;\n",
       "\n",
       "        var svg = d3.select(tag)\n",
       "            .attr(\"tabindex\", 1)\n",
       "            .on(\"keydown.brush\", keydowned)\n",
       "            .on(\"keyup.brush\", keyupped)\n",
       "            .each(function() { this.focus(); })\n",
       "          .append(\"svg\")\n",
       "            .attr(\"style\", \"max-width: none; max-height: none\")\n",
       "            .attr(\"width\", width)\n",
       "            .attr(\"height\", height);\n",
       "\n",
       "        var link = svg.append(\"g\")\n",
       "            .attr(\"class\", \"link\")\n",
       "            .selectAll(\"line\");\n",
       "\n",
       "        var brush = svg.append(\"g\")\n",
       "            .attr(\"class\", \"brush\");\n",
       "\n",
       "        var node = svg.append(\"g\")\n",
       "            .attr(\"class\", \"node\")\n",
       "          .selectAll(\"circle\");\n",
       "\n",
       "        var graph = json;\n",
       "\n",
       "        var ntab = {};\n",
       "\n",
       "        graph.nodes.forEach(function(d) {\n",
       "            ntab[d.name] = d;\n",
       "            d.selected = false;\n",
       "            d.previouslySelected = false;\n",
       "        });\n",
       "\n",
       "        graph.links.forEach(function(d) {\n",
       "            d.source = ntab[d.source];\n",
       "            d.target = ntab[d.target];\n",
       "        });\n",
       "\n",
       "        link = link\n",
       "        .data(graph.links)\n",
       "        .enter().append(\"line\")\n",
       "          .attr(\"x1\", function(d) { return d.source.x; })\n",
       "          .attr(\"y1\", function(d) { return d.source.y; })\n",
       "          .attr(\"x2\", function(d) { return d.target.x; })\n",
       "          .attr(\"y2\", function(d) { return d.target.y; })\n",
       "          .attr(\"stroke\", function(d) {\n",
       "              if (d.t == 1) return \"black\";\n",
       "              else if (d.t == 2) return \"#08f\";\n",
       "          });\n",
       "\n",
       "        brush.call(d3.brush()\n",
       "            .extent([[0, 0], [width, height]])\n",
       "            .on(\"start\", brushstarted)\n",
       "            .on(\"brush\", brushed)\n",
       "            .on(\"end\", brushended));\n",
       "\n",
       "\n",
       "        node = node.data(graph.nodes)\n",
       "            .enter().append(\"circle\")\n",
       "            .attr(\"r\", function(d) {\n",
       "               if (d.t == 0) return 0.5 * node_size;\n",
       "               else return node_size;\n",
       "            })\n",
       "            .attr(\"cx\", function(d) { return d.x; })\n",
       "            .attr(\"cy\", function(d) { return d.y; })\n",
       "            .attr(\"fill\", function(d) {\n",
       "                if (d.t == 0) return \"black\";\n",
       "                if (d.t == 1) return \"green\";\n",
       "                if (d.t == 2) return \"red\";\n",
       "            })\n",
       "            .attr(\"stroke\", \"black\")\n",
       "            .on(\"mousedown\", mousedowned)\n",
       "            .call(d3.drag().on(\"drag\", dragged));\n",
       "\n",
       "\n",
       "        //node.append(\"text\")\n",
       "        //.attr(\"dx\", node_size * 0.8)\n",
       "        //.attr(\"dy\", 0)\n",
       "        //.text(function(d) { return d.name });\n",
       "\n",
       "        var text = svg.selectAll(\"text\")\n",
       "                                .data(graph.nodes)\n",
       "                                .enter()\n",
       "                                .append(\"text\");\n",
       "        text.attr(\"x\", function(d) { return d.x; })\n",
       "            .attr(\"y\", function(d) { return d.y + 0.7 * node_size + 14; })\n",
       "            .text( function (d) { return d.phase })\n",
       "            .attr(\"text-anchor\", \"middle\")\n",
       "            .attr(\"font-size\", \"12px\")\n",
       "            .attr(\"font-family\", \"monospace\")\n",
       "            .attr(\"fill\", \"#00d\");\n",
       "\n",
       "        function brushstarted() {\n",
       "            if (d3.event.sourceEvent.type !== \"end\") {\n",
       "              node.classed(\"selected\", function(d) {\n",
       "                return d.selected = d.previouslySelected = shiftKey && d.selected;\n",
       "              });\n",
       "            }\n",
       "        }\n",
       "\n",
       "        function brushed() {\n",
       "            if (d3.event.sourceEvent.type !== \"end\") {\n",
       "              var selection = d3.event.selection;\n",
       "              node.classed(\"selected\", function(d) {\n",
       "                return d.selected = d.previouslySelected ^\n",
       "                    (selection != null\n",
       "                    && selection[0][0] <= d.x && d.x < selection[1][0]\n",
       "                    && selection[0][1] <= d.y && d.y < selection[1][1]);\n",
       "              });\n",
       "            }\n",
       "        }\n",
       "\n",
       "        function brushended() {\n",
       "            if (d3.event.selection != null) {\n",
       "              d3.select(this).call(d3.event.target.move, null);\n",
       "            }\n",
       "        }\n",
       "\n",
       "        function mousedowned(d) {\n",
       "            if (shiftKey) {\n",
       "              d3.select(this).classed(\"selected\", d.selected = !d.selected);\n",
       "              d3.event.stopImmediatePropagation();\n",
       "            } else if (!d.selected) {\n",
       "              node.classed(\"selected\", function(p) { return p.selected = d === p; });\n",
       "            }\n",
       "        }\n",
       "\n",
       "        function dragged(d) {\n",
       "            nudge(d3.event.dx, d3.event.dy);\n",
       "        }\n",
       "\n",
       "        function nudge(dx, dy) {\n",
       "          node.filter(function(d) { return d.selected; })\n",
       "              .attr(\"cx\", function(d) { return d.x += dx; })\n",
       "              .attr(\"cy\", function(d) { return d.y += dy; })\n",
       "\n",
       "          link.filter(function(d) { return d.source.selected; })\n",
       "              .attr(\"x1\", function(d) { return d.source.x; })\n",
       "              .attr(\"y1\", function(d) { return d.source.y; });\n",
       "\n",
       "          link.filter(function(d) { return d.target.selected; })\n",
       "              .attr(\"x2\", function(d) { return d.target.x; })\n",
       "              .attr(\"y2\", function(d) { return d.target.y; });\n",
       "\n",
       "          text.filter(function(d) { return d.selected; })\n",
       "              .attr(\"x\", function(d) { return d.x; })\n",
       "              .attr(\"y\", function(d) { return d.y + 0.7 * node_size + 14; });\n",
       "        }\n",
       "\n",
       "        function keydowned() {\n",
       "          if (!d3.event.metaKey) {\n",
       "            switch (d3.event.keyCode) {\n",
       "              case 38: nudge( 0, -1); break; // UP\n",
       "              case 40: nudge( 0, +1); break; // DOWN\n",
       "              case 37: nudge(-1,  0); break; // LEFT\n",
       "              case 39: nudge(+1,  0); break; // RIGHT\n",
       "            }\n",
       "          }\n",
       "          shiftKey = d3.event.shiftKey || d3.event.metaKey;\n",
       "        }\n",
       "\n",
       "        function keyupped() {\n",
       "          shiftKey = d3.event.shiftKey || d3.event.metaKey;\n",
       "        }\n",
       "    }\n",
       "    });\n",
       "\n",
       "    </script>\n",
       "    "
      ],
      "text/plain": [
       "<IPython.core.display.HTML object>"
      ]
     },
     "metadata": {},
     "output_type": "display_data"
    }
   ],
   "source": [
    "import sys; sys.path.append('..')\n",
    "import pyzx as zx\n",
    "%config InlineBackend.figure_format = 'svg'\n",
    "zx.d3.init()"
   ]
  },
  {
   "cell_type": "code",
   "execution_count": 2,
   "metadata": {},
   "outputs": [
    {
     "name": "stdout",
     "output_type": "stream",
     "text": [
      "[T(0), CNOT(1,0), HAD(1)]\n"
     ]
    }
   ],
   "source": [
    "c = zx.Circuit(3)\n",
    "c.add_gate(\"T\",0)\n",
    "c.add_gate(\"CNOT\",1,0)\n",
    "c.add_gate(\"HAD\", 1)\n",
    "print(c.gates)"
   ]
  },
  {
   "cell_type": "code",
   "execution_count": 3,
   "metadata": {},
   "outputs": [
    {
     "name": "stdout",
     "output_type": "stream",
     "text": [
      "Graph(10 vertices, 8 edges)\n"
     ]
    },
    {
     "data": {
      "image/png": "[encoded data removed]",
      "text/plain": [
       "<matplotlib.figure.Figure at 0xabff610>"
      ]
     },
     "execution_count": 3,
     "metadata": {},
     "output_type": "execute_result"
    }
   ],
   "source": [
    "g = c.to_graph()\n",
    "print(g)\n",
    "zx.draw(g)"
   ]
  },
  {
   "cell_type": "code",
   "execution_count": 4,
   "metadata": {},
   "outputs": [
    {
     "data": {
      "text/html": [
       "\n",
       "    <div class=\"d3graph\" id=\"graph-output-1\"></div>\n",
       "    <script type=\"text/javascript\">\n",
       "    require(['d3'], function(d3) {\n",
       "    showGraph('#graph-output-1',\n",
       "    JSON.parse('{\"links\": [{\"t\": 1, \"source\": \"0\", \"target\": \"3\"}, {\"t\": 1, \"source\": \"1\", \"target\": \"5\"}, {\"t\": 1, \"source\": \"2\", \"target\": \"9\"}, {\"t\": 1, \"source\": \"3\", \"target\": \"4\"}, {\"t\": 1, \"source\": \"4\", \"target\": \"5\"}, {\"t\": 1, \"source\": \"4\", \"target\": \"7\"}, {\"t\": 2, \"source\": \"5\", \"target\": \"6\"}, {\"t\": 1, \"source\": \"6\", \"target\": \"8\"}], \"nodes\": [{\"x\": 20, \"t\": 0, \"y\": 40, \"phase\": \"\", \"name\": \"0\"}, {\"x\": 20, \"t\": 0, \"y\": 60, \"phase\": \"\", \"name\": \"1\"}, {\"x\": 20, \"t\": 0, \"y\": 80, \"phase\": \"\", \"name\": \"2\"}, {\"x\": 40, \"t\": 1, \"y\": 40, \"phase\": \"\\u03c0/4\", \"name\": \"3\"}, {\"x\": 60, \"t\": 2, \"y\": 40, \"phase\": \"\", \"name\": \"4\"}, {\"x\": 60, \"t\": 1, \"y\": 60, \"phase\": \"\", \"name\": \"5\"}, {\"x\": 80, \"t\": 1, \"y\": 60, \"phase\": \"\", \"name\": \"6\"}, {\"x\": 100, \"t\": 0, \"y\": 40, \"phase\": \"\", \"name\": \"7\"}, {\"x\": 100, \"t\": 0, \"y\": 60, \"phase\": \"\", \"name\": \"8\"}, {\"x\": 100, \"t\": 0, \"y\": 80, \"phase\": \"\", \"name\": \"9\"}]}'),\n",
       "    120,\n",
       "    120,\n",
       "    4.0);\n",
       "    });\n",
       "    </script>\n",
       "    "
      ],
      "text/plain": [
       "<IPython.core.display.HTML object>"
      ]
     },
     "metadata": {},
     "output_type": "display_data"
    }
   ],
   "source": [
    "zx.d3.draw(g,scale=20)"
   ]
  }
 ],
 "metadata": {
  "kernelspec": {
   "display_name": "Python 3",
   "language": "python",
   "name": "python3"
  },
  "language_info": {
   "codemirror_mode": {
    "name": "ipython",
    "version": 3
   },
   "file_extension": ".py",
   "mimetype": "text/x-python",
   "name": "python",
   "nbconvert_exporter": "python",
   "pygments_lexer": "ipython3",
   "version": "3.6.4"
  }
 },
 "nbformat": 4,
 "nbformat_minor": 2
}
