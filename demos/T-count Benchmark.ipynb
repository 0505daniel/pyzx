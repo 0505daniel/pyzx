{
 "cells": [
  {
   "cell_type": "markdown",
   "metadata": {},
   "source": [
    "# Benchmark\n",
    "\n",
    "This notebook provides a straightforward way to compare the PyZX optimization routines against other approaches on a standard set of benchmark circuits."
   ]
  },
  {
   "cell_type": "markdown",
   "metadata": {},
   "source": [
    "First we execute the standard set of imports:"
   ]
  },
  {
   "cell_type": "code",
   "execution_count": 1,
   "metadata": {},
   "outputs": [],
   "source": [
    "import random, math, os, time\n",
    "import sys; sys.path.append('..')\n",
    "import pyzx as zx\n",
    "%config InlineBackend.figure_format = 'svg'"
   ]
  },
  {
   "cell_type": "markdown",
   "metadata": {},
   "source": [
    "The following class is some boilerplate around the simplification routines so that we can more easily print the relevant metrics"
   ]
  },
  {
   "cell_type": "code",
   "execution_count": 2,
   "metadata": {},
   "outputs": [],
   "source": [
    "class CircuitComparer:\n",
    "    def __init__(self, dirname, before, after):\n",
    "        self.fname_before = os.path.join(dirname, before)\n",
    "        if after:\n",
    "            self.fname_after = os.path.join(dirname, after)\n",
    "        else:\n",
    "            self.fname_after = \"\"\n",
    "        self.fname_tpar = \"\"\n",
    "        if before.find('before') != -1:\n",
    "            self.name = before[:-7]\n",
    "        else:\n",
    "            self.name = before\n",
    "        self.has_run = False\n",
    "    def __str__(self):\n",
    "        return \"CircuitComparer({}, {})\".format(self.name, str(self.has_run))\n",
    "    def __repr__(self):\n",
    "        return str(self)\n",
    "    \n",
    "    def run(self):\n",
    "        if self.has_run: return True\n",
    "        c = zx.Circuit.load(self.fname_before).to_basic_gates()\n",
    "        if self.fname_after:\n",
    "            c_opt = zx.Circuit.load(self.fname_after).to_basic_gates()\n",
    "            self.t_opt = c_opt.tcount()\n",
    "        else:\n",
    "            self.t_opt = '-'\n",
    "        self.qubits = c.qubits\n",
    "        if self.fname_tpar:\n",
    "            c2 = zx.Circuit.load(self.fname_tpar)\n",
    "            self.tpar = c2.tcount()\n",
    "        else: self.tpar = \"-\"\n",
    "        self.gatecount = len(c.gates)\n",
    "        self.t_before = c.tcount()\n",
    "        g = c.to_graph()\n",
    "        t = time.time()\n",
    "        g = zx.simplify.teleport_reduce(g)\n",
    "        self.t_after = zx.tcount(g)\n",
    "        self.time_simpl = time.time() - t\n",
    "        t = time.time()\n",
    "        c_opt = zx.extract.streaming_extract(g).to_basic_gates()\n",
    "        c_opt = zx.optimize.basic_optimization(c_opt).to_basic_gates()\n",
    "        self.c_opt = c_opt\n",
    "        c_id = c.adjoint()\n",
    "        c_id.add_circuit(c_opt)\n",
    "        g = c_id.to_graph()\n",
    "        zx.simplify.full_reduce(g)\n",
    "        if g.num_vertices() == 2*len(g.inputs):\n",
    "            self.verified = \"Y\"\n",
    "        else: self.verified = \"-\"\n",
    "        \n",
    "        self.extracts = True\n",
    "        self.time_extr = 0.0\n",
    "#         try: \n",
    "#             c2 = zx.extract.streaming_extract(g,quiet=True)\n",
    "#             self.time_extr = time.time() - t\n",
    "#         except Exception:\n",
    "#             self.extracts = False\n",
    "#             self.time_extr = -1\n",
    "        self.has_run = True\n",
    "        \n",
    "        return True\n",
    "    \n",
    "    def get_output(self):\n",
    "        if not self.has_run:\n",
    "            self.run()\n",
    "        s = self.name.ljust(20) + str(self.qubits).rjust(7)\n",
    "        s += str(self.gatecount).rjust(8) + str(self.t_before).rjust(9) + str(self.t_opt).rjust(7) \n",
    "        s += str(self.tpar).rjust(8) + str(self.t_after).rjust(8)\n",
    "        s += \"{:.2f}\".format(self.time_simpl).rjust(11)\n",
    "        #s += \"{:.2f}\".format(self.time_extr).rjust(12)\n",
    "        s += \"       \" + self.verified\n",
    "        #s += str(self.hcount).rjust(8) + str(self.vcount).rjust(8)\n",
    "        return s"
   ]
  },
  {
   "cell_type": "markdown",
   "metadata": {},
   "source": [
    "Next we define a function that loads in a directory of circuit files. Note that the directory we target has up to 3 versions of each circuit:\n",
    "\n",
    "* circuit_before   - This is the original circuit with any modifications, taken from the [Github page](https://github.com/njross/optimizer) of [[1]](#NRSCM)\n",
    "* circuit_after    - This is the circuit produced by the optimization routines of [[1]](#NRSCM).\n",
    "* circuit_tpar.qc  - This is the circuit produced by the Tpar algorithm [[2]](#Tpar).\n",
    "  \n",
    "<a id=\"NRSCM\"></a>\n",
    "[1] [Nam, Ross, Su, Childs, Maslov - Automated optimization of large quantum circuits with continuous parameters](https://www.nature.com/articles/s41534-018-0072-4)\n",
    "\n",
    "<a id=\"Tpar\"></a>\n",
    "[2] [Amy, Maslov, Mosca - Polynomial-time T-depth Optimization of Clifford+T circuits via Matroid Partitioning](https://arxiv.org/abs/1303.2042)"
   ]
  },
  {
   "cell_type": "code",
   "execution_count": 3,
   "metadata": {},
   "outputs": [],
   "source": [
    "def load_circuits(directory):\n",
    "    d = directory\n",
    "    beforefiles = []\n",
    "    afterfiles = []\n",
    "    tparfiles = []\n",
    "    for f in os.listdir(d):\n",
    "        if not os.path.isfile(os.path.join(d,f)): continue\n",
    "        if f.find('before') != -1:\n",
    "            beforefiles.append((f,d))\n",
    "        elif f.find('tpar') != -1:\n",
    "            tparfiles.append((f,d))\n",
    "        elif f.find('.qc') != -1 or f.find('.tfc') != -1:\n",
    "            beforefiles.append((f,d))\n",
    "        else: afterfiles.append((f,d))\n",
    "    \n",
    "    circuits = []\n",
    "    for f, d in beforefiles:\n",
    "        if f.find('before') == -1:\n",
    "            n = os.path.splitext(f)[0]\n",
    "        else: n = f[:-7]\n",
    "        for f2,d2 in afterfiles:\n",
    "            if d!=d2: continue\n",
    "            if f2.startswith(n):\n",
    "                c = CircuitComparer(d, f, f2)\n",
    "                circuits.append(c)\n",
    "                break\n",
    "        else:\n",
    "            c = CircuitComparer(d, f, '')\n",
    "            circuits.append(c)\n",
    "        for f2,d2 in tparfiles:\n",
    "            if d!=d2: continue\n",
    "            if f2.startswith(n):\n",
    "                circuits[-1].fname_tpar = os.path.join(d2,f2)\n",
    "    \n",
    "    return circuits\n",
    "\n",
    "dir_fast_circuits = os.path.join('..', 'circuits', 'Fast')\n",
    "fast_circuits = load_circuits(dir_fast_circuits)"
   ]
  },
  {
   "cell_type": "markdown",
   "metadata": {},
   "source": [
    "The directory we target contains a subset of all benchmark circuits, chosen for given quick results. The following cell giving benchmark results of these circuits should therefore only take a few seconds to run. For the benchmarks of slower circuits see [below](#slowbench).\n",
    "The columns have the following meaning:\n",
    "\n",
    "* `Circuit     ` - The name of the circuit\n",
    "* `qubits      ` - Amount of qubits in the circuit\n",
    "* `G-count     ` - Gate count of original circuit\n",
    "* `T-before    ` - Amount of T-gates in original circuit\n",
    "* `T-NRSCM     ` - Amount of T-gates in optimised circuit of [[1]](#NRSCM)\n",
    "* `T-par       ` - Amount of T-gates in optimised circuit of [[2]](#Tpar)\n",
    "* `T-PyZX      ` - Amount of T-gates in optimised circuit made by PyZX\n",
    "* `Time-Simp   ` - The time taken for running the simplification routine on the circuit\n",
    "* `Time-Extract` - The time taken for extracting the circuit after the simplification\n",
    "\n",
    "Note that not all circuits were present in the papers [[1]](#NRSCM) and [[2]](#Tpar) in which case the relevant columns are empty."
   ]
  },
  {
   "cell_type": "code",
   "execution_count": 4,
   "metadata": {
    "scrolled": false
   },
   "outputs": [
    {
     "name": "stdout",
     "output_type": "stream",
     "text": [
      "Circuit              qubits G-count T-before T-NRSCM  T-par  T-PyZX  Time-Simp Verified\n",
      "Adder8                   23     637      266     56       -      56       0.30       Y\n",
      "adder_8                  24    1014      399    215     215     173       0.67       Y\n",
      "barenco_tof_10           19     514      224    100     100     100       0.18       Y\n",
      "barenco_tof_3             5      66       28     16      16      16       0.01       Y\n",
      "barenco_tof_4             7     130       56     28      28      28       0.04       Y\n",
      "barenco_tof_5             9     194       84     40      40      40       0.06       Y\n",
      "csla_mux_3_original      15     190       70     64       -      62       0.05       Y\n",
      "csum_mux_9_corrected     30     448      196     84       -      84       0.12       Y\n",
      "gf2^10_mult              30    1709      700    410     410     410       0.67       Y\n",
      "gf2^4_mult               12     275      112     68      68      68       0.09       Y\n",
      "gf2^5_mult               15     429      175    115     111     115       0.14       Y\n",
      "gf2^6_mult               18     617      252    150     150     150       0.18       Y\n",
      "gf2^7_mult               21     839      343    217     217     217       0.30       Y\n",
      "gf2^8_mult               24    1109      448    264     264     264       0.70       Y\n",
      "gf2^9_mult               27    1385      567    351     351     351       0.50       Y\n",
      "grover_5.qc               9     927      336      -      52     166       0.34       Y\n",
      "ham15-low.qc             17     489      161      -       -      97       0.26       Y\n",
      "hwb6.qc                   7     289      105      -       -      75       0.11       Y\n",
      "mod5_4                    5      71       28     16      16       8       0.02       Y\n",
      "mod_mult_55               9     133       49     35      37      35       0.04       Y\n",
      "mod_red_21               11     312      119     73      73      73       0.11       Y\n",
      "nth_prime6.tfc            9    1241      567      -       -     279       0.99       -\n",
      "qcla_adder_10            36     589      238    162     162     162       0.19       Y\n",
      "qcla_com_7               24     501      203     95      95      95       0.19       Y\n",
      "qcla_mod_7               26    1002      413    235     249     237       0.42       Y\n",
      "QFT16                    16     586      342    144       -     186       0.12       Y\n",
      "QFT8                      8     148       84     42       -      49       0.03       Y\n",
      "QFTAdd8                  16     476      252    112       -     136       0.14       Y\n",
      "qft_4.qc                  5     183       69      -       -      67       0.03       Y\n",
      "rc_adder_6               14     222       77     47      63      47       0.09       Y\n",
      "tof_10                   19     289      119     71      71      71       0.08       Y\n",
      "tof_3                     5      51       21     15      15      15       0.01       Y\n",
      "tof_4                     7      85       35     23      23      23       0.02       Y\n",
      "tof_5                     9     119       49     31      31      31       0.03       Y\n",
      "vbe_adder_3              10     170       70     24      24      24       0.04       Y\n"
     ]
    }
   ],
   "source": [
    "print(\"Circuit\".ljust(20), \"qubits\", \"G-count\", \"T-before\", \"T-NRSCM\", \" T-par\", \" T-PyZX\", \" Time-Simp\",\"Verified\")\n",
    "for c in fast_circuits:\n",
    "    print(c.get_output())"
   ]
  },
  {
   "cell_type": "markdown",
   "metadata": {},
   "source": [
    "<a id=\"slowbench\"></a>\n",
    "And now we do the benchmark on the slower circuits. Note that this can take up to half an hour to complete."
   ]
  },
  {
   "cell_type": "code",
   "execution_count": 6,
   "metadata": {},
   "outputs": [
    {
     "name": "stdout",
     "output_type": "stream",
     "text": [
      "Circuit              qubits G-count T-before T-NRSCM  T-par  T-PyZX  Time-Simp  Time-Extract\n",
      "Adder16                  47    1437      602    120       -     120       0.58       14.36\n",
      "Adder32                  95    3037     1274    248       -     248       1.59      128.39\n",
      "Adder64                 191    6237     2618    504       -     504       3.22      510.34\n",
      "gf2^16_mult              48    4397     1792   1040    1040    1040       4.65        0.16\n",
      "ham15-high.qc            20    6010     2457      -       -    1019       7.39       22.70\n",
      "ham15-med.qc             17    1436      574      -       -     212       1.28        1.83\n",
      "mod_adder_1024           28    4855     1995   1011    1011    1011       2.31        8.45\n",
      "QFT32                    32    1562      918    368       -     368       0.24        0.04\n",
      "QFTAdd16                 32    1822     1026    402       -     402       0.46        0.94\n",
      "QFTAdd32                 64    4814     2754   1042       -    1042       1.34       35.38\n"
     ]
    }
   ],
   "source": [
    "dir_slow_circuits = os.path.join('..', 'circuits', 'Slow')\n",
    "slow_circuits = load_circuits(dir_slow_circuits)\n",
    "print(\"Circuit\".ljust(20), \"qubits\", \"G-count\", \"T-before\", \"T-NRSCM\", \" T-par\", \" T-PyZX\", \" Time-Simp\", \" Time-Extract\")\n",
    "for c in slow_circuits:\n",
    "    print(c.get_output())"
   ]
  },
  {
   "cell_type": "code",
   "execution_count": 5,
   "metadata": {},
   "outputs": [],
   "source": [
    "def load_pf_circuits(directory):\n",
    "    d = directory\n",
    "    circuits = []\n",
    "    for f in os.listdir(d):\n",
    "        if not os.path.isfile(os.path.join(d,f)): continue\n",
    "        if f.find('after') == -1: continue\n",
    "        c = CircuitComparer(d,f,f)\n",
    "        circuits.append(c)\n",
    "    return circuits"
   ]
  },
  {
   "cell_type": "code",
   "execution_count": 6,
   "metadata": {},
   "outputs": [
    {
     "name": "stdout",
     "output_type": "stream",
     "text": [
      "Circuit              qubits G-count T-before T-NRSCM  T-par  T-PyZX  Time-Simp  Time-Extract\n",
      "pf1_100_after           100    1500      400    400       -     400      50.88        9.86\n",
      "pf1_10_after             10     150       40     40       -      40       0.05        0.02\n",
      "pf1_20_after             20     300       80     80       -      80       0.11        0.11\n",
      "pf1_30_after             30     450      120    120       -     120       0.66        0.27\n",
      "pf1_40_after             40     600      160    160       -     160       0.48        0.44\n",
      "pf1_50_after             50     750      200    200       -     200       8.99        5.19\n",
      "pf1_60_after             60     900      240    240       -     240       1.61        1.36\n",
      "pf1_70_after             70    1050      280    280       -     280       4.58        1.91\n",
      "pf1_80_after             80    1200      320    320       -     320      42.77        8.02\n",
      "pf1_90_after             90    1350      360    360       -     360      93.12       30.62\n",
      "pf2_100_after           100    1900      500    500       -     500      14.32        4.57\n",
      "pf2_10_after             10     190       50     50       -      50       0.05        0.01\n",
      "pf2_20_after             20     380      100    100       -     100       0.12        0.05\n",
      "pf2_30_after             30     570      150    150       -     150       0.29        0.20\n",
      "pf2_40_after             40     760      200    200       -     200       0.73        0.38\n",
      "pf2_50_after             50     950      250    250       -     250       1.69        2.00\n",
      "pf2_60_after             60    1140      300    300       -     300       1.20        2.95\n",
      "pf2_70_after             70    1330      350    350       -     350       3.87        4.50\n",
      "pf2_80_after             80    1520      400    400       -     400       3.55        6.13\n",
      "pf2_90_after             90    1710      450    450       -     450       8.83       11.85\n",
      "pf4_10_after             10     950      250    250       -     250       0.56        0.23\n",
      "pf4_20_after             20    1900      500    500       -     500       2.89       28.00\n",
      "pf4_30_after             30    2850      750    750       -     750       7.75      109.31\n",
      "pf4_40_after             40    3800     1000   1000       -    1000      36.34      229.59\n",
      "pf4_50_after             50    4750     1250   1250       -    1250      55.72      294.07\n",
      "pf4_60_after             60    5700     1500   1500       -    1500      57.57      448.45\n"
     ]
    },
    {
     "ename": "KeyboardInterrupt",
     "evalue": "",
     "output_type": "error",
     "traceback": [
      "\u001b[1;31m---------------------------------------------------------------------------\u001b[0m",
      "\u001b[1;31mKeyboardInterrupt\u001b[0m                         Traceback (most recent call last)",
      "\u001b[1;32m<ipython-input-6-4facf889a74d>\u001b[0m in \u001b[0;36m<module>\u001b[1;34m()\u001b[0m\n\u001b[0;32m      3\u001b[0m \u001b[0mprint\u001b[0m\u001b[1;33m(\u001b[0m\u001b[1;34m\"Circuit\"\u001b[0m\u001b[1;33m.\u001b[0m\u001b[0mljust\u001b[0m\u001b[1;33m(\u001b[0m\u001b[1;36m20\u001b[0m\u001b[1;33m)\u001b[0m\u001b[1;33m,\u001b[0m \u001b[1;34m\"qubits\"\u001b[0m\u001b[1;33m,\u001b[0m \u001b[1;34m\"G-count\"\u001b[0m\u001b[1;33m,\u001b[0m \u001b[1;34m\"T-before\"\u001b[0m\u001b[1;33m,\u001b[0m \u001b[1;34m\"T-NRSCM\"\u001b[0m\u001b[1;33m,\u001b[0m \u001b[1;34m\" T-par\"\u001b[0m\u001b[1;33m,\u001b[0m \u001b[1;34m\" T-PyZX\"\u001b[0m\u001b[1;33m,\u001b[0m \u001b[1;34m\" Time-Simp\"\u001b[0m\u001b[1;33m,\u001b[0m \u001b[1;34m\" Time-Extract\"\u001b[0m\u001b[1;33m)\u001b[0m\u001b[1;33m\u001b[0m\u001b[0m\n\u001b[0;32m      4\u001b[0m \u001b[1;32mfor\u001b[0m \u001b[0mc\u001b[0m \u001b[1;32min\u001b[0m \u001b[0mpf_circuits\u001b[0m\u001b[1;33m:\u001b[0m\u001b[1;33m\u001b[0m\u001b[0m\n\u001b[1;32m----> 5\u001b[1;33m     \u001b[0mprint\u001b[0m\u001b[1;33m(\u001b[0m\u001b[0mc\u001b[0m\u001b[1;33m.\u001b[0m\u001b[0mget_output\u001b[0m\u001b[1;33m(\u001b[0m\u001b[1;33m)\u001b[0m\u001b[1;33m)\u001b[0m\u001b[1;33m\u001b[0m\u001b[0m\n\u001b[0m",
      "\u001b[1;32m<ipython-input-2-3a7cf8d8fe22>\u001b[0m in \u001b[0;36mget_output\u001b[1;34m(self)\u001b[0m\n\u001b[0;32m     50\u001b[0m     \u001b[1;32mdef\u001b[0m \u001b[0mget_output\u001b[0m\u001b[1;33m(\u001b[0m\u001b[0mself\u001b[0m\u001b[1;33m)\u001b[0m\u001b[1;33m:\u001b[0m\u001b[1;33m\u001b[0m\u001b[0m\n\u001b[0;32m     51\u001b[0m         \u001b[1;32mif\u001b[0m \u001b[1;32mnot\u001b[0m \u001b[0mself\u001b[0m\u001b[1;33m.\u001b[0m\u001b[0mhas_run\u001b[0m\u001b[1;33m:\u001b[0m\u001b[1;33m\u001b[0m\u001b[0m\n\u001b[1;32m---> 52\u001b[1;33m             \u001b[0mself\u001b[0m\u001b[1;33m.\u001b[0m\u001b[0mrun\u001b[0m\u001b[1;33m(\u001b[0m\u001b[1;33m)\u001b[0m\u001b[1;33m\u001b[0m\u001b[0m\n\u001b[0m\u001b[0;32m     53\u001b[0m         \u001b[0ms\u001b[0m \u001b[1;33m=\u001b[0m \u001b[0mself\u001b[0m\u001b[1;33m.\u001b[0m\u001b[0mname\u001b[0m\u001b[1;33m.\u001b[0m\u001b[0mljust\u001b[0m\u001b[1;33m(\u001b[0m\u001b[1;36m20\u001b[0m\u001b[1;33m)\u001b[0m \u001b[1;33m+\u001b[0m \u001b[0mstr\u001b[0m\u001b[1;33m(\u001b[0m\u001b[0mself\u001b[0m\u001b[1;33m.\u001b[0m\u001b[0mqubits\u001b[0m\u001b[1;33m)\u001b[0m\u001b[1;33m.\u001b[0m\u001b[0mrjust\u001b[0m\u001b[1;33m(\u001b[0m\u001b[1;36m7\u001b[0m\u001b[1;33m)\u001b[0m\u001b[1;33m\u001b[0m\u001b[0m\n\u001b[0;32m     54\u001b[0m         \u001b[0ms\u001b[0m \u001b[1;33m+=\u001b[0m \u001b[0mstr\u001b[0m\u001b[1;33m(\u001b[0m\u001b[0mself\u001b[0m\u001b[1;33m.\u001b[0m\u001b[0mgatecount\u001b[0m\u001b[1;33m)\u001b[0m\u001b[1;33m.\u001b[0m\u001b[0mrjust\u001b[0m\u001b[1;33m(\u001b[0m\u001b[1;36m8\u001b[0m\u001b[1;33m)\u001b[0m \u001b[1;33m+\u001b[0m \u001b[0mstr\u001b[0m\u001b[1;33m(\u001b[0m\u001b[0mself\u001b[0m\u001b[1;33m.\u001b[0m\u001b[0mt_before\u001b[0m\u001b[1;33m)\u001b[0m\u001b[1;33m.\u001b[0m\u001b[0mrjust\u001b[0m\u001b[1;33m(\u001b[0m\u001b[1;36m9\u001b[0m\u001b[1;33m)\u001b[0m \u001b[1;33m+\u001b[0m \u001b[0mstr\u001b[0m\u001b[1;33m(\u001b[0m\u001b[0mself\u001b[0m\u001b[1;33m.\u001b[0m\u001b[0mt_opt\u001b[0m\u001b[1;33m)\u001b[0m\u001b[1;33m.\u001b[0m\u001b[0mrjust\u001b[0m\u001b[1;33m(\u001b[0m\u001b[1;36m7\u001b[0m\u001b[1;33m)\u001b[0m\u001b[1;33m\u001b[0m\u001b[0m\n",
      "\u001b[1;32m<ipython-input-2-3a7cf8d8fe22>\u001b[0m in \u001b[0;36mrun\u001b[1;34m(self)\u001b[0m\n\u001b[0;32m     34\u001b[0m         \u001b[0mg\u001b[0m \u001b[1;33m=\u001b[0m \u001b[0mc\u001b[0m\u001b[1;33m.\u001b[0m\u001b[0mto_graph\u001b[0m\u001b[1;33m(\u001b[0m\u001b[1;33m)\u001b[0m\u001b[1;33m\u001b[0m\u001b[0m\n\u001b[0;32m     35\u001b[0m         \u001b[0mt\u001b[0m \u001b[1;33m=\u001b[0m \u001b[0mtime\u001b[0m\u001b[1;33m.\u001b[0m\u001b[0mtime\u001b[0m\u001b[1;33m(\u001b[0m\u001b[1;33m)\u001b[0m\u001b[1;33m\u001b[0m\u001b[0m\n\u001b[1;32m---> 36\u001b[1;33m         \u001b[0mzx\u001b[0m\u001b[1;33m.\u001b[0m\u001b[0msimplify\u001b[0m\u001b[1;33m.\u001b[0m\u001b[0mfull_reduce\u001b[0m\u001b[1;33m(\u001b[0m\u001b[0mg\u001b[0m\u001b[1;33m)\u001b[0m\u001b[1;33m\u001b[0m\u001b[0m\n\u001b[0m\u001b[0;32m     37\u001b[0m         \u001b[0mself\u001b[0m\u001b[1;33m.\u001b[0m\u001b[0mt_after\u001b[0m \u001b[1;33m=\u001b[0m \u001b[0mzx\u001b[0m\u001b[1;33m.\u001b[0m\u001b[0mtcount\u001b[0m\u001b[1;33m(\u001b[0m\u001b[0mg\u001b[0m\u001b[1;33m)\u001b[0m\u001b[1;33m\u001b[0m\u001b[0m\n\u001b[0;32m     38\u001b[0m         \u001b[0mself\u001b[0m\u001b[1;33m.\u001b[0m\u001b[0mtime_simpl\u001b[0m \u001b[1;33m=\u001b[0m \u001b[0mtime\u001b[0m\u001b[1;33m.\u001b[0m\u001b[0mtime\u001b[0m\u001b[1;33m(\u001b[0m\u001b[1;33m)\u001b[0m \u001b[1;33m-\u001b[0m \u001b[0mt\u001b[0m\u001b[1;33m\u001b[0m\u001b[0m\n",
      "\u001b[1;32m~\\Documents\\Projects\\pyzx\\pyzx\\simplify.py\u001b[0m in \u001b[0;36mfull_reduce\u001b[1;34m(g, quiet)\u001b[0m\n\u001b[0;32m    222\u001b[0m     \u001b[0minterior_clifford_simp\u001b[0m\u001b[1;33m(\u001b[0m\u001b[0mg\u001b[0m\u001b[1;33m,\u001b[0m \u001b[0mquiet\u001b[0m\u001b[1;33m=\u001b[0m\u001b[0mquiet\u001b[0m\u001b[1;33m)\u001b[0m\u001b[1;33m\u001b[0m\u001b[0m\n\u001b[0;32m    223\u001b[0m     \u001b[1;32mwhile\u001b[0m \u001b[1;32mTrue\u001b[0m\u001b[1;33m:\u001b[0m\u001b[1;33m\u001b[0m\u001b[0m\n\u001b[1;32m--> 224\u001b[1;33m         \u001b[0mpivot_gadget_simp\u001b[0m\u001b[1;33m(\u001b[0m\u001b[0mg\u001b[0m\u001b[1;33m,\u001b[0m\u001b[0mquiet\u001b[0m\u001b[1;33m=\u001b[0m\u001b[0mquiet\u001b[0m\u001b[1;33m)\u001b[0m\u001b[1;33m\u001b[0m\u001b[0m\n\u001b[0m\u001b[0;32m    225\u001b[0m         \u001b[0mclifford_simp\u001b[0m\u001b[1;33m(\u001b[0m\u001b[0mg\u001b[0m\u001b[1;33m,\u001b[0m\u001b[0mquiet\u001b[0m\u001b[1;33m=\u001b[0m\u001b[0mquiet\u001b[0m\u001b[1;33m)\u001b[0m\u001b[1;33m\u001b[0m\u001b[0m\n\u001b[0;32m    226\u001b[0m         \u001b[0mi\u001b[0m \u001b[1;33m=\u001b[0m \u001b[0mgadget_simp\u001b[0m\u001b[1;33m(\u001b[0m\u001b[0mg\u001b[0m\u001b[1;33m,\u001b[0m \u001b[0mquiet\u001b[0m\u001b[1;33m=\u001b[0m\u001b[0mquiet\u001b[0m\u001b[1;33m)\u001b[0m\u001b[1;33m\u001b[0m\u001b[0m\n",
      "\u001b[1;32m~\\Documents\\Projects\\pyzx\\pyzx\\simplify.py\u001b[0m in \u001b[0;36mpivot_gadget_simp\u001b[1;34m(g, matchf, quiet)\u001b[0m\n\u001b[0;32m     72\u001b[0m \u001b[1;33m\u001b[0m\u001b[0m\n\u001b[0;32m     73\u001b[0m \u001b[1;32mdef\u001b[0m \u001b[0mpivot_gadget_simp\u001b[0m\u001b[1;33m(\u001b[0m\u001b[0mg\u001b[0m\u001b[1;33m,\u001b[0m \u001b[0mmatchf\u001b[0m\u001b[1;33m=\u001b[0m\u001b[1;32mNone\u001b[0m\u001b[1;33m,\u001b[0m \u001b[0mquiet\u001b[0m\u001b[1;33m=\u001b[0m\u001b[1;32mFalse\u001b[0m\u001b[1;33m)\u001b[0m\u001b[1;33m:\u001b[0m\u001b[1;33m\u001b[0m\u001b[0m\n\u001b[1;32m---> 74\u001b[1;33m     \u001b[1;32mreturn\u001b[0m \u001b[0msimp\u001b[0m\u001b[1;33m(\u001b[0m\u001b[0mg\u001b[0m\u001b[1;33m,\u001b[0m \u001b[1;34m'pivot_gadget_simp'\u001b[0m\u001b[1;33m,\u001b[0m \u001b[0mmatch_pivot_gadget\u001b[0m\u001b[1;33m,\u001b[0m \u001b[0mpivot\u001b[0m\u001b[1;33m,\u001b[0m \u001b[0mmatchf\u001b[0m\u001b[1;33m=\u001b[0m\u001b[0mmatchf\u001b[0m\u001b[1;33m,\u001b[0m \u001b[0mquiet\u001b[0m\u001b[1;33m=\u001b[0m\u001b[0mquiet\u001b[0m\u001b[1;33m)\u001b[0m\u001b[1;33m\u001b[0m\u001b[0m\n\u001b[0m\u001b[0;32m     75\u001b[0m \u001b[1;33m\u001b[0m\u001b[0m\n\u001b[0;32m     76\u001b[0m \u001b[1;32mdef\u001b[0m \u001b[0mpivot_boundary_simp\u001b[0m\u001b[1;33m(\u001b[0m\u001b[0mg\u001b[0m\u001b[1;33m,\u001b[0m \u001b[0mmatchf\u001b[0m\u001b[1;33m=\u001b[0m\u001b[1;32mNone\u001b[0m\u001b[1;33m,\u001b[0m \u001b[0mquiet\u001b[0m\u001b[1;33m=\u001b[0m\u001b[1;32mFalse\u001b[0m\u001b[1;33m)\u001b[0m\u001b[1;33m:\u001b[0m\u001b[1;33m\u001b[0m\u001b[0m\n",
      "\u001b[1;32m~\\Documents\\Projects\\pyzx\\pyzx\\simplify.py\u001b[0m in \u001b[0;36msimp\u001b[1;34m(g, name, match, rewrite, matchf, quiet)\u001b[0m\n\u001b[0;32m     51\u001b[0m             \u001b[0mm\u001b[0m \u001b[1;33m=\u001b[0m \u001b[0mmatch\u001b[0m\u001b[1;33m(\u001b[0m\u001b[0mg\u001b[0m\u001b[1;33m,\u001b[0m \u001b[0mmatchf\u001b[0m\u001b[1;33m)\u001b[0m\u001b[1;33m\u001b[0m\u001b[0m\n\u001b[0;32m     52\u001b[0m         \u001b[1;32melse\u001b[0m\u001b[1;33m:\u001b[0m\u001b[1;33m\u001b[0m\u001b[0m\n\u001b[1;32m---> 53\u001b[1;33m             \u001b[0mm\u001b[0m \u001b[1;33m=\u001b[0m \u001b[0mmatch\u001b[0m\u001b[1;33m(\u001b[0m\u001b[0mg\u001b[0m\u001b[1;33m)\u001b[0m\u001b[1;33m\u001b[0m\u001b[0m\n\u001b[0m\u001b[0;32m     54\u001b[0m         \u001b[1;32mif\u001b[0m \u001b[0mlen\u001b[0m\u001b[1;33m(\u001b[0m\u001b[0mm\u001b[0m\u001b[1;33m)\u001b[0m \u001b[1;33m>\u001b[0m \u001b[1;36m0\u001b[0m\u001b[1;33m:\u001b[0m\u001b[1;33m\u001b[0m\u001b[0m\n\u001b[0;32m     55\u001b[0m             \u001b[0mi\u001b[0m \u001b[1;33m+=\u001b[0m \u001b[1;36m1\u001b[0m\u001b[1;33m\u001b[0m\u001b[0m\n",
      "\u001b[1;32m~\\Documents\\Projects\\pyzx\\pyzx\\rules.py\u001b[0m in \u001b[0;36mmatch_pivot_gadget\u001b[1;34m(g, matchf, num)\u001b[0m\n\u001b[0;32m    349\u001b[0m                     \u001b[0mbad_match\u001b[0m \u001b[1;33m=\u001b[0m \u001b[1;32mTrue\u001b[0m\u001b[1;33m\u001b[0m\u001b[0m\n\u001b[0;32m    350\u001b[0m                     \u001b[1;32mbreak\u001b[0m\u001b[1;33m\u001b[0m\u001b[0m\n\u001b[1;32m--> 351\u001b[1;33m                 \u001b[0mne\u001b[0m \u001b[1;33m=\u001b[0m \u001b[0mlist\u001b[0m\u001b[1;33m(\u001b[0m\u001b[0mg\u001b[0m\u001b[1;33m.\u001b[0m\u001b[0mincident_edges\u001b[0m\u001b[1;33m(\u001b[0m\u001b[0mn\u001b[0m\u001b[1;33m)\u001b[0m\u001b[1;33m)\u001b[0m\u001b[1;33m\u001b[0m\u001b[0m\n\u001b[0m\u001b[0;32m    352\u001b[0m                 \u001b[1;32mif\u001b[0m \u001b[0mlen\u001b[0m\u001b[1;33m(\u001b[0m\u001b[0mne\u001b[0m\u001b[1;33m)\u001b[0m \u001b[1;33m==\u001b[0m \u001b[1;36m1\u001b[0m\u001b[1;33m:\u001b[0m \u001b[1;31m# v0 or v1 is a phase gadget\u001b[0m\u001b[1;33m\u001b[0m\u001b[0m\n\u001b[0;32m    353\u001b[0m                     \u001b[0mbad_match\u001b[0m \u001b[1;33m=\u001b[0m \u001b[1;32mTrue\u001b[0m\u001b[1;33m\u001b[0m\u001b[0m\n",
      "\u001b[1;32m~\\Documents\\Projects\\pyzx\\pyzx\\graph\\graph_s.py\u001b[0m in \u001b[0;36mincident_edges\u001b[1;34m(self, vertex)\u001b[0m\n\u001b[0;32m    159\u001b[0m \u001b[1;33m\u001b[0m\u001b[0m\n\u001b[0;32m    160\u001b[0m         \u001b[1;32mdef\u001b[0m \u001b[0mincident_edges\u001b[0m\u001b[1;33m(\u001b[0m\u001b[0mself\u001b[0m\u001b[1;33m,\u001b[0m \u001b[0mvertex\u001b[0m\u001b[1;33m)\u001b[0m\u001b[1;33m:\u001b[0m\u001b[1;33m\u001b[0m\u001b[0m\n\u001b[1;32m--> 161\u001b[1;33m                 \u001b[1;32mreturn\u001b[0m \u001b[1;33m[\u001b[0m\u001b[1;33m(\u001b[0m\u001b[0mvertex\u001b[0m\u001b[1;33m,\u001b[0m \u001b[0mv1\u001b[0m\u001b[1;33m)\u001b[0m \u001b[1;32mif\u001b[0m \u001b[0mv1\u001b[0m \u001b[1;33m>\u001b[0m \u001b[0mvertex\u001b[0m \u001b[1;32melse\u001b[0m \u001b[1;33m(\u001b[0m\u001b[0mv1\u001b[0m\u001b[1;33m,\u001b[0m \u001b[0mvertex\u001b[0m\u001b[1;33m)\u001b[0m \u001b[1;32mfor\u001b[0m \u001b[0mv1\u001b[0m \u001b[1;32min\u001b[0m \u001b[0mself\u001b[0m\u001b[1;33m.\u001b[0m\u001b[0mgraph\u001b[0m\u001b[1;33m[\u001b[0m\u001b[0mvertex\u001b[0m\u001b[1;33m]\u001b[0m\u001b[1;33m]\u001b[0m\u001b[1;33m\u001b[0m\u001b[0m\n\u001b[0m\u001b[0;32m    162\u001b[0m \u001b[1;33m\u001b[0m\u001b[0m\n\u001b[0;32m    163\u001b[0m         \u001b[1;32mdef\u001b[0m \u001b[0mconnected\u001b[0m\u001b[1;33m(\u001b[0m\u001b[0mself\u001b[0m\u001b[1;33m,\u001b[0m\u001b[0mv1\u001b[0m\u001b[1;33m,\u001b[0m\u001b[0mv2\u001b[0m\u001b[1;33m)\u001b[0m\u001b[1;33m:\u001b[0m\u001b[1;33m\u001b[0m\u001b[0m\n",
      "\u001b[1;32m~\\Documents\\Projects\\pyzx\\pyzx\\graph\\graph_s.py\u001b[0m in \u001b[0;36m<listcomp>\u001b[1;34m(.0)\u001b[0m\n\u001b[0;32m    159\u001b[0m \u001b[1;33m\u001b[0m\u001b[0m\n\u001b[0;32m    160\u001b[0m         \u001b[1;32mdef\u001b[0m \u001b[0mincident_edges\u001b[0m\u001b[1;33m(\u001b[0m\u001b[0mself\u001b[0m\u001b[1;33m,\u001b[0m \u001b[0mvertex\u001b[0m\u001b[1;33m)\u001b[0m\u001b[1;33m:\u001b[0m\u001b[1;33m\u001b[0m\u001b[0m\n\u001b[1;32m--> 161\u001b[1;33m                 \u001b[1;32mreturn\u001b[0m \u001b[1;33m[\u001b[0m\u001b[1;33m(\u001b[0m\u001b[0mvertex\u001b[0m\u001b[1;33m,\u001b[0m \u001b[0mv1\u001b[0m\u001b[1;33m)\u001b[0m \u001b[1;32mif\u001b[0m \u001b[0mv1\u001b[0m \u001b[1;33m>\u001b[0m \u001b[0mvertex\u001b[0m \u001b[1;32melse\u001b[0m \u001b[1;33m(\u001b[0m\u001b[0mv1\u001b[0m\u001b[1;33m,\u001b[0m \u001b[0mvertex\u001b[0m\u001b[1;33m)\u001b[0m \u001b[1;32mfor\u001b[0m \u001b[0mv1\u001b[0m \u001b[1;32min\u001b[0m \u001b[0mself\u001b[0m\u001b[1;33m.\u001b[0m\u001b[0mgraph\u001b[0m\u001b[1;33m[\u001b[0m\u001b[0mvertex\u001b[0m\u001b[1;33m]\u001b[0m\u001b[1;33m]\u001b[0m\u001b[1;33m\u001b[0m\u001b[0m\n\u001b[0m\u001b[0;32m    162\u001b[0m \u001b[1;33m\u001b[0m\u001b[0m\n\u001b[0;32m    163\u001b[0m         \u001b[1;32mdef\u001b[0m \u001b[0mconnected\u001b[0m\u001b[1;33m(\u001b[0m\u001b[0mself\u001b[0m\u001b[1;33m,\u001b[0m\u001b[0mv1\u001b[0m\u001b[1;33m,\u001b[0m\u001b[0mv2\u001b[0m\u001b[1;33m)\u001b[0m\u001b[1;33m:\u001b[0m\u001b[1;33m\u001b[0m\u001b[0m\n",
      "\u001b[1;31mKeyboardInterrupt\u001b[0m: "
     ]
    }
   ],
   "source": [
    "dir_pf_circuits = os.path.join('..', 'circuits', 'PF')\n",
    "pf_circuits = load_pf_circuits(dir_pf_circuits)\n",
    "print(\"Circuit\".ljust(20), \"qubits\", \"G-count\", \"T-before\", \"T-NRSCM\", \" T-par\", \" T-PyZX\", \" Time-Simp\", \" Time-Extract\")\n",
    "for c in pf_circuits:\n",
    "    print(c.get_output())"
   ]
  },
  {
   "cell_type": "code",
   "execution_count": null,
   "metadata": {},
   "outputs": [],
   "source": []
  }
 ],
 "metadata": {
  "kernelspec": {
   "display_name": "Python 3",
   "language": "python",
   "name": "python3"
  },
  "language_info": {
   "codemirror_mode": {
    "name": "ipython",
    "version": 3
   },
   "file_extension": ".py",
   "mimetype": "text/x-python",
   "name": "python",
   "nbconvert_exporter": "python",
   "pygments_lexer": "ipython3",
   "version": "3.5.2"
  }
 },
 "nbformat": 4,
 "nbformat_minor": 2
}
