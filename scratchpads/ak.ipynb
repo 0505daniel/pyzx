{
 "cells": [
  {
   "cell_type": "code",
   "execution_count": null,
   "metadata": {},
   "outputs": [],
   "source": [
    "import sys, os, math\n",
    "sys.path.insert(0,os.path.expanduser('~/git/pyzx')) # git version\n",
    "sys.path.insert(0,'/workspaces/pyzx')\n",
    "import pyzx as zx\n",
    "from pyzx import print_matrix\n",
    "from pyzx.basicrules import *\n",
    "from fractions import Fraction\n",
    "import random\n",
    "\n",
    "Z = zx.VertexType.Z\n",
    "X = zx.VertexType.X\n",
    "B = zx.VertexType.BOUNDARY\n",
    "SE = zx.EdgeType.SIMPLE\n",
    "HE = zx.EdgeType.HADAMARD"
   ]
  },
  {
   "cell_type": "code",
   "execution_count": null,
   "metadata": {},
   "outputs": [],
   "source": [
    "def unmap_grid(p, width):\n",
    "    y,z = p\n",
    "    return y + z*width\n",
    "\n",
    "def map_grid(q, width):\n",
    "    z = math.floor(q/width)\n",
    "    y = q - z*width\n",
    "    return (y,z)\n",
    "\n",
    "def map_qubits(g, width):\n",
    "    for v in g.vertices():\n",
    "        y,z = map_grid(g.qubit(v), width)\n",
    "        g.set_qubit(v, y)\n",
    "        g.set_vdata(v, 'z', z)\n",
    "\n",
    "def random_nn_cnots(qubits, width, n):\n",
    "    height = math.floor(qubits/width)\n",
    "    c = zx.Circuit(qubits)\n",
    "    g = 0\n",
    "    for _ in range(n):\n",
    "        q = (random.randint(0,height-1), random.randint(0,width-1))\n",
    "        ns = [(q[0]-1, q[1]), (q[0]+1, q[1]), (q[0], q[1]-1), (q[0], q[1]+1)]\n",
    "        q1 = random.choice([(y,z) for y,z in ns if y >= 0 and y < height and z >= 0 and z < width])\n",
    "        c.add_gate('CNOT', unmap_grid(q, width), unmap_grid(q1, width))\n",
    "    return c"
   ]
  },
  {
   "cell_type": "code",
   "execution_count": null,
   "metadata": {},
   "outputs": [],
   "source": [
    "qubits = 9\n",
    "width = 3\n",
    "gates = 20\n",
    "\n",
    "random.seed(1337)\n",
    "c = random_nn_cnots(qubits, width, gates)\n",
    "print(c.gates)\n",
    "g = c.to_graph()\n",
    "map_qubits(g, width)"
   ]
  },
  {
   "cell_type": "code",
   "execution_count": null,
   "metadata": {},
   "outputs": [],
   "source": [
    "zx.draw_3d(g)"
   ]
  },
  {
   "cell_type": "code",
   "execution_count": null,
   "metadata": {},
   "outputs": [],
   "source": []
  }
 ],
 "metadata": {
  "kernelspec": {
   "display_name": "Python 3 (ipykernel)",
   "language": "python",
   "name": "python3"
  },
  "language_info": {
   "codemirror_mode": {
    "name": "ipython",
    "version": 3
   },
   "file_extension": ".py",
   "mimetype": "text/x-python",
   "name": "python",
   "nbconvert_exporter": "python",
   "pygments_lexer": "ipython3",
   "version": "3.12.8"
  }
 },
 "nbformat": 4,
 "nbformat_minor": 4
}
