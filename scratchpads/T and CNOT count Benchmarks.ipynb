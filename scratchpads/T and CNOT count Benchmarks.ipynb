{
 "cells": [
  {
   "cell_type": "markdown",
   "metadata": {},
   "source": [
    "# Benchmark\n",
    "\n",
    "This notebook provides a straightforward way to compare the PyZX optimization routines against other approaches on a standard set of benchmark circuits."
   ]
  },
  {
   "cell_type": "markdown",
   "metadata": {},
   "source": [
    "First we execute the standard set of imports:"
   ]
  },
  {
   "cell_type": "code",
   "execution_count": 1,
   "metadata": {},
   "outputs": [],
   "source": [
    "import random, math, os, time\n",
    "import sys; sys.path.append('..')\n",
    "import pyzx as zx"
   ]
  },
  {
   "cell_type": "markdown",
   "metadata": {},
   "source": [
    "The following class is some boilerplate around the simplification routines so that we can more easily print the relevant metrics"
   ]
  },
  {
   "cell_type": "code",
   "execution_count": 37,
   "metadata": {},
   "outputs": [],
   "source": [
    "class CircuitComparer:\n",
    "    def __init__(self, dirname, before, after):\n",
    "        self.fname_before = os.path.join(dirname, before)\n",
    "        if after:\n",
    "            self.fname_after = os.path.join(dirname, after)\n",
    "        else:\n",
    "            self.fname_after = \"\"\n",
    "        self.fname_tpar = \"\"\n",
    "        if before.find('before') != -1:\n",
    "            self.name = before[:-7]\n",
    "        else:\n",
    "            self.name = before\n",
    "        self.has_run = False\n",
    "    def __str__(self):\n",
    "        return \"CircuitComparer({}, {})\".format(self.name, str(self.has_run))\n",
    "    def __repr__(self):\n",
    "        return str(self)\n",
    "    \n",
    "    def run(self, validate=True):\n",
    "        if self.has_run: return True\n",
    "        c = zx.Circuit.load(self.fname_before).to_basic_gates()\n",
    "        if self.fname_after:\n",
    "            c_opt = zx.Circuit.load(self.fname_after).to_basic_gates()\n",
    "            self.t_opt = c_opt.tcount()\n",
    "        else:\n",
    "            self.t_opt = '-'\n",
    "        self.qubits = c.qubits\n",
    "        if self.fname_tpar:\n",
    "            c2 = zx.Circuit.load(self.fname_tpar)\n",
    "            self.tpar = c2.tcount()\n",
    "        else: self.tpar = \"-\"\n",
    "        self.gatecount = len(c.gates)\n",
    "        self.t_before = c.tcount()\n",
    "        self.twoq_before = c.twoqubitcount()\n",
    "        \n",
    "        #g = c.to_graph()\n",
    "        gt = c.to_graph()\n",
    "        t = time.time()\n",
    "        \n",
    "        #zx.simplify.full_reduce(g)\n",
    "        #self.t_after = zx.tcount(g)\n",
    "        \n",
    "        t = time.time()\n",
    "        \n",
    "        gt = zx.simplify.teleport_reduce(gt)\n",
    "        c_opt = zx.Circuit.from_graph(gt).split_phase_gates().to_basic_gates()\n",
    "        c_opt = zx.optimize.basic_optimization(c_opt).to_basic_gates()\n",
    "        self.t_after = c_opt.tcount()\n",
    "        \n",
    "        self.time_simpl = time.time() - t\n",
    "        \n",
    "        g = c_opt.to_graph()\n",
    "        zx.simplify.full_reduce(g)\n",
    "        c_opt_full = zx.extract_circuit(g)\n",
    "        \n",
    "        # extractor creates a bunch of SWAPs at the front. Get rid of them (to handle classically)\n",
    "        while (isinstance(c_opt_full.gates[0], zx.circuit.gates.SWAP)):\n",
    "            c_opt_full.gates.pop(0)\n",
    "        \n",
    "        c_opt_full = zx.optimize.basic_optimization(c_opt_full.to_basic_gates()).to_basic_gates()\n",
    "        \n",
    "        self.c_opt_full = c_opt_full\n",
    "        self.c_opt = c_opt\n",
    "        self.twoq_after_full = c_opt_full.twoqubitcount()\n",
    "        self.twoq_after = c_opt.twoqubitcount()\n",
    "        if validate:\n",
    "            c_id = c.adjoint()\n",
    "            c_id.add_circuit(c_opt)\n",
    "            g = c_id.to_graph()\n",
    "            zx.simplify.full_reduce(g)\n",
    "            if g.num_vertices() == 2*len(g.inputs):\n",
    "                self.verified = \"Y\"\n",
    "            else: self.verified = \"N\"\n",
    "        else: self.verified = \"-\"\n",
    "        \n",
    "        self.extracts = True\n",
    "        self.time_extr = 0.0\n",
    "#         try: \n",
    "#             c2 = zx.extract_circuit(g,quiet=True)\n",
    "#             self.time_extr = time.time() - t\n",
    "#         except Exception:\n",
    "#             self.extracts = False\n",
    "#             self.time_extr = -1\n",
    "        self.has_run = True\n",
    "        \n",
    "        return True\n",
    "    \n",
    "    def get_output(self, validate=True):\n",
    "        if True:#not self.has_run:\n",
    "            try:\n",
    "                self.run(validate)\n",
    "            except Exception as e:\n",
    "                return self.name + \": \" + str(e)\n",
    "        \n",
    "        name = self.name\n",
    "        if (self.twoq_before > self.twoq_after_full): name += '*'\n",
    "        if (self.twoq_after > self.twoq_after_full): name += '+'\n",
    "        s = name.ljust(20) + str(self.qubits).rjust(7)\n",
    "        s += str(self.gatecount).rjust(8)\n",
    "        s += str(self.t_before).rjust(9)\n",
    "        s += str(self.twoq_before).rjust(len(\"2Q-before\")+1)\n",
    "        s += str(self.t_opt).rjust(7) + str(self.tpar).rjust(8) + str(self.t_after).rjust(8)\n",
    "        s += str(self.twoq_after).rjust(len(\"2Q-PyZX\")+1)\n",
    "        s += str(self.twoq_after_full).rjust(len(\"2Q-PyZX-f\")+1)\n",
    "        s += \"{:.2f}\".format(self.time_simpl).rjust(11)\n",
    "        #s += \"{:.2f}\".format(self.time_extr).rjust(12)\n",
    "        s += \"       \" + self.verified\n",
    "        #s += str(self.hcount).rjust(8) + str(self.vcount).rjust(8)\n",
    "        return s\n",
    "    \n",
    "    def save(self):\n",
    "        if not self.has_run: self.run()\n",
    "        fname = self.name\n",
    "        if not fname.endswith('.qc'): fname = fname + \"_pyzx.qc\"\n",
    "        else: fname = fname[:-3] + \"_pyzx.qc\"\n",
    "        with open(\"../circuits/optimized/{}\".format(fname),'w') as f:\n",
    "            f.write(self.c_opt.split_phase_gates().to_qc())"
   ]
  },
  {
   "cell_type": "markdown",
   "metadata": {},
   "source": [
    "Next we define a function that loads in a directory of circuit files. Note that the directory we target has up to 3 versions of each circuit:\n",
    "\n",
    "* circuit_before   - This is the original circuit with any modifications, taken from the [Github page](https://github.com/njross/optimizer) of [[1]](#NRSCM)\n",
    "* circuit_after    - This is the circuit produced by the optimization routines of [[1]](#NRSCM).\n",
    "* circuit_tpar.qc  - This is the circuit produced by the Tpar algorithm [[2]](#Tpar).\n",
    "  \n",
    "<a id=\"NRSCM\"></a>\n",
    "[1] [Nam, Ross, Su, Childs, Maslov - Automated optimization of large quantum circuits with continuous parameters](https://www.nature.com/articles/s41534-018-0072-4)\n",
    "\n",
    "<a id=\"Tpar\"></a>\n",
    "[2] [Amy, Maslov, Mosca - Polynomial-time T-depth Optimization of Clifford+T circuits via Matroid Partitioning](https://arxiv.org/abs/1303.2042)"
   ]
  },
  {
   "cell_type": "code",
   "execution_count": 38,
   "metadata": {},
   "outputs": [],
   "source": [
    "def load_circuits(directory):\n",
    "    d = directory\n",
    "    beforefiles = []\n",
    "    afterfiles = []\n",
    "    tparfiles = []\n",
    "    for f in os.listdir(d):\n",
    "        if not os.path.isfile(os.path.join(d,f)): continue\n",
    "        if f.find('before') != -1:\n",
    "            beforefiles.append((f,d))\n",
    "        elif f.find('tpar') != -1:\n",
    "            tparfiles.append((f,d))\n",
    "        elif f.find('.qc') != -1 or f.find('.tfc') != -1:\n",
    "            beforefiles.append((f,d))\n",
    "        else: afterfiles.append((f,d))\n",
    "    \n",
    "    circuits = []\n",
    "    for f, d in beforefiles:\n",
    "        if f.find('before') == -1:\n",
    "            n = os.path.splitext(f)[0]\n",
    "        else: n = f[:-7]\n",
    "        for f2,d2 in afterfiles:\n",
    "            if d!=d2: continue\n",
    "            if f2.startswith(n):\n",
    "                c = CircuitComparer(d, f, f2)\n",
    "                circuits.append(c)\n",
    "                break\n",
    "        else:\n",
    "            c = CircuitComparer(d, f, '')\n",
    "            circuits.append(c)\n",
    "        for f2,d2 in tparfiles:\n",
    "            if d!=d2: continue\n",
    "            if f2.startswith(n):\n",
    "                circuits[-1].fname_tpar = os.path.join(d2,f2)\n",
    "    \n",
    "    return circuits\n"
   ]
  },
  {
   "cell_type": "markdown",
   "metadata": {},
   "source": [
    "The directory we target contains a subset of all benchmark circuits, chosen for given quick results. The following cell giving benchmark results of these circuits should therefore only take a few seconds to run. For the benchmarks of slower circuits see [below](#slowbench).\n",
    "The columns have the following meaning:\n",
    "\n",
    "* `Circuit     ` - The name of the circuit\n",
    "* `qubits      ` - Amount of qubits in the circuit\n",
    "* `G-count     ` - Gate count of original circuit\n",
    "* `T-before    ` - Amount of T-gates in original circuit\n",
    "* `2Q-before   ` - Amount of 2-qubit (e.g. CNOT) gates in original circuit\n",
    "* `T-NRSCM     ` - Amount of T-gates in optimised circuit of [[1]](#NRSCM)\n",
    "* `T-par       ` - Amount of T-gates in optimised circuit of [[2]](#Tpar)\n",
    "* `T-PyZX      ` - Amount of T-gates in optimised circuit made by PyZX\n",
    "* `2Q-PyZX     ` - Amount of 2-qubit gates after PyZX teleport-reduce\n",
    "* `2Q-PyZX-f   ` - Amount of 2-qubit gates after PyZX full-reduce and circuit extraction\n",
    "* `Time-Simp   ` - The time taken for running the simplification routine on the circuit\n",
    "* `Time-Extract` - The time taken for extracting the circuit after the simplification\n",
    "\n",
    "Rows are marked `*` where full-reduce/extract reduces 2-qubit gate count vs. original and `+` where full-reduce/extract reduces 2-qubit gate count vs. teleport-reduce. \n",
    "\n",
    "Note that not all circuits were present in the papers [[1]](#NRSCM) and [[2]](#Tpar) in which case the relevant columns are empty."
   ]
  },
  {
   "cell_type": "code",
   "execution_count": 39,
   "metadata": {},
   "outputs": [],
   "source": [
    "dir_fast_circuits = os.path.join('..', 'circuits', 'Fast')\n",
    "fast_circuits = load_circuits(dir_fast_circuits)"
   ]
  },
  {
   "cell_type": "code",
   "execution_count": 40,
   "metadata": {
    "scrolled": false
   },
   "outputs": [
    {
     "name": "stdout",
     "output_type": "stream",
     "text": [
      "Circuit              qubits G-count T-before 2Q-before T-NRSCM  T-par  T-PyZX 2Q-PyZX 2Q-PyZX-f Time-Simp Verified\n",
      "rc_adder_6               14     200       77        93     47      63      47      75       103       0.07       -\n",
      "grover_5.qc               9     831      336       288      -      52     166     248       292       0.24       -\n",
      "adder_8*                 24     900      399       409    215     215     173     339       397       0.37       -\n",
      "gf2^5_mult               15     379      175       154    115     111     115     154       458       0.08       -\n",
      "csum_mux_9_corrected     30     448      196       168     84       -      84     168       305       0.09       -\n",
      "qcla_adder_10            36     521      238       233    162     162     162     199       355       0.13       -\n",
      "gf2^10_mult              30    1509      700       609    410     410     410     609      2454       0.44       -\n",
      "barenco_tof_4             7     114       56        48     28      28      28      44        53       0.02       -\n",
      "gf2^9_mult               27    1223      567       494    351     351     351     494      1781       0.36       -\n",
      "tof_5                     9     105       49        42     31      31      31      36        55       0.02       -\n",
      "tof_3                     5      45       21        18     15      15      15      16        25       0.01       -\n",
      "Adder8*+                 23     637      266       243     56       -      56     199       149       0.25       -\n",
      "qcla_com_7               24     443      203       186     95      95      95     148       222       0.11       -\n",
      "mod_red_21               11     278      119       105     73      73      73      93       153       0.07       -\n",
      "vbe_adder_3              10     150       70        70     24      24      24      52        77       0.03       -\n",
      "barenco_tof_5             9     170       84        72     40      40      40      66        80       0.04       -\n",
      "tof_4                     7      75       35        30     23      23      23      26        45       0.01       -\n",
      "gf2^6_mult               18     545      252       221    150     150     150     221       705       0.13       -\n",
      "gf2^7_mult               21     741      343       300    217     217     217     300      1203       0.18       -\n",
      "barenco_tof_3             5      58       28        24     16      16      16      22        33       0.01       -\n",
      "mod_mult_55               9     119       49        48     35      37      35      42        95       0.03       -\n",
      "gf2^4_mult               12     243      112        99     68      68      68      99       267       0.10       -\n",
      "ham15-low.qc             17     443      161       236      -       -      97     238       274       0.20       -\n",
      "qft_4.qc                  5     179       69        46      -       -      67      45        52       0.03       -\n",
      "hwb6.qc                   7     259      105       116      -       -      75     105       134       0.07       -\n",
      "csla_mux_3_original      15     170       70        80     64       -      62      75       137       0.04       -\n",
      "tof_10                   19     255      119       102     71      71      71      86       140       0.05       -\n",
      "QFTAdd8                  16     476      252       184    112       -     112     184       246       0.09       -\n",
      "barenco_tof_10           19     450      224       192    100     100     100     176       210       0.11       -\n",
      "mod5_4*                   5      63       28        28     16      16       8      27        27       0.01       -\n",
      "qcla_mod_7               26     884      413       382    235     249     237     324       666       0.38       -\n",
      "nth_prime6.tfc            9    1241      567       502      -       -     279     421       539       0.64       -\n",
      "QFT16                    16     586      342       228    144       -     144     228       335       0.10       -\n",
      "QFT8                      8     148       84        56     42       -      42      56        94       0.02       -\n",
      "gf2^8_mult               24     981      448       405    264     264     264     405      1448       0.37       -\n"
     ]
    }
   ],
   "source": [
    "print(\"Circuit\".ljust(20), \"qubits\", \"G-count\", \"T-before\", \"2Q-before\", \"T-NRSCM\", \" T-par\", \" T-PyZX\", \"2Q-PyZX\", \"2Q-PyZX-f\" \" Time-Simp\",\"Verified\")\n",
    "for c in fast_circuits:\n",
    "    print(c.get_output(validate=False))"
   ]
  },
  {
   "cell_type": "code",
   "execution_count": 15,
   "metadata": {},
   "outputs": [],
   "source": [
    "for c in fast_circuits:\n",
    "    try: c.save()\n",
    "    except TypeError: continue"
   ]
  },
  {
   "cell_type": "markdown",
   "metadata": {},
   "source": [
    "<a id=\"slowbench\"></a>\n",
    "And now we do the benchmark on the slower circuits. Note that this can take up to half an hour to complete."
   ]
  },
  {
   "cell_type": "code",
   "execution_count": 41,
   "metadata": {},
   "outputs": [],
   "source": [
    "dir_slow_circuits = os.path.join('..', 'circuits', 'Slow')\n",
    "slow_circuits = load_circuits(dir_slow_circuits)"
   ]
  },
  {
   "cell_type": "code",
   "execution_count": 42,
   "metadata": {},
   "outputs": [
    {
     "name": "stdout",
     "output_type": "stream",
     "text": [
      "Circuit              qubits G-count T-before 2Q-before T-NRSCM  T-par  T-PyZX 2Q-PyZX 2Q-PyZX-f Time-Simp Verified\n",
      "Adder16*+                47    1437      602       547    120       -     120     433       310       0.54       -\n",
      "gf2^16_mult              48    3885     1792      1581   1040    1040    1040    1581      6498       3.15       -\n",
      "ham15-med.qc*            17    1272      574       534      -       -     212     457       520       1.11       -\n",
      "hwb8.qc                  12   14856     5887      7129      -       -    3517    6230      8394      35.80       -\n",
      "nth_prime8.tfc           12   16968     6671      8235      -       -    4047    7213      9067      38.61       -\n",
      "ham15-high.qc*           20    5308     2457      2149      -       -    1019    1832      2138       7.97       -\n",
      "Adder64*+               191    6237     2618      2371    504       -     504    1921      1415       5.66       -\n",
      "mod_adder_1024           28    4285     1995      1720   1011    1011    1011    1426      2422       2.80       -\n",
      "QFT32                    32    1562      918       612    368       -     368     612       803       0.34       -\n",
      "QFTAdd16                 32    1822     1026       716    402       -     402     716       946       0.71       -\n",
      "QFTAdd32                 64    4814     2754      1900   1042       -    1042    1900      2480       2.42       -\n",
      "Adder32*+                95    3037     1274      1155    248       -     248     925       692       1.63       -\n"
     ]
    }
   ],
   "source": [
    "print(\"Circuit\".ljust(20), \"qubits\", \"G-count\", \"T-before\", \"2Q-before\", \"T-NRSCM\", \" T-par\", \" T-PyZX\", \"2Q-PyZX\", \"2Q-PyZX-f\" \" Time-Simp\",\"Verified\")\n",
    "for c in slow_circuits:\n",
    "    print(c.get_output(validate=False))"
   ]
  },
  {
   "cell_type": "code",
   "execution_count": 26,
   "metadata": {},
   "outputs": [],
   "source": [
    "for c in slow_circuits:\n",
    "    try: c.save()\n",
    "    except TypeError: continue"
   ]
  }
 ],
 "metadata": {
  "kernelspec": {
   "display_name": "Python 3",
   "language": "python",
   "name": "python3"
  },
  "language_info": {
   "codemirror_mode": {
    "name": "ipython",
    "version": 3
   },
   "file_extension": ".py",
   "mimetype": "text/x-python",
   "name": "python",
   "nbconvert_exporter": "python",
   "pygments_lexer": "ipython3",
   "version": "3.8.2"
  }
 },
 "nbformat": 4,
 "nbformat_minor": 2
}
